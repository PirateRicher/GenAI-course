{
 "cells": [
  {
   "cell_type": "markdown",
   "id": "0",
   "metadata": {},
   "source": [
    "# Fine-tune a Model and Evaluate it using ROUGE Metrics\n",
    "\n",
    "* Make sure you change the kernel to **PyTorch 2.6** to test the notebook\n",
    "* We mark **TODO** in the notebook cells to indicate the place where you need to complete the missing code. You can refer to the exercises in the course repository for code examples."
   ]
  },
  {
   "cell_type": "markdown",
   "id": "1",
   "metadata": {},
   "source": [
    "## Install necessary packages\n",
    "\n",
    "This is a onestep process to install necessary bitsandbytes(Alpha release) for the notebook.\n",
    "1. Run below cell uncommenting the installation commands, after successful installation, comment back again.\n",
    "2. Now Restart the kernel. `Kernel->Restart Kernel`\n",
    "3. Now run the cells normally."
   ]
  },
  {
   "cell_type": "code",
   "execution_count": 1,
   "id": "2",
   "metadata": {
    "scrolled": true
   },
   "outputs": [],
   "source": [
    "# import sys\n",
    "# import os\n",
    "# import site\n",
    "# from pathlib import Path\n",
    "\n",
    "# !echo \"Installation in progress, please wait...\"\n",
    "# !{sys.executable} -m pip cache purge > /dev/null\n",
    "\n",
    "# %pip install --user --upgrade transformers datasets trl peft accelerate scipy sentencepiece ipywidgets evaluate rouge_score --no-warn-script-location\n",
    "\n",
    "# !echo \"Installation completed.\"\n",
    "\n",
    "# # Get the site-packages directory\n",
    "# site_packages_dir = site.getsitepackages()[0]\n",
    "\n",
    "# # add the site pkg directory where these pkgs are insalled to the top of sys.path\n",
    "# if not os.access(site_packages_dir, os.W_OK):\n",
    "#     user_site_packages_dir = site.getusersitepackages()\n",
    "#     if user_site_packages_dir in sys.path:\n",
    "#         sys.path.remove(user_site_packages_dir)\n",
    "#     sys.path.insert(0, user_site_packages_dir)\n",
    "# else:\n",
    "#     if site_packages_dir in sys.path:\n",
    "#         sys.path.remove(site_packages_dir)\n",
    "#     sys.path.insert(0, site_packages_dir)"
   ]
  },
  {
   "cell_type": "markdown",
   "id": "3",
   "metadata": {},
   "source": [
    "## Import necessary packages"
   ]
  },
  {
   "cell_type": "code",
   "execution_count": 2,
   "id": "4",
   "metadata": {},
   "outputs": [
    {
     "name": "stderr",
     "output_type": "stream",
     "text": [
      "Using the `WANDB_DISABLED` environment variable is deprecated and will be removed in v5. Use the --report_to flag to control the integrations used for logging result (for instance --report_to none).\n"
     ]
    }
   ],
   "source": [
    "import torch\n",
    "import os\n",
    "\n",
    "os.environ[\"WANDB_DISABLED\"] = \"true\"\n",
    "import transformers\n",
    "from transformers import AutoTokenizer\n",
    "from peft import LoraConfig\n",
    "from transformers import BitsAndBytesConfig, AutoModelForCausalLM\n",
    "from peft import get_peft_model, prepare_model_for_kbit_training\n",
    "from datasets import load_dataset\n",
    "from trl import SFTTrainer, SFTConfig\n",
    "from evaluate import load"
   ]
  },
  {
   "cell_type": "markdown",
   "id": "5",
   "metadata": {},
   "source": [
    "## Login to HuggingFace"
   ]
  },
  {
   "cell_type": "code",
   "execution_count": 3,
   "id": "6",
   "metadata": {},
   "outputs": [
    {
     "data": {
      "application/vnd.jupyter.widget-view+json": {
       "model_id": "5028dd98737541929aff81773119820f",
       "version_major": 2,
       "version_minor": 0
      },
      "text/plain": [
       "VBox(children=(HTML(value='<center> <img\\nsrc=https://huggingface.co/front/assets/huggingface_logo-noborder.sv…"
      ]
     },
     "metadata": {},
     "output_type": "display_data"
    }
   ],
   "source": [
    "from huggingface_hub import notebook_login\n",
    "notebook_login()"
   ]
  },
  {
   "cell_type": "markdown",
   "id": "7",
   "metadata": {},
   "source": [
    "## Load Gemma-2-2b-it Model from HuggingFace Hub"
   ]
  },
  {
   "cell_type": "code",
   "execution_count": 4,
   "id": "8",
   "metadata": {},
   "outputs": [
    {
     "data": {
      "application/vnd.jupyter.widget-view+json": {
       "model_id": "1ef1ad4aee1440b3ad2e663b70f217a5",
       "version_major": 2,
       "version_minor": 0
      },
      "text/plain": [
       "Loading checkpoint shards:   0%|          | 0/2 [00:00<?, ?it/s]"
      ]
     },
     "metadata": {},
     "output_type": "display_data"
    }
   ],
   "source": [
    "model_path = \"google/gemma-2-2b-it\"\n",
    "\n",
    "# TODO: create tokenizer using AutoTokenizer class\n",
    "# tokenizer = ...\n",
    "tokenizer = AutoTokenizer.from_pretrained(model_path)\n",
    "\n",
    "model = AutoModelForCausalLM.from_pretrained(model_path,\n",
    "                                             attn_implementation='eager',\n",
    "                                             device_map=\"auto\")\n"
   ]
  },
  {
   "cell_type": "markdown",
   "id": "9",
   "metadata": {},
   "source": [
    "## Load, Format, and Split Dataset"
   ]
  },
  {
   "cell_type": "code",
   "execution_count": 5,
   "id": "10",
   "metadata": {},
   "outputs": [],
   "source": [
    "def process_dataset(sample):\n",
    "    messages = [\n",
    "        {\"role\": \"user\", \"content\": f\"Instruction:\\nSummarize the following article.\\n\\nInput:\\n{sample['Articles']}\"},\n",
    "        {\"role\": \"assistant\", \"content\": sample['Summaries']}\n",
    "    ]\n",
    "    sample = tokenizer.apply_chat_template(messages, tokenize=True, return_dict=True)\n",
    "    return sample\n",
    "\n",
    "dataset = load_dataset(\"gopalkalpande/bbc-news-summary\", split=\"train\")\n",
    "dataset = dataset.map(process_dataset)\n",
    "\n",
    "split_dataset = dataset.train_test_split(test_size=0.1, seed=99)\n",
    "train_dataset = split_dataset[\"train\"]\n",
    "validation_dataset = split_dataset[\"test\"]"
   ]
  },
  {
   "cell_type": "markdown",
   "id": "11",
   "metadata": {},
   "source": [
    "## Evaluate Base Model Summaries using ROUGE Metric"
   ]
  },
  {
   "cell_type": "code",
   "execution_count": 6,
   "id": "12",
   "metadata": {},
   "outputs": [
    {
     "name": "stdout",
     "output_type": "stream",
     "text": [
      "----------------------------------------------------------------------------------------------------\n",
      "Abstract: Immigration and asylum have normally been issues politicians from the big parties have tiptoed around at election time.But, while all the parties appear to agree the time has come to properly debate and address the issue, there are already signs they will run into precisely the same problems as before.Labour has already branded the proposal unworkable but party strategists have seen the Tories seizing a poll advantage over the issue.Former union leader Sir Bill Morris has already accused both the big parties of engaging in a \"bidding war about who can be nastiest to asylum seekers\".The challenge for the big parties is to ensure they can engage in the debate during the cut and thrust of a general election while also avoiding that trap.That has been attacked by the Tories as too little, too late and for failing to tackle the key issue of the numbers entering the UK.That was also true at the last general election and the issue did briefly become a campaigning issue.\n",
      "----------------------------------------------------------------------------------------------------\n",
      "Model Summary: Immigration is becoming a central issue in the upcoming UK general election, with both Labour and the Tories signaling\n",
      "----------------------------------------------------------------------------------------------------\n",
      "Abstract: Labour may have abolished hunting - but that didn't stop Chancellor Gordon Brown using his Budget to fire both barrels at some of the opposition parties' core election foxes.And in Labour circles there will undoubtedly be an argument over just how good a prime minister Gordon Brown will make at some point after the next election.He did it most obviously with his increase in national insurance contributions after the 2001 election campaign during which he had pledged not to increase income tax.As always, they accused him of glossing over the facts of the \"black hole\" at the centre of his finances which, they claim, would ensure tax increases after the election.Labour MPs, for example, will undoubtedly now engage in a debate over exactly how redistributive - a lovely Old Labour word - this chancellor really is.So if you are a couple with children, a pensioner, a patient or a youngster, there was something pulled from Mr Brown's red box in an attempt to persuade you to stick with or switch to a New Labour government.Tory leader Michael Howard said the chancellor was up to his old trick of deliberately re-casting his forecasts to give the illusion that everything in the Treasury larder is as fresh as the day it was first stored away for future use.Specifically, it saw him attempting to slaughter the council tax as an election issue and to tear limb from limb their wider policies for pensioners and families.\n",
      "----------------------------------------------------------------------------------------------------\n",
      "Model Summary: This article analyzes Chancellor Gordon Brown's Budget speech, focusing on his attempts to use it as a\n",
      "----------------------------------------------------------------------------------------------------\n",
      "Abstract: Many feel that the most difficult and challenging area for the Commission will be to identify a solution for different Digital Rights Management (DRM) schemes.They have identified that many groups have defined the forms of digital media in the areas that NEM encompasses.How people receive their digital entertainment in the future could change, following the launch of an ambitious European project.The Commission wants people to be able to locate the content they desire and have it delivered seamlessly, when on the move, at home or at work, no matter who supplies the devices, network, content, or content protection scheme.What is significant is that such a large and powerful organisation has stated its desire for digital formats to be open to all and work on any gadget.Simon Perry is the editor of the Digital Lifestyles website, which covers the impact of technology on mediaThe 10-year plan brings together the work of many currently running research projects that the EC has been funding for a number of years.The European Commission is being pragmatic in its approach.\n",
      "----------------------------------------------------------------------------------------------------\n",
      "Model Summary: The European Commission launched the Networked & Electronic Media (NEM) initiative, aiming to create a seamless\n",
      "----------------------------------------------------------------------------------------------------\n",
      "Abstract: \"Of course I was a bit tired in the second set.\"I play my best tennis when I am fired up on the court and the reason I won today was because I was able to play my natural, attacking game,\" he said.Monfils, who was given a wildcard into the tournament, said: \"This is my first win over a top 10 player and I am delighted.But I was confident I could survive had there been a third set.\"\n",
      "----------------------------------------------------------------------------------------------------\n",
      "Model Summary: French prodigy Gael Monfils, an 18-year-old wild card, defeated French Open\n",
      "----------------------------------------------------------------------------------------------------\n",
      "Abstract: Ms Clarkson's legal action, filed in Los Angeles Superior Court, also accuses Mr Spector of negligence and battery, alleging he \"grabbed, hit, fought with and restrained\" Lana Clarkson before shooting her to death.The legal action accuses Mr Spector of murdering the actress at his LA home.\"However, Ms Clarkson and her family understand that the fair administration of justice takes time and in light of the numerous changes Mr Spector has made in his legal defence team over the last two years, Ms Clarkson was forced to file the action before (the statute of limitations expired) on 3 February 2005.\"Mr Spector, known for his work with the Beatles, has claimed that Lana Clarkson committed suicide.Music producer Phil Spector is facing legal action from the mother of the actress he has been accused of killing.Donna Clarkson, whose daughter Lana was found dead in Mr Spector's home in February 2003, is seeking unspecified damages in a civil action.\n",
      "----------------------------------------------------------------------------------------------------\n",
      "Model Summary: Phil Spector, the music producer, is facing a civil lawsuit from the mother of Lana Clarkson, the\n",
      "----------------------------------------------------------------------------------------------------\n",
      "Abstract: The system is not available commercially yet, but Motorola, the US mobile handset and infrastructure maker, held a clinic for mobile operators on HSDPA (High Speed Downlink Packet Access), a high-speed, high bandwidth technology available now.Using technology from Lucent, it will offer data speeds of 3.6Mbps from next summer on its Isle of Man 3G network, and will eventually support speeds of up to 14.4Mbps.At 3GSM, Siemens showed off a system that transmits faster mobile data.But some mobile operators are opting for a technology called Evolution, Data Optimised (EV-DO).The speeds offered by3G mobile seemed fast at the time mobile operators were paying huge sums for 3G licences.The German company said data could be transmitted at one gigabit a second - up to 20 times faster than current 3G networks.Siemens' plans for a one gigabit network may be more than a user needs today, but Christoph Caselitz, president of the mobile networks division at the firm says that: \"By the time the next generation of mobile communication debuts in 2015, the need for transmission capacities for voice, data, image and multimedia is conservatively anticipated to rise by a factor of 10.\"Siemens - in collaboration with the Fraunhofer German-Sino Lab for Mobile Communications and the Institute for Applied Radio System Technology - has souped up mobile communications by using three transmitting and four receiving antennae, instead of the usual one.Motorola has conducted five trials of its technology and says speeds of 2.9Mbps have been recorded at the edge of an outdoor 3G cell using a single HSDPA device.Fast 3G networks are here but the focus has shifted to their evolution into a higher bandwidth service, says the Global Mobile Suppliers Association.\"High-Speed Downlink Packet Access (HSDPA) - sometimes called Super 3G - will be vital for profitable services like mobile internet browsing and mobile video clips,\" according to a report published by UK-based research consultancy Analysys.US operator Sprint ordered a broadband data upgrade to its 3G network at the end of last year.MMO2, the UK-based operator with services in the UK, Ireland and Germany, has opted for technology based on the High Speed Downlink Packet Access (HSDPA) standard.\n",
      "----------------------------------------------------------------------------------------------------\n",
      "Model Summary: The article discusses the need for faster mobile networks to keep up with the demands of modern users. While\n",
      "----------------------------------------------------------------------------------------------------\n",
      "Abstract: Russian oil firm Yukos lied to a US court in an attempt to stop the Russian government selling off its key production unit, the court has heard.Yukos argued that since it had a US subsidiary and local bank accounts, the US court could declare it bankrupt and stop the auction of Yugansk.But Deutsche Bank - itself a target of a Yukos lawsuit - said documents had been backdated to strengthen the case.Analysts have questioned whether a US court has any jurisdiction over Russian companies, while Moscow officials have dismissed Yukos' legal wrangling as meaningless.Its lawyer, Hugh Ray, told the court that Yukos had claimed it had transferred $27m into two Texas bank accounts opened by its new US subsidiary.Yukos chief financial officer Bruce Misamore, who had moved to the US in early December to set up Yukos USA, acknowledged the point.Deutsche Bank is involved in the case because it is itself being sued by Yukos.Yukos maintains that it filed for bankruptcy in the US because it feared it would not be able to do so in Russia.It had agreed to loan to an arm of Russian state gas firm Gazprom the money to bid for Yuganskneftegaz, as the Yukos unit is formally known.By doing so, he said, the firm had intended to reinforce its US presence - and thus its chances of getting its case heard in US courts.\n",
      "----------------------------------------------------------------------------------------------------\n",
      "Model Summary: The article details a legal battle between Russian oil firm Yukos and various entities, including Deutsche Bank,\n",
      "----------------------------------------------------------------------------------------------------\n",
      "Abstract: The Countryside Alliance says it expects up to 4,000 supporters to demonstrate against the hunting ban.Pro-hunt supporters formally launched their second legal challenge to the ban in London's High Court on Thursday.Richard Dodd, regional director of the Countryside Alliance, said he expected between 2,000 and 4,000 supporters in Tyneside to make their protest, with hunt horns and placards.Animal welfare groups have welcomed the ban, many of whom have campaigned for a ban for decades saying hunting is cruel and unnecessary.The High Court last month ruled the act was valid and the proposed hunting ban was lawful.Pro-hunt supporters are set to protest at Labour's spring conference.Mr Dodd said he did not believe there would be any repeat of the trouble which marred the pro-hunt demonstration outside Parliament in September.A bid to overturn the law banning hunting with dogs in England and Wales has begun in the Court of Appeal.\n",
      "----------------------------------------------------------------------------------------------------\n",
      "Model Summary: Pro-hunt supporters are planning a large demonstration at Labour's spring conference in Gateshead, expected\n",
      "----------------------------------------------------------------------------------------------------\n",
      "Abstract: India's mobile gaming market will bring in about $336m (£178m) by 2009, according to the report.In January 2003, there were only 10 million mobile subscribers in India.The Indian mobile gaming market is expected to generate about $26m (£13.8m) by the end of 2004, according to market analysts In-Stat/MDR.\"Mobile gaming is not just about fun; it also represents one key element of a rich mobile entertainment experience for consumers, and a lucrative market opportunity for industry players.\"According to In-Stat/MDR, it is tipped to make up one of the most important markets in the next wave of mobile multimedia growth.Less than 20% of India's total population own a mobile in India, compared to well over 50% in most European countries.Mobile gaming is expected to explode globally over the next few years.Currently, India has six big games developers and four mobile operators that offer games to their subscribers, said the report.\n",
      "----------------------------------------------------------------------------------------------------\n",
      "Model Summary: The Indian mobile gaming market is experiencing explosive growth, projected to reach $336 million by \n",
      "----------------------------------------------------------------------------------------------------\n",
      "Abstract: Delta Air Lines is cutting domestic fares by as much as 50% as part of a plan to ensure its financial survival.Airline shares closed lower on the announcement, with Delta, Continental and American Airlines all falling by more than 7%.Delta, which lost $646m in the three months to September, was forced to cut 6,900 jobs worldwide as part of its aim to slash $5bn from its costs.The airline says no one-way economy fare will now be priced higher than $499 (£264), and no first-class fare will be priced higher than $599.It is also eliminating a Saturday-night stay requirement on discount fares and will give further reductions to customers opting for non-refundable tickets, booking in advance and online.\n",
      "----------------------------------------------------------------------------------------------------\n",
      "Model Summary: Delta Air Lines is slashing domestic fares by up to 50% as part of a survival plan\n",
      "----------------------------------------------------------------------------------------------------\n",
      "Abstract: The UK has welcomed the decision by India and Pakistan to open a bus link across the ceasefire line dividing the disputed region of Kashmir.\"This will make a real difference to the lives of Kashmiris on both sides of the Line of Control,\" he said.Mr Straw said he hoped the agreement would make a difference to Kashmiris.In a statement, Mr Straw said the bus service between Srinagar and Muzaffarabad \"will be able to reunite families that have been divided for decades\".Kashmiri politicians on both sides of the Line of Control which divides the region welcomed the move.On Thursday Mr Straw was in India visiting Sikhism's holiest shrine, the Golden Temple in Amritsar where he tried his hand at making Indian bread or roti.\n",
      "----------------------------------------------------------------------------------------------------\n",
      "Model Summary: The UK Foreign Secretary, Jack Straw, has welcomed the decision by India and Pakistan to open a bus\n",
      "----------------------------------------------------------------------------------------------------\n",
      "Abstract: Rangers had rarely threatened until Celtic goalkeeper Rab Douglas let defender Vignal's 25-yard drive slip through his grasp and into the net.Hartson foxed Vignal at the edge of the Rangers box, but the striker's shot on the turn was again beaten away by Waterreus.But Rangers found Celtic harder to break down and Douglas was not threatened until 10 minutes after the break.: Waterreus, Hutton, Kyrgiakos, Andrews, Ball, Buffel, Ferguson, Ricksen, Vignal, Prso, Novo.Opposite number Ronald Waterreus had been Rangers' hero, saving superbly from Craig Bellamy and John Hartson.Dado Prso turned inside Neil Lennon only for the Celtic goalkeeper to beat away his powerful 18-yard drive.Goals from Gregory Vignal and Nacho Novo gave Rangers a scrappy victory at Celtic Park that moves them three points clear of the champions.: Douglas, McNamara, Balde, Varga, Laursen, Petrov, Lennon, Sutton, Thompson, Bellamy, Hartson.It took Bellamy just four minutes to threaten, taking on Marvin Andrews before delivering a low drive that was held by Waterreus at the second attempt.Rangers were beginning to dominate the midfield and Vignal, collecting a knock back from Fernando Ricksen, broke the deadlock, Douglas somehow letting the Frenchman's dipping drive slip through his grasp.\n",
      "----------------------------------------------------------------------------------------------------\n",
      "Model Summary: Rangers secured a 2-0 victory over Celtic in the Old Firm derby, moving them three points\n",
      "----------------------------------------------------------------------------------------------------\n",
      "Abstract: The trend shows that gaming is not just about big-hitting, games console titles, which appeal more to \"hardcore\" gamers, said a panel of experts.This aspect of \"community\" is crucial for gamers who just want to have quick access to free or cheap games without committing long periods of time immersed in £30 to £40 console or PC titles, said the panel.Key to these types of titles is the chance they give people who may not see themselves as gamers to dip in and out of games when they liked.Casual games like poker, pool, bridge, bingo and puzzle-based titles, which can be played online or downloaded onto mobile devices, were \"gender neutral\" and different genres attracted different players.But hardcore gamers who are more attracted to blockbuster gamers which usually require hi-spec PCs, like Half-Life 2, or Halo 2 on Xbox, also liked to have a different type of gaming experience.With more people finding more to do with their gadgets and high-speed connections, casual games would start to open up the world of gaming as a form of mass-market entertainment to more people.\"When hardcore gamers are not playing Halo, they are playing poker and pool, based on our research,\" said Geoff Graber, director of Yahoo Games, which attracts about 12 million gamers a month.Portal sites which offer casual games, like AOL, Yahoo, and RealArcade, as well as other games-on-demand services, allow people to build up buddy lists so they can return and play against the same people.\n",
      "----------------------------------------------------------------------------------------------------\n",
      "Model Summary: The article discusses the growing popularity of \"casual gaming\" in 2005.  Experts\n",
      "----------------------------------------------------------------------------------------------------\n",
      "Abstract: The BDO optimism index - a leading indicator of GDP growth two quarters ahead edged up in January to 102.5, from 102.2 in October.The only thing blighting business optimism this year will be uncertainties associated with the general election, BDO said.\"The UK is looking strong going into the general election, but businesses need to prepare themselves for a jolt ahead as the Bank of England reacts to growth and inflationary pressures,\" said Peter Hemington, partner at BDO Stoy Hayward.Optimism is at its highest since 1997 and business will reap the benefits of a continuing rise in public spending, say researchers at BDO Stoy Hayward.UK businesses are set to prosper during the next few months - but this could trigger more interest rate rises, according to a report.\n",
      "----------------------------------------------------------------------------------------------------\n",
      "Model Summary: The UK economy is showing strong signs of growth heading into the general election in May, with business optimism\n",
      "----------------------------------------------------------------------------------------------------\n",
      "Abstract: The US stock market regulator is investigating troubled insurance broker Marsh & McLennan's shareholder transactions, the firm has said.Marsh has said it is co-operating fully with the SEC investigation.Marsh is also the focus of an inquiry the New York attorney-general into whether insurers rigged the market.Since that inquiry was launched in October, Marsh has replaced its chief executive and held a boardroom shake-out to meet criticism by lessening the number of company executives on the board.Prosecutors allege that Marsh - the world's biggest insurance broker - and other US insurance firms may have fixed bids for corporate cover.The uncertainty unleashed by the scandal has prompted three credit rating agencies - Standard & Poor's, Moody's and Fitch - to downgrade Marsh in recent weeks.\n",
      "----------------------------------------------------------------------------------------------------\n",
      "Model Summary: Marsh & McLennan, the world's largest insurance broker, is under intense scrutiny from both the\n",
      "----------------------------------------------------------------------------------------------------\n",
      "{'rouge1': np.float64(0.11724384600566001), 'rouge2': np.float64(0.052597940149552394), 'rougeL': np.float64(0.0923438405587728), 'rougeLsum': np.float64(0.0931624970754739)}\n",
      "----------------------------------------------------------------------------------------------------\n"
     ]
    }
   ],
   "source": [
    "rouge = load('rouge')\n",
    "\n",
    "# initialize lists of predictions and references later used to compute rouge scores\n",
    "predictions = []\n",
    "references = []\n",
    "\n",
    "# iterate through the first 15 samples\n",
    "for article, abstract in zip(validation_dataset[\"Articles\"][:15], validation_dataset[\"Summaries\"][:15]):\n",
    "    messages = [\n",
    "        {\"role\": \"user\", \"content\": f\"Instruction:\\nSummarize the following article.\\n\\nInput:\\n{article}\"},\n",
    "    ]\n",
    "    input_ids = tokenizer.apply_chat_template(messages,\n",
    "                                              tokenize=True,\n",
    "                                              add_generation_prompt=True,\n",
    "                                              return_tensors=\"pt\").to(\"xpu\")\n",
    "    \n",
    "    # TODO: perform model inference using the tokens in ``input_ids''\n",
    "    output = model.generate(input_ids)\n",
    "    \n",
    "     \n",
    "    # Remove input prompt from output\n",
    "    prompt_length = input_ids.shape[1]\n",
    "    answer = tokenizer.decode(output[0][prompt_length:], skip_special_tokens=True)\n",
    "    \n",
    "    # TODO: add one answer to the ``predictions'' list, which is later passed to rouge compute\n",
    "    # \n",
    "    # TODO: add one abstract to the ``references'' list, which is later passed to rouge compute\n",
    "    # \n",
    "    predictions.append(answer)\n",
    "    references.append(abstract)\n",
    "\n",
    "    \n",
    "    print(100*'-')\n",
    "    print(\"Abstract:\", abstract)\n",
    "    print(100*'-')\n",
    "    print(\"Model Summary:\", answer)\n",
    "\n",
    "print(100*'-')\n",
    "# TODO: compute and print out the rouge scores including rouge1, rouge2, rougeL and rougeLsum\n",
    "# TODO: you can refer to the exercise that computes rouge scores\n",
    "# print(...)\n",
    "rouge_scores = rouge.compute(predictions=predictions, references=references)\n",
    "print(rouge_scores)\n",
    "\n",
    "\n",
    "print(100*'-')\n"
   ]
  },
  {
   "cell_type": "markdown",
   "id": "13",
   "metadata": {},
   "source": [
    "## Run the SFTTrainer to Fine-tune Model"
   ]
  },
  {
   "cell_type": "code",
   "execution_count": 7,
   "id": "7e336b58-7a29-4b8b-a73c-fd3a68d60565",
   "metadata": {},
   "outputs": [
    {
     "name": "stderr",
     "output_type": "stream",
     "text": [
      "/home/uc221cfdf48c39da853b0e8362a90c40/.local/lib/python3.10/site-packages/transformers/training_args.py:1611: FutureWarning: `evaluation_strategy` is deprecated and will be removed in version 4.46 of 🤗 Transformers. Use `eval_strategy` instead\n",
      "  warnings.warn(\n",
      "Using the `WANDB_DISABLED` environment variable is deprecated and will be removed in v5. Use the --report_to flag to control the integrations used for logging result (for instance --report_to none).\n"
     ]
    },
    {
     "name": "stdout",
     "output_type": "stream",
     "text": [
      "Finetuning for max number of steps: 125\n"
     ]
    },
    {
     "name": "stderr",
     "output_type": "stream",
     "text": [
      "No label_names provided for model class `PeftModelForCausalLM`. Since `PeftModel` hides base models input arguments, if label_names is not given, label_names can't be set automatically within `Trainer`. Note that empty label_names list will be used instead.\n"
     ]
    },
    {
     "data": {
      "text/html": [
       "\n",
       "    <div>\n",
       "      \n",
       "      <progress value='125' max='125' style='width:300px; height:20px; vertical-align: middle;'></progress>\n",
       "      [125/125 08:53, Epoch 0/1]\n",
       "    </div>\n",
       "    <table border=\"1\" class=\"dataframe\">\n",
       "  <thead>\n",
       " <tr style=\"text-align: left;\">\n",
       "      <th>Step</th>\n",
       "      <th>Training Loss</th>\n",
       "      <th>Validation Loss</th>\n",
       "    </tr>\n",
       "  </thead>\n",
       "  <tbody>\n",
       "    <tr>\n",
       "      <td>100</td>\n",
       "      <td>1.920100</td>\n",
       "      <td>1.721351</td>\n",
       "    </tr>\n",
       "  </tbody>\n",
       "</table><p>"
      ],
      "text/plain": [
       "<IPython.core.display.HTML object>"
      ]
     },
     "metadata": {},
     "output_type": "display_data"
    },
    {
     "name": "stdout",
     "output_type": "stream",
     "text": [
      "TrainOutput(global_step=125, training_loss=1.865865203857422, metrics={'train_runtime': 539.7803, 'train_samples_per_second': 3.705, 'train_steps_per_second': 0.232, 'total_flos': 2.180952095643648e+16, 'train_loss': 1.865865203857422})\n"
     ]
    }
   ],
   "source": [
    "finetuned_model_id = \"gemma-2-2b-it-finetuned\"\n",
    "\n",
    "peft_config = LoraConfig(\n",
    "    r=64,\n",
    "    lora_alpha=32,\n",
    "    lora_dropout=0.05,\n",
    "    target_modules=\"all-linear\",\n",
    "    modules_to_save=[\"lm_head\", \"embed_token\"],\n",
    "    task_type=\"CAUSAL_LM\",\n",
    ")\n",
    "\n",
    "if torch.xpu.is_available():\n",
    "    torch.xpu.empty_cache()\n",
    "\n",
    "# TODO: set up the trainer using SFTTrainer class\n",
    "# TODO: you can refer to the gemma_xpu_finetuning.ipynb exercise\n",
    "# TODO: this part is relatively long because of the arguments that need to be set\n",
    "# trainer = SFTTrainer(...)\n",
    "\n",
    "PUSH_TO_HUB = True\n",
    "USE_WANDB = False\n",
    "\n",
    "# Calculate max_steps based on the subset size\n",
    "num_train_samples = len(train_dataset)\n",
    "batch_size = 2\n",
    "gradient_accumulation_steps = 8\n",
    "steps_per_epoch = num_train_samples // (batch_size * gradient_accumulation_steps)\n",
    "num_epochs = 1\n",
    "max_steps = steps_per_epoch * num_epochs\n",
    "print(f\"Finetuning for max number of steps: {max_steps}\")\n",
    "\n",
    "def print_training_summary(results):\n",
    "    print(f\"Time: {results.metrics['train_runtime']: .2f}\")\n",
    "    print(f\"Samples/second: {results.metrics['train_samples_per_second']: .2f}\")\n",
    "    get_memory_usage()\n",
    "\n",
    "training_args = transformers.TrainingArguments(\n",
    "        per_device_train_batch_size=batch_size,\n",
    "        per_device_eval_batch_size=batch_size,\n",
    "        gradient_accumulation_steps=gradient_accumulation_steps,\n",
    "        warmup_ratio=0.05,\n",
    "        max_steps=max_steps,\n",
    "        learning_rate=1e-5,\n",
    "        evaluation_strategy=\"steps\",\n",
    "        save_steps=100,\n",
    "        bf16=True,\n",
    "        logging_steps=100,\n",
    "        output_dir=finetuned_model_id,\n",
    "        hub_model_id=finetuned_model_id if PUSH_TO_HUB else None,\n",
    "        use_ipex=False,\n",
    "        report_to=\"wandb\" if USE_WANDB else None,\n",
    "        #push_to_hub=PUSH_TO_HUB,\n",
    "        max_grad_norm=0.6,\n",
    "        weight_decay=0.01,\n",
    "        group_by_length=True\n",
    ")\n",
    "\n",
    "trainer = SFTTrainer(\n",
    "    model=model,\n",
    "    train_dataset=train_dataset,\n",
    "    eval_dataset=validation_dataset,\n",
    "    # tokenizer=tokenizer,\n",
    "    args=training_args,\n",
    "    peft_config=peft_config,\n",
    "    # dataset_text_field=\"text\",\n",
    "    # max_seq_length=512,\n",
    "    # packing=True\n",
    ")\n",
    "\n",
    "\n",
    "model.config.use_cache = False  # silence the warnings. Please re-enable for inference!\n",
    "result = trainer.train()\n",
    "model.config.use_cache = True\n",
    "print(result)"
   ]
  },
  {
   "cell_type": "code",
   "execution_count": 8,
   "id": "14",
   "metadata": {},
   "outputs": [],
   "source": [
    "# finetuned_model_id = \"gemma-2-2b-it-finetuned\"\n",
    "\n",
    "# peft_config = LoraConfig(\n",
    "#     r=64,\n",
    "#     lora_alpha=32,\n",
    "#     lora_dropout=0.05,\n",
    "#     target_modules=\"all-linear\",\n",
    "#     modules_to_save=[\"lm_head\", \"embed_token\"],\n",
    "#     task_type=\"CAUSAL_LM\",\n",
    "# )\n",
    "\n",
    "# if torch.xpu.is_available():\n",
    "#     torch.xpu.empty_cache()\n",
    "\n",
    "# # TODO: set up the trainer using SFTTrainer class\n",
    "# # TODO: you can refer to the gemma_xpu_finetuning.ipynb exercise\n",
    "# # TODO: this part is relatively long because of the arguments that need to be set\n",
    "# # trainer = SFTTrainer(...)\n",
    "# # Calculate max_steps based on the subset size\n",
    "\n",
    "# num_train_samples = len(train_dataset)\n",
    "# batch_size = 2\n",
    "# gradient_accumulation_steps = 8\n",
    "# steps_per_epoch = num_train_samples // (batch_size * gradient_accumulation_steps)\n",
    "# num_epochs = 1\n",
    "# max_steps = steps_per_epoch * num_epochs\n",
    "# print(f\"Finetuning for max number of steps: {max_steps}\")\n",
    "\n",
    "# PUSH_TO_HUB = True\n",
    "# USE_WANDB = False\n",
    "\n",
    "# training_args = transformers.TrainingArguments(\n",
    "#         per_device_train_batch_size=batch_size,\n",
    "#         gradient_accumulation_steps=gradient_accumulation_steps,\n",
    "#         warmup_ratio=0.05,\n",
    "#         max_steps=max_steps,\n",
    "#         learning_rate=1e-5,\n",
    "#         evaluation_strategy=\"steps\",\n",
    "#         save_steps=500,\n",
    "#         bf16=True,\n",
    "#         logging_steps=100,\n",
    "#         output_dir=finetuned_model_id,\n",
    "#         hub_model_id=finetuned_model_id if PUSH_TO_HUB else None,\n",
    "#         # use_ipex=False,\n",
    "#         report_to=\"wandb\" if USE_WANDB else None,\n",
    "#         #push_to_hub=PUSH_TO_HUB,\n",
    "#         max_grad_norm=0.6,\n",
    "#         weight_decay=0.01,\n",
    "#         group_by_length=True,\n",
    "#         disable_tqdm = False\n",
    "# )\n",
    "\n",
    "# trainer = SFTTrainer(\n",
    "#     model=model,\n",
    "#     train_dataset=train_dataset,\n",
    "#     eval_dataset=validation_dataset,\n",
    "#     args=training_args,\n",
    "#     peft_config=peft_config,\n",
    "# )\n",
    "\n",
    "\n",
    "# model.config.use_cache = False  # silence the warnings. Please re-enable for inference!\n",
    "# result = trainer.train()\n",
    "# model.config.use_cache = True\n",
    "# print(result)"
   ]
  },
  {
   "cell_type": "markdown",
   "id": "15",
   "metadata": {},
   "source": [
    "## Inference Fine-tuned Model and Evaluate Summaries using ROUGE"
   ]
  },
  {
   "cell_type": "code",
   "execution_count": 10,
   "id": "16",
   "metadata": {},
   "outputs": [
    {
     "data": {
      "application/vnd.jupyter.widget-view+json": {
       "model_id": "943b308274e84dcba23835b67b493b04",
       "version_major": 2,
       "version_minor": 0
      },
      "text/plain": [
       "Loading checkpoint shards:   0%|          | 0/2 [00:00<?, ?it/s]"
      ]
     },
     "metadata": {},
     "output_type": "display_data"
    },
    {
     "name": "stdout",
     "output_type": "stream",
     "text": [
      "----------------------------------------------------------------------------------------------------\n",
      "Abstract: Immigration and asylum have normally been issues politicians from the big parties have tiptoed around at election time.But, while all the parties appear to agree the time has come to properly debate and address the issue, there are already signs they will run into precisely the same problems as before.Labour has already branded the proposal unworkable but party strategists have seen the Tories seizing a poll advantage over the issue.Former union leader Sir Bill Morris has already accused both the big parties of engaging in a \"bidding war about who can be nastiest to asylum seekers\".The challenge for the big parties is to ensure they can engage in the debate during the cut and thrust of a general election while also avoiding that trap.That has been attacked by the Tories as too little, too late and for failing to tackle the key issue of the numbers entering the UK.That was also true at the last general election and the issue did briefly become a campaigning issue.\n",
      "----------------------------------------------------------------------------------------------------\n",
      "Model Summary: Immigration and asylum are set to be central to the election campaigns of both Labour and the Tories. Both\n",
      "----------------------------------------------------------------------------------------------------\n",
      "Abstract: Labour may have abolished hunting - but that didn't stop Chancellor Gordon Brown using his Budget to fire both barrels at some of the opposition parties' core election foxes.And in Labour circles there will undoubtedly be an argument over just how good a prime minister Gordon Brown will make at some point after the next election.He did it most obviously with his increase in national insurance contributions after the 2001 election campaign during which he had pledged not to increase income tax.As always, they accused him of glossing over the facts of the \"black hole\" at the centre of his finances which, they claim, would ensure tax increases after the election.Labour MPs, for example, will undoubtedly now engage in a debate over exactly how redistributive - a lovely Old Labour word - this chancellor really is.So if you are a couple with children, a pensioner, a patient or a youngster, there was something pulled from Mr Brown's red box in an attempt to persuade you to stick with or switch to a New Labour government.Tory leader Michael Howard said the chancellor was up to his old trick of deliberately re-casting his forecasts to give the illusion that everything in the Treasury larder is as fresh as the day it was first stored away for future use.Specifically, it saw him attempting to slaughter the council tax as an election issue and to tear limb from limb their wider policies for pensioners and families.\n",
      "----------------------------------------------------------------------------------------------------\n",
      "Model Summary: The article discusses Gordon Brown's Budget speech and the reaction from the opposition parties. Brown attempted to\n",
      "----------------------------------------------------------------------------------------------------\n",
      "Abstract: Many feel that the most difficult and challenging area for the Commission will be to identify a solution for different Digital Rights Management (DRM) schemes.They have identified that many groups have defined the forms of digital media in the areas that NEM encompasses.How people receive their digital entertainment in the future could change, following the launch of an ambitious European project.The Commission wants people to be able to locate the content they desire and have it delivered seamlessly, when on the move, at home or at work, no matter who supplies the devices, network, content, or content protection scheme.What is significant is that such a large and powerful organisation has stated its desire for digital formats to be open to all and work on any gadget.Simon Perry is the editor of the Digital Lifestyles website, which covers the impact of technology on mediaThe 10-year plan brings together the work of many currently running research projects that the EC has been funding for a number of years.The European Commission is being pragmatic in its approach.\n",
      "----------------------------------------------------------------------------------------------------\n",
      "Model Summary: The European Commission has launched its Networked & Electronic Media (NEM) initiative, which aims to create\n",
      "----------------------------------------------------------------------------------------------------\n",
      "Abstract: \"Of course I was a bit tired in the second set.\"I play my best tennis when I am fired up on the court and the reason I won today was because I was able to play my natural, attacking game,\" he said.Monfils, who was given a wildcard into the tournament, said: \"This is my first win over a top 10 player and I am delighted.But I was confident I could survive had there been a third set.\"\n",
      "----------------------------------------------------------------------------------------------------\n",
      "Model Summary: French prodigy Gael Monfils underlined his huge promise by beating French Open champion Gaston Gaudio 6-\n",
      "----------------------------------------------------------------------------------------------------\n",
      "Abstract: Ms Clarkson's legal action, filed in Los Angeles Superior Court, also accuses Mr Spector of negligence and battery, alleging he \"grabbed, hit, fought with and restrained\" Lana Clarkson before shooting her to death.The legal action accuses Mr Spector of murdering the actress at his LA home.\"However, Ms Clarkson and her family understand that the fair administration of justice takes time and in light of the numerous changes Mr Spector has made in his legal defence team over the last two years, Ms Clarkson was forced to file the action before (the statute of limitations expired) on 3 February 2005.\"Mr Spector, known for his work with the Beatles, has claimed that Lana Clarkson committed suicide.Music producer Phil Spector is facing legal action from the mother of the actress he has been accused of killing.Donna Clarkson, whose daughter Lana was found dead in Mr Spector's home in February 2003, is seeking unspecified damages in a civil action.\n",
      "----------------------------------------------------------------------------------------------------\n",
      "Model Summary: Music producer Phil Spector is facing legal action from the mother of the actress he has been accused of killing\n",
      "----------------------------------------------------------------------------------------------------\n",
      "Abstract: The system is not available commercially yet, but Motorola, the US mobile handset and infrastructure maker, held a clinic for mobile operators on HSDPA (High Speed Downlink Packet Access), a high-speed, high bandwidth technology available now.Using technology from Lucent, it will offer data speeds of 3.6Mbps from next summer on its Isle of Man 3G network, and will eventually support speeds of up to 14.4Mbps.At 3GSM, Siemens showed off a system that transmits faster mobile data.But some mobile operators are opting for a technology called Evolution, Data Optimised (EV-DO).The speeds offered by3G mobile seemed fast at the time mobile operators were paying huge sums for 3G licences.The German company said data could be transmitted at one gigabit a second - up to 20 times faster than current 3G networks.Siemens' plans for a one gigabit network may be more than a user needs today, but Christoph Caselitz, president of the mobile networks division at the firm says that: \"By the time the next generation of mobile communication debuts in 2015, the need for transmission capacities for voice, data, image and multimedia is conservatively anticipated to rise by a factor of 10.\"Siemens - in collaboration with the Fraunhofer German-Sino Lab for Mobile Communications and the Institute for Applied Radio System Technology - has souped up mobile communications by using three transmitting and four receiving antennae, instead of the usual one.Motorola has conducted five trials of its technology and says speeds of 2.9Mbps have been recorded at the edge of an outdoor 3G cell using a single HSDPA device.Fast 3G networks are here but the focus has shifted to their evolution into a higher bandwidth service, says the Global Mobile Suppliers Association.\"High-Speed Downlink Packet Access (HSDPA) - sometimes called Super 3G - will be vital for profitable services like mobile internet browsing and mobile video clips,\" according to a report published by UK-based research consultancy Analysys.US operator Sprint ordered a broadband data upgrade to its 3G network at the end of last year.MMO2, the UK-based operator with services in the UK, Ireland and Germany, has opted for technology based on the High Speed Downlink Packet Access (HSDPA) standard.\n",
      "----------------------------------------------------------------------------------------------------\n",
      "Model Summary: Mobile networks need to get faster if they are to deliver fast internet surfing on the move and exciting new\n",
      "----------------------------------------------------------------------------------------------------\n",
      "Abstract: Russian oil firm Yukos lied to a US court in an attempt to stop the Russian government selling off its key production unit, the court has heard.Yukos argued that since it had a US subsidiary and local bank accounts, the US court could declare it bankrupt and stop the auction of Yugansk.But Deutsche Bank - itself a target of a Yukos lawsuit - said documents had been backdated to strengthen the case.Analysts have questioned whether a US court has any jurisdiction over Russian companies, while Moscow officials have dismissed Yukos' legal wrangling as meaningless.Its lawyer, Hugh Ray, told the court that Yukos had claimed it had transferred $27m into two Texas bank accounts opened by its new US subsidiary.Yukos chief financial officer Bruce Misamore, who had moved to the US in early December to set up Yukos USA, acknowledged the point.Deutsche Bank is involved in the case because it is itself being sued by Yukos.Yukos maintains that it filed for bankruptcy in the US because it feared it would not be able to do so in Russia.It had agreed to loan to an arm of Russian state gas firm Gazprom the money to bid for Yuganskneftegaz, as the Yukos unit is formally known.By doing so, he said, the firm had intended to reinforce its US presence - and thus its chances of getting its case heard in US courts.\n",
      "----------------------------------------------------------------------------------------------------\n",
      "Model Summary: Yukos, a Russian oil firm, has been accused of lying to a US court in an attempt\n",
      "----------------------------------------------------------------------------------------------------\n",
      "Abstract: The Countryside Alliance says it expects up to 4,000 supporters to demonstrate against the hunting ban.Pro-hunt supporters formally launched their second legal challenge to the ban in London's High Court on Thursday.Richard Dodd, regional director of the Countryside Alliance, said he expected between 2,000 and 4,000 supporters in Tyneside to make their protest, with hunt horns and placards.Animal welfare groups have welcomed the ban, many of whom have campaigned for a ban for decades saying hunting is cruel and unnecessary.The High Court last month ruled the act was valid and the proposed hunting ban was lawful.Pro-hunt supporters are set to protest at Labour's spring conference.Mr Dodd said he did not believe there would be any repeat of the trouble which marred the pro-hunt demonstration outside Parliament in September.A bid to overturn the law banning hunting with dogs in England and Wales has begun in the Court of Appeal.\n",
      "----------------------------------------------------------------------------------------------------\n",
      "Model Summary: Pro-hunt supporters are set to protest at Labour's spring conference...The Countryside Alliance says\n",
      "----------------------------------------------------------------------------------------------------\n",
      "Abstract: India's mobile gaming market will bring in about $336m (£178m) by 2009, according to the report.In January 2003, there were only 10 million mobile subscribers in India.The Indian mobile gaming market is expected to generate about $26m (£13.8m) by the end of 2004, according to market analysts In-Stat/MDR.\"Mobile gaming is not just about fun; it also represents one key element of a rich mobile entertainment experience for consumers, and a lucrative market opportunity for industry players.\"According to In-Stat/MDR, it is tipped to make up one of the most important markets in the next wave of mobile multimedia growth.Less than 20% of India's total population own a mobile in India, compared to well over 50% in most European countries.Mobile gaming is expected to explode globally over the next few years.Currently, India has six big games developers and four mobile operators that offer games to their subscribers, said the report.\n",
      "----------------------------------------------------------------------------------------------------\n",
      "Model Summary: Mobile gaming is one of the fastest-growing activities among the tech-savvy in India, says a\n",
      "----------------------------------------------------------------------------------------------------\n",
      "Abstract: Delta Air Lines is cutting domestic fares by as much as 50% as part of a plan to ensure its financial survival.Airline shares closed lower on the announcement, with Delta, Continental and American Airlines all falling by more than 7%.Delta, which lost $646m in the three months to September, was forced to cut 6,900 jobs worldwide as part of its aim to slash $5bn from its costs.The airline says no one-way economy fare will now be priced higher than $499 (£264), and no first-class fare will be priced higher than $599.It is also eliminating a Saturday-night stay requirement on discount fares and will give further reductions to customers opting for non-refundable tickets, booking in advance and online.\n",
      "----------------------------------------------------------------------------------------------------\n",
      "Model Summary: Delta Air Lines is cutting domestic fares by as much as 50% as part of a plan\n",
      "----------------------------------------------------------------------------------------------------\n",
      "Abstract: The UK has welcomed the decision by India and Pakistan to open a bus link across the ceasefire line dividing the disputed region of Kashmir.\"This will make a real difference to the lives of Kashmiris on both sides of the Line of Control,\" he said.Mr Straw said he hoped the agreement would make a difference to Kashmiris.In a statement, Mr Straw said the bus service between Srinagar and Muzaffarabad \"will be able to reunite families that have been divided for decades\".Kashmiri politicians on both sides of the Line of Control which divides the region welcomed the move.On Thursday Mr Straw was in India visiting Sikhism's holiest shrine, the Golden Temple in Amritsar where he tried his hand at making Indian bread or roti.\n",
      "----------------------------------------------------------------------------------------------------\n",
      "Model Summary: The UK has welcomed the decision by India and Pakistan to open a bus link across the ceasefire line dividing\n",
      "----------------------------------------------------------------------------------------------------\n",
      "Abstract: Rangers had rarely threatened until Celtic goalkeeper Rab Douglas let defender Vignal's 25-yard drive slip through his grasp and into the net.Hartson foxed Vignal at the edge of the Rangers box, but the striker's shot on the turn was again beaten away by Waterreus.But Rangers found Celtic harder to break down and Douglas was not threatened until 10 minutes after the break.: Waterreus, Hutton, Kyrgiakos, Andrews, Ball, Buffel, Ferguson, Ricksen, Vignal, Prso, Novo.Opposite number Ronald Waterreus had been Rangers' hero, saving superbly from Craig Bellamy and John Hartson.Dado Prso turned inside Neil Lennon only for the Celtic goalkeeper to beat away his powerful 18-yard drive.Goals from Gregory Vignal and Nacho Novo gave Rangers a scrappy victory at Celtic Park that moves them three points clear of the champions.: Douglas, McNamara, Balde, Varga, Laursen, Petrov, Lennon, Sutton, Thompson, Bellamy, Hartson.It took Bellamy just four minutes to threaten, taking on Marvin Andrews before delivering a low drive that was held by Waterreus at the second attempt.Rangers were beginning to dominate the midfield and Vignal, collecting a knock back from Fernando Ricksen, broke the deadlock, Douglas somehow letting the Frenchman's dipping drive slip through his grasp.\n",
      "----------------------------------------------------------------------------------------------------\n",
      "Model Summary: Rangers sealed a scrappy 2-0 victory over Celtic at Parkhead to move three points clear\n",
      "----------------------------------------------------------------------------------------------------\n",
      "Abstract: The trend shows that gaming is not just about big-hitting, games console titles, which appeal more to \"hardcore\" gamers, said a panel of experts.This aspect of \"community\" is crucial for gamers who just want to have quick access to free or cheap games without committing long periods of time immersed in £30 to £40 console or PC titles, said the panel.Key to these types of titles is the chance they give people who may not see themselves as gamers to dip in and out of games when they liked.Casual games like poker, pool, bridge, bingo and puzzle-based titles, which can be played online or downloaded onto mobile devices, were \"gender neutral\" and different genres attracted different players.But hardcore gamers who are more attracted to blockbuster gamers which usually require hi-spec PCs, like Half-Life 2, or Halo 2 on Xbox, also liked to have a different type of gaming experience.With more people finding more to do with their gadgets and high-speed connections, casual games would start to open up the world of gaming as a form of mass-market entertainment to more people.\"When hardcore gamers are not playing Halo, they are playing poker and pool, based on our research,\" said Geoff Graber, director of Yahoo Games, which attracts about 12 million gamers a month.Portal sites which offer casual games, like AOL, Yahoo, and RealArcade, as well as other games-on-demand services, allow people to build up buddy lists so they can return and play against the same people.\n",
      "----------------------------------------------------------------------------------------------------\n",
      "Model Summary: Casual gaming is set to be even bigger in 2005, according to industry experts.\n",
      "----------------------------------------------------------------------------------------------------\n",
      "Abstract: The BDO optimism index - a leading indicator of GDP growth two quarters ahead edged up in January to 102.5, from 102.2 in October.The only thing blighting business optimism this year will be uncertainties associated with the general election, BDO said.\"The UK is looking strong going into the general election, but businesses need to prepare themselves for a jolt ahead as the Bank of England reacts to growth and inflationary pressures,\" said Peter Hemington, partner at BDO Stoy Hayward.Optimism is at its highest since 1997 and business will reap the benefits of a continuing rise in public spending, say researchers at BDO Stoy Hayward.UK businesses are set to prosper during the next few months - but this could trigger more interest rate rises, according to a report.\n",
      "----------------------------------------------------------------------------------------------------\n",
      "Model Summary: UK businesses are set to prosper during the next few months - but this could trigger more interest rate rises\n",
      "----------------------------------------------------------------------------------------------------\n",
      "Abstract: The US stock market regulator is investigating troubled insurance broker Marsh & McLennan's shareholder transactions, the firm has said.Marsh has said it is co-operating fully with the SEC investigation.Marsh is also the focus of an inquiry the New York attorney-general into whether insurers rigged the market.Since that inquiry was launched in October, Marsh has replaced its chief executive and held a boardroom shake-out to meet criticism by lessening the number of company executives on the board.Prosecutors allege that Marsh - the world's biggest insurance broker - and other US insurance firms may have fixed bids for corporate cover.The uncertainty unleashed by the scandal has prompted three credit rating agencies - Standard & Poor's, Moody's and Fitch - to downgrade Marsh in recent weeks.\n",
      "----------------------------------------------------------------------------------------------------\n",
      "Model Summary: The US stock market regulator is investigating troubled insurance broker Marsh & McLennan's shareholder transactions, the\n",
      "----------------------------------------------------------------------------------------------------\n",
      "{'rouge1': np.float64(0.1445985079478176), 'rouge2': np.float64(0.10390627519638176), 'rougeL': np.float64(0.12736668571148604), 'rougeLsum': np.float64(0.13023100070809412)}\n",
      "----------------------------------------------------------------------------------------------------\n"
     ]
    }
   ],
   "source": [
    "rouge = load('rouge')\n",
    "\n",
    "# finetuned_model_path = f\"{finetuned_model}/checkpoint-300\"\n",
    "finetuned_model_path = f\"{finetuned_model_id}/checkpoint-100\"\n",
    "loaded_model = AutoModelForCausalLM.from_pretrained(finetuned_model_path, device_map=\"xpu\")\n",
    "tokenizer = AutoTokenizer.from_pretrained(finetuned_model_path)\n",
    "\n",
    "predictions = []\n",
    "references = []\n",
    "\n",
    "# TODO: compute rouge scores on the first 15 sample again.\n",
    "# TODO: you can repeat the code from the earlier cells.\n",
    "\n",
    "# iterate through the first 15 samples\n",
    "for article, abstract in zip(validation_dataset[\"Articles\"][:15], validation_dataset[\"Summaries\"][:15]):\n",
    "    messages = [\n",
    "        {\"role\": \"user\", \"content\": f\"Instruction:\\nSummarize the following article.\\n\\nInput:\\n{article}\"},\n",
    "    ]\n",
    "    input_ids = tokenizer.apply_chat_template(messages,\n",
    "                                              tokenize=True,\n",
    "                                              add_generation_prompt=True,\n",
    "                                              return_tensors=\"pt\").to(\"xpu\")\n",
    "    \n",
    "    # TODO: perform model inference using the tokens in ``input_ids''\n",
    "    output = loaded_model.generate(input_ids)\n",
    "    \n",
    "     \n",
    "    # Remove input prompt from output\n",
    "    prompt_length = input_ids.shape[1]\n",
    "    answer = tokenizer.decode(output[0][prompt_length:], skip_special_tokens=True)\n",
    "    \n",
    "    # TODO: add one answer to the ``predictions'' list, which is later passed to rouge compute\n",
    "    # \n",
    "    # TODO: add one abstract to the ``references'' list, which is later passed to rouge compute\n",
    "    # \n",
    "    predictions.append(answer)\n",
    "    references.append(abstract)\n",
    "\n",
    "    \n",
    "    print(100*'-')\n",
    "    print(\"Abstract:\", abstract)\n",
    "    print(100*'-')\n",
    "    print(\"Model Summary:\", answer)\n",
    "\n",
    "print(100*'-')\n",
    "# TODO: compute and print out the rouge scores including rouge1, rouge2, rougeL and rougeLsum\n",
    "# TODO: you can refer to the exercise that computes rouge scores\n",
    "# print(...)\n",
    "rouge_scores = rouge.compute(predictions=predictions, references=references)\n",
    "print(rouge_scores)\n",
    "\n",
    "\n",
    "print(100*'-')\n",
    "\n"
   ]
  },
  {
   "cell_type": "code",
   "execution_count": null,
   "id": "2835f009-24a0-41a4-bbde-5ad5a33f395c",
   "metadata": {},
   "outputs": [],
   "source": []
  }
 ],
 "metadata": {
  "kernelspec": {
   "display_name": "PyTorch 2.6",
   "language": "python",
   "name": "pytorch-2.6"
  },
  "language_info": {
   "codemirror_mode": {
    "name": "ipython",
    "version": 3
   },
   "file_extension": ".py",
   "mimetype": "text/x-python",
   "name": "python",
   "nbconvert_exporter": "python",
   "pygments_lexer": "ipython3",
   "version": "3.10.16"
  }
 },
 "nbformat": 4,
 "nbformat_minor": 5
}
