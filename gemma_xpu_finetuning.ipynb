{
 "cells": [
  {
   "cell_type": "raw",
   "id": "0",
   "metadata": {},
   "source": [
    "SPDX-License-Identifier: Apache-2.0 \n",
    "Copyright (c) 2023, Rahul Unnikrishnan Nair <rahul.unnikrishnan.nair@intel.com>"
   ]
  },
  {
   "cell_type": "markdown",
   "id": "1",
   "metadata": {},
   "source": [
    "### Prerequisite\n",
    "Account on Intel Tiber AI Cloud.\n",
    "\n",
    "This notebook was adapted and tested for EECE.4860/5860 Introduction to GenAI at UMass Lowell\n",
    "\n",
    "## Finetuning Google's Gemma Model on Intel Max Series GPUs 🚀"
   ]
  },
  {
   "cell_type": "markdown",
   "id": "2",
   "metadata": {},
   "source": [
    "Welcome to this exciting journey where we'll dive into the world of finetuning large language models (LLMs) using Intel® Data Center GPU Max Series! 🌟 \n",
    "\n",
    "In this notebook, we'll be working with Google's Gemma model and optimizing it for a specific task using the Intel Max 1550 GPU. 💪\n",
    "___"
   ]
  },
  {
   "cell_type": "markdown",
   "id": "3",
   "metadata": {},
   "source": [
    "### Overview\n",
    "\n",
    "**Note**: Please select the \"PyTorch GPU\" kernel when running this notebook\n",
    "\n",
    "In this notebook, you will learn how to fine-tune a large language model (Google's Gemma) using Intel Max Series GPUs (XPUs) for a specific task. The notebook covers the following key points:\n",
    "\n",
    "1. Setting up the environment and optimizing it for Intel GPUs\n",
    "2. Initializing the XPU and configuring LoRA settings for efficient fine-tuning\n",
    "3. Loading the pre-trained Gemma model and testing its performance\n",
    "4. Preparing a diverse dataset of question-answer pairs covering various domains\n",
    "5. Fine-tuning the model using the Hugging Face `Trainer` class\n",
    "6. Evaluating the fine-tuned model on a test dataset\n",
    "7. Saving and loading the fine-tuned model for future use\n",
    "\n",
    "\n",
    "The notebook demonstrates how fine-tuning can enhance a model's performance on a diverse range of topics, making it more versatile and applicable to various domains. You will gain insights into the process of creating a **task-specific model** that can provide accurate and relevant responses to a wide range of questions.\n",
    "</br>\n",
    "___"
   ]
  },
  {
   "cell_type": "markdown",
   "id": "4",
   "metadata": {},
   "source": [
    "#### Step 1: Setting Up the Environment 🛠️\n",
    "\n",
    "First things first, let's get our environment ready! We'll install all the necessary packages, including the Hugging Face `transformers` library, `datasets` for easy data loading, `wandb` for experiment tracking, and a few others. 📦"
   ]
  },
  {
   "cell_type": "code",
   "execution_count": 1,
   "id": "5",
   "metadata": {},
   "outputs": [
    {
     "name": "stdout",
     "output_type": "stream",
     "text": [
      "Defaulting to user installation because normal site-packages is not writeable\n",
      "Requirement already satisfied: peft==0.10.0 in /home/uc221cfdf48c39da853b0e8362a90c40/.local/lib/python3.11/site-packages (0.10.0)\n",
      "Requirement already satisfied: datasets in /home/uc221cfdf48c39da853b0e8362a90c40/.local/lib/python3.11/site-packages (3.3.2)\n",
      "Requirement already satisfied: ipywidgets in /home/uc221cfdf48c39da853b0e8362a90c40/.local/lib/python3.11/site-packages (8.1.5)\n",
      "Requirement already satisfied: transformers==4.38.2 in /home/uc221cfdf48c39da853b0e8362a90c40/.local/lib/python3.11/site-packages (4.38.2)\n",
      "Requirement already satisfied: wandb in /home/uc221cfdf48c39da853b0e8362a90c40/.local/lib/python3.11/site-packages (0.19.7)\n",
      "Requirement already satisfied: trl==0.8.3 in /home/uc221cfdf48c39da853b0e8362a90c40/.local/lib/python3.11/site-packages (0.8.3)\n",
      "Requirement already satisfied: accelerate==0.27.2 in /home/uc221cfdf48c39da853b0e8362a90c40/.local/lib/python3.11/site-packages (0.27.2)\n",
      "Requirement already satisfied: bitsandbytes==0.43.0 in /home/uc221cfdf48c39da853b0e8362a90c40/.local/lib/python3.11/site-packages (0.43.0)\n",
      "Requirement already satisfied: scipy==1.12.0 in /home/uc221cfdf48c39da853b0e8362a90c40/.local/lib/python3.11/site-packages (1.12.0)\n",
      "Requirement already satisfied: numpy>=1.17 in /opt/intel/oneapi/intelpython/envs/pytorch-gpu/lib/python3.11/site-packages (from peft==0.10.0) (1.26.4)\n",
      "Requirement already satisfied: packaging>=20.0 in /opt/intel/oneapi/intelpython/envs/pytorch-gpu/lib/python3.11/site-packages (from peft==0.10.0) (24.1)\n",
      "Requirement already satisfied: psutil in /opt/intel/oneapi/intelpython/envs/pytorch-gpu/lib/python3.11/site-packages (from peft==0.10.0) (6.0.0)\n",
      "Requirement already satisfied: pyyaml in /opt/intel/oneapi/intelpython/envs/pytorch-gpu/lib/python3.11/site-packages (from peft==0.10.0) (6.0.2)\n",
      "Requirement already satisfied: torch>=1.13.0 in /opt/intel/oneapi/intelpython/envs/pytorch-gpu/lib/python3.11/site-packages (from peft==0.10.0) (2.5.1+cxx11.abi)\n",
      "Requirement already satisfied: tqdm in /opt/intel/oneapi/intelpython/envs/pytorch-gpu/lib/python3.11/site-packages (from peft==0.10.0) (4.66.5)\n",
      "Requirement already satisfied: safetensors in /home/uc221cfdf48c39da853b0e8362a90c40/.local/lib/python3.11/site-packages (from peft==0.10.0) (0.5.2)\n",
      "Requirement already satisfied: huggingface-hub>=0.17.0 in /home/uc221cfdf48c39da853b0e8362a90c40/.local/lib/python3.11/site-packages (from peft==0.10.0) (0.29.1)\n",
      "Requirement already satisfied: filelock in /opt/intel/oneapi/intelpython/envs/pytorch-gpu/lib/python3.11/site-packages (from transformers==4.38.2) (3.16.1)\n",
      "Requirement already satisfied: regex!=2019.12.17 in /home/uc221cfdf48c39da853b0e8362a90c40/.local/lib/python3.11/site-packages (from transformers==4.38.2) (2024.11.6)\n",
      "Requirement already satisfied: requests in /opt/intel/oneapi/intelpython/envs/pytorch-gpu/lib/python3.11/site-packages (from transformers==4.38.2) (2.32.3)\n",
      "Requirement already satisfied: tokenizers<0.19,>=0.14 in /home/uc221cfdf48c39da853b0e8362a90c40/.local/lib/python3.11/site-packages (from transformers==4.38.2) (0.15.2)\n",
      "Requirement already satisfied: tyro>=0.5.11 in /home/uc221cfdf48c39da853b0e8362a90c40/.local/lib/python3.11/site-packages (from trl==0.8.3) (0.9.16)\n",
      "Requirement already satisfied: pyarrow>=15.0.0 in /home/uc221cfdf48c39da853b0e8362a90c40/.local/lib/python3.11/site-packages (from datasets) (19.0.0)\n",
      "Requirement already satisfied: dill<0.3.9,>=0.3.0 in /home/uc221cfdf48c39da853b0e8362a90c40/.local/lib/python3.11/site-packages (from datasets) (0.3.8)\n",
      "Requirement already satisfied: pandas in /opt/intel/oneapi/intelpython/envs/pytorch-gpu/lib/python3.11/site-packages (from datasets) (2.2.2)\n",
      "Requirement already satisfied: xxhash in /home/uc221cfdf48c39da853b0e8362a90c40/.local/lib/python3.11/site-packages (from datasets) (3.5.0)\n",
      "Requirement already satisfied: multiprocess<0.70.17 in /home/uc221cfdf48c39da853b0e8362a90c40/.local/lib/python3.11/site-packages (from datasets) (0.70.16)\n",
      "Requirement already satisfied: fsspec<=2024.12.0,>=2023.1.0 in /home/uc221cfdf48c39da853b0e8362a90c40/.local/lib/python3.11/site-packages (from fsspec[http]<=2024.12.0,>=2023.1.0->datasets) (2024.9.0)\n",
      "Requirement already satisfied: aiohttp in /home/uc221cfdf48c39da853b0e8362a90c40/.local/lib/python3.11/site-packages (from datasets) (3.11.11)\n",
      "Requirement already satisfied: comm>=0.1.3 in /opt/intel/oneapi/intelpython/envs/pytorch-gpu/lib/python3.11/site-packages (from ipywidgets) (0.2.2)\n",
      "Requirement already satisfied: ipython>=6.1.0 in /opt/intel/oneapi/intelpython/envs/pytorch-gpu/lib/python3.11/site-packages (from ipywidgets) (8.30.0)\n",
      "Requirement already satisfied: traitlets>=4.3.1 in /opt/intel/oneapi/intelpython/envs/pytorch-gpu/lib/python3.11/site-packages (from ipywidgets) (5.14.3)\n",
      "Requirement already satisfied: widgetsnbextension~=4.0.12 in /home/uc221cfdf48c39da853b0e8362a90c40/.local/lib/python3.11/site-packages (from ipywidgets) (4.0.13)\n",
      "Requirement already satisfied: jupyterlab-widgets~=3.0.12 in /home/uc221cfdf48c39da853b0e8362a90c40/.local/lib/python3.11/site-packages (from ipywidgets) (3.0.13)\n",
      "Requirement already satisfied: click!=8.0.0,>=7.1 in /home/uc221cfdf48c39da853b0e8362a90c40/.local/lib/python3.11/site-packages (from wandb) (8.1.8)\n",
      "Requirement already satisfied: docker-pycreds>=0.4.0 in /home/uc221cfdf48c39da853b0e8362a90c40/.local/lib/python3.11/site-packages (from wandb) (0.4.0)\n",
      "Requirement already satisfied: gitpython!=3.1.29,>=1.0.0 in /home/uc221cfdf48c39da853b0e8362a90c40/.local/lib/python3.11/site-packages (from wandb) (3.1.44)\n",
      "Requirement already satisfied: platformdirs in /opt/intel/oneapi/intelpython/envs/pytorch-gpu/lib/python3.11/site-packages (from wandb) (4.3.6)\n",
      "Requirement already satisfied: protobuf!=4.21.0,!=5.28.0,<6,>=3.19.0 in /opt/intel/oneapi/intelpython/envs/pytorch-gpu/lib/python3.11/site-packages (from wandb) (5.29.3)\n",
      "Requirement already satisfied: pydantic<3,>=2.6 in /opt/intel/oneapi/intelpython/envs/pytorch-gpu/lib/python3.11/site-packages (from wandb) (2.9.2)\n",
      "Requirement already satisfied: sentry-sdk>=2.0.0 in /home/uc221cfdf48c39da853b0e8362a90c40/.local/lib/python3.11/site-packages (from wandb) (2.22.0)\n",
      "Requirement already satisfied: setproctitle in /home/uc221cfdf48c39da853b0e8362a90c40/.local/lib/python3.11/site-packages (from wandb) (1.3.5)\n",
      "Requirement already satisfied: setuptools in /opt/intel/oneapi/intelpython/envs/pytorch-gpu/lib/python3.11/site-packages (from wandb) (75.1.0)\n",
      "Requirement already satisfied: typing-extensions<5,>=4.4 in /opt/intel/oneapi/intelpython/envs/pytorch-gpu/lib/python3.11/site-packages (from wandb) (4.12.2)\n",
      "Requirement already satisfied: six>=1.4.0 in /opt/intel/oneapi/intelpython/envs/pytorch-gpu/lib/python3.11/site-packages (from docker-pycreds>=0.4.0->wandb) (1.16.0)\n",
      "Requirement already satisfied: aiohappyeyeballs>=2.3.0 in /home/uc221cfdf48c39da853b0e8362a90c40/.local/lib/python3.11/site-packages (from aiohttp->datasets) (2.4.4)\n",
      "Requirement already satisfied: aiosignal>=1.1.2 in /home/uc221cfdf48c39da853b0e8362a90c40/.local/lib/python3.11/site-packages (from aiohttp->datasets) (1.3.2)\n",
      "Requirement already satisfied: attrs>=17.3.0 in /home/uc221cfdf48c39da853b0e8362a90c40/.local/lib/python3.11/site-packages (from aiohttp->datasets) (25.1.0)\n",
      "Requirement already satisfied: frozenlist>=1.1.1 in /home/uc221cfdf48c39da853b0e8362a90c40/.local/lib/python3.11/site-packages (from aiohttp->datasets) (1.5.0)\n",
      "Requirement already satisfied: multidict<7.0,>=4.5 in /home/uc221cfdf48c39da853b0e8362a90c40/.local/lib/python3.11/site-packages (from aiohttp->datasets) (6.1.0)\n",
      "Requirement already satisfied: propcache>=0.2.0 in /home/uc221cfdf48c39da853b0e8362a90c40/.local/lib/python3.11/site-packages (from aiohttp->datasets) (0.2.1)\n",
      "Requirement already satisfied: yarl<2.0,>=1.17.0 in /home/uc221cfdf48c39da853b0e8362a90c40/.local/lib/python3.11/site-packages (from aiohttp->datasets) (1.18.3)\n",
      "Requirement already satisfied: gitdb<5,>=4.0.1 in /home/uc221cfdf48c39da853b0e8362a90c40/.local/lib/python3.11/site-packages (from gitpython!=3.1.29,>=1.0.0->wandb) (4.0.12)\n",
      "Requirement already satisfied: decorator in /opt/intel/oneapi/intelpython/envs/pytorch-gpu/lib/python3.11/site-packages (from ipython>=6.1.0->ipywidgets) (5.1.1)\n",
      "Requirement already satisfied: jedi>=0.16 in /opt/intel/oneapi/intelpython/envs/pytorch-gpu/lib/python3.11/site-packages (from ipython>=6.1.0->ipywidgets) (0.19.2)\n",
      "Requirement already satisfied: matplotlib-inline in /opt/intel/oneapi/intelpython/envs/pytorch-gpu/lib/python3.11/site-packages (from ipython>=6.1.0->ipywidgets) (0.1.7)\n",
      "Requirement already satisfied: pexpect>4.3 in /opt/intel/oneapi/intelpython/envs/pytorch-gpu/lib/python3.11/site-packages (from ipython>=6.1.0->ipywidgets) (4.9.0)\n",
      "Requirement already satisfied: prompt_toolkit<3.1.0,>=3.0.41 in /opt/intel/oneapi/intelpython/envs/pytorch-gpu/lib/python3.11/site-packages (from ipython>=6.1.0->ipywidgets) (3.0.48)\n",
      "Requirement already satisfied: pygments>=2.4.0 in /opt/intel/oneapi/intelpython/envs/pytorch-gpu/lib/python3.11/site-packages (from ipython>=6.1.0->ipywidgets) (2.18.0)\n",
      "Requirement already satisfied: stack_data in /opt/intel/oneapi/intelpython/envs/pytorch-gpu/lib/python3.11/site-packages (from ipython>=6.1.0->ipywidgets) (0.6.3)\n",
      "Requirement already satisfied: annotated-types>=0.6.0 in /opt/intel/oneapi/intelpython/envs/pytorch-gpu/lib/python3.11/site-packages (from pydantic<3,>=2.6->wandb) (0.7.0)\n",
      "Requirement already satisfied: pydantic-core==2.23.4 in /opt/intel/oneapi/intelpython/envs/pytorch-gpu/lib/python3.11/site-packages (from pydantic<3,>=2.6->wandb) (2.23.4)\n",
      "Requirement already satisfied: charset-normalizer<4,>=2 in /opt/intel/oneapi/intelpython/envs/pytorch-gpu/lib/python3.11/site-packages (from requests->transformers==4.38.2) (3.4.0)\n",
      "Requirement already satisfied: idna<4,>=2.5 in /opt/intel/oneapi/intelpython/envs/pytorch-gpu/lib/python3.11/site-packages (from requests->transformers==4.38.2) (3.10)\n",
      "Requirement already satisfied: urllib3<3,>=1.21.1 in /opt/intel/oneapi/intelpython/envs/pytorch-gpu/lib/python3.11/site-packages (from requests->transformers==4.38.2) (2.2.3)\n",
      "Requirement already satisfied: certifi>=2017.4.17 in /opt/intel/oneapi/intelpython/envs/pytorch-gpu/lib/python3.11/site-packages (from requests->transformers==4.38.2) (2024.8.30)\n",
      "Requirement already satisfied: networkx in /opt/intel/oneapi/intelpython/envs/pytorch-gpu/lib/python3.11/site-packages (from torch>=1.13.0->peft==0.10.0) (3.4.2)\n",
      "Requirement already satisfied: jinja2 in /opt/intel/oneapi/intelpython/envs/pytorch-gpu/lib/python3.11/site-packages (from torch>=1.13.0->peft==0.10.0) (3.1.4)\n",
      "Requirement already satisfied: sympy==1.13.1 in /opt/intel/oneapi/intelpython/envs/pytorch-gpu/lib/python3.11/site-packages (from torch>=1.13.0->peft==0.10.0) (1.13.1)\n",
      "Requirement already satisfied: mpmath<1.4,>=1.1.0 in /opt/intel/oneapi/intelpython/envs/pytorch-gpu/lib/python3.11/site-packages (from sympy==1.13.1->torch>=1.13.0->peft==0.10.0) (1.3.0)\n",
      "Requirement already satisfied: docstring-parser>=0.15 in /home/uc221cfdf48c39da853b0e8362a90c40/.local/lib/python3.11/site-packages (from tyro>=0.5.11->trl==0.8.3) (0.16)\n",
      "Requirement already satisfied: rich>=11.1.0 in /home/uc221cfdf48c39da853b0e8362a90c40/.local/lib/python3.11/site-packages (from tyro>=0.5.11->trl==0.8.3) (13.9.4)\n",
      "Requirement already satisfied: shtab>=1.5.6 in /home/uc221cfdf48c39da853b0e8362a90c40/.local/lib/python3.11/site-packages (from tyro>=0.5.11->trl==0.8.3) (1.7.1)\n",
      "Requirement already satisfied: typeguard>=4.0.0 in /home/uc221cfdf48c39da853b0e8362a90c40/.local/lib/python3.11/site-packages (from tyro>=0.5.11->trl==0.8.3) (4.4.2)\n",
      "Requirement already satisfied: python-dateutil>=2.8.2 in /opt/intel/oneapi/intelpython/envs/pytorch-gpu/lib/python3.11/site-packages (from pandas->datasets) (2.9.0)\n",
      "Requirement already satisfied: pytz>=2020.1 in /opt/intel/oneapi/intelpython/envs/pytorch-gpu/lib/python3.11/site-packages (from pandas->datasets) (2024.2)\n",
      "Requirement already satisfied: tzdata>=2022.7 in /opt/intel/oneapi/intelpython/envs/pytorch-gpu/lib/python3.11/site-packages (from pandas->datasets) (2024.2)\n",
      "Requirement already satisfied: smmap<6,>=3.0.1 in /home/uc221cfdf48c39da853b0e8362a90c40/.local/lib/python3.11/site-packages (from gitdb<5,>=4.0.1->gitpython!=3.1.29,>=1.0.0->wandb) (5.0.2)\n",
      "Requirement already satisfied: parso<0.9.0,>=0.8.4 in /opt/intel/oneapi/intelpython/envs/pytorch-gpu/lib/python3.11/site-packages (from jedi>=0.16->ipython>=6.1.0->ipywidgets) (0.8.4)\n",
      "Requirement already satisfied: ptyprocess>=0.5 in /opt/intel/oneapi/intelpython/envs/pytorch-gpu/lib/python3.11/site-packages (from pexpect>4.3->ipython>=6.1.0->ipywidgets) (0.7.0)\n",
      "Requirement already satisfied: wcwidth in /opt/intel/oneapi/intelpython/envs/pytorch-gpu/lib/python3.11/site-packages (from prompt_toolkit<3.1.0,>=3.0.41->ipython>=6.1.0->ipywidgets) (0.2.13)\n",
      "Requirement already satisfied: markdown-it-py>=2.2.0 in /home/uc221cfdf48c39da853b0e8362a90c40/.local/lib/python3.11/site-packages (from rich>=11.1.0->tyro>=0.5.11->trl==0.8.3) (3.0.0)\n",
      "Requirement already satisfied: MarkupSafe>=2.0 in /opt/intel/oneapi/intelpython/envs/pytorch-gpu/lib/python3.11/site-packages (from jinja2->torch>=1.13.0->peft==0.10.0) (3.0.2)\n",
      "Requirement already satisfied: executing>=1.2.0 in /opt/intel/oneapi/intelpython/envs/pytorch-gpu/lib/python3.11/site-packages (from stack_data->ipython>=6.1.0->ipywidgets) (2.1.0)\n",
      "Requirement already satisfied: asttokens>=2.1.0 in /opt/intel/oneapi/intelpython/envs/pytorch-gpu/lib/python3.11/site-packages (from stack_data->ipython>=6.1.0->ipywidgets) (3.0.0)\n",
      "Requirement already satisfied: pure_eval in /opt/intel/oneapi/intelpython/envs/pytorch-gpu/lib/python3.11/site-packages (from stack_data->ipython>=6.1.0->ipywidgets) (0.2.3)\n",
      "Requirement already satisfied: mdurl~=0.1 in /home/uc221cfdf48c39da853b0e8362a90c40/.local/lib/python3.11/site-packages (from markdown-it-py>=2.2.0->rich>=11.1.0->tyro>=0.5.11->trl==0.8.3) (0.1.2)\n"
     ]
    }
   ],
   "source": [
    "import sys\n",
    "import site\n",
    "import os\n",
    "\n",
    "# Install the required packages\n",
    "!{sys.executable} -m pip install peft==0.10.0 datasets ipywidgets transformers==4.38.2 wandb trl==0.8.3 accelerate==0.27.2 bitsandbytes==0.43.0 scipy==1.12.0\n",
    "\n",
    "\n",
    "# Get the site-packages directory\n",
    "site_packages_dir = site.getsitepackages()[0]\n",
    "\n",
    "# add the site pkg directory where these pkgs are insalled to the top of sys.path\n",
    "if not os.access(site_packages_dir, os.W_OK):\n",
    "    user_site_packages_dir = site.getusersitepackages()\n",
    "    if user_site_packages_dir in sys.path:\n",
    "        sys.path.remove(user_site_packages_dir)\n",
    "    sys.path.insert(0, user_site_packages_dir)\n",
    "else:\n",
    "    if site_packages_dir in sys.path:\n",
    "        sys.path.remove(site_packages_dir)\n",
    "    sys.path.insert(0, site_packages_dir)"
   ]
  },
  {
   "cell_type": "markdown",
   "id": "6",
   "metadata": {},
   "source": [
    "We'll now make sure to optimize our environment for the Intel GPU by setting the appropriate environment variables and configuring the number of cores and threads. This will ensure we get the best performance out of our hardware! ⚡"
   ]
  },
  {
   "cell_type": "code",
   "execution_count": 2,
   "id": "7",
   "metadata": {},
   "outputs": [
    {
     "name": "stdout",
     "output_type": "stream",
     "text": [
      "Number of physical cores: 96\n",
      "Number of cores per socket: 48\n",
      "OpenMP environment variables:\n",
      "  - OMP_NUM_THREADS: 96\n",
      "  - OMP_PROC_BIND: close\n",
      "  - OMP_PLACES: cores\n"
     ]
    }
   ],
   "source": [
    "import warnings\n",
    "warnings.filterwarnings(\"ignore\")\n",
    "\n",
    "import os\n",
    "import psutil\n",
    "\n",
    "num_physical_cores = psutil.cpu_count(logical=False)\n",
    "num_cores_per_socket = num_physical_cores // 2\n",
    "\n",
    "os.environ[\"TOKENIZERS_PARALLELISM\"] = \"0\"\n",
    "#HF_TOKEN = os.environ[\"HF_TOKEN\"]\n",
    "\n",
    "# Set the LD_PRELOAD environment variable\n",
    "ld_preload = os.environ.get(\"LD_PRELOAD\", \"\")\n",
    "conda_prefix = os.environ.get(\"CONDA_PREFIX\", \"\")\n",
    "# Improve memory allocation performance, if tcmalloc is not available, please comment this line out\n",
    "os.environ[\"LD_PRELOAD\"] = f\"{ld_preload}:{conda_prefix}/lib/libtcmalloc.so\"\n",
    "# Reduce the overhead of submitting commands to the GPU\n",
    "os.environ[\"SYCL_PI_LEVEL_ZERO_USE_IMMEDIATE_COMMANDLISTS\"] = \"1\"\n",
    "# reducing memory accesses by fusing SDP ops\n",
    "os.environ[\"ENABLE_SDP_FUSION\"] = \"1\"\n",
    "# set openMP threads to number of physical cores\n",
    "os.environ[\"OMP_NUM_THREADS\"] = str(num_physical_cores)\n",
    "# Set the thread affinity policy\n",
    "os.environ[\"OMP_PROC_BIND\"] = \"close\"\n",
    "# Set the places for thread pinning\n",
    "os.environ[\"OMP_PLACES\"] = \"cores\"\n",
    "\n",
    "print(f\"Number of physical cores: {num_physical_cores}\")\n",
    "print(f\"Number of cores per socket: {num_cores_per_socket}\")\n",
    "print(f\"OpenMP environment variables:\")\n",
    "print(f\"  - OMP_NUM_THREADS: {os.environ['OMP_NUM_THREADS']}\")\n",
    "print(f\"  - OMP_PROC_BIND: {os.environ['OMP_PROC_BIND']}\")\n",
    "print(f\"  - OMP_PLACES: {os.environ['OMP_PLACES']}\")"
   ]
  },
  {
   "cell_type": "markdown",
   "id": "8",
   "metadata": {},
   "source": [
    "___\n",
    "#### Step 2: Initializing the XPU and monitoring GPU memory in realtime 🎮\n",
    "\n",
    "Next, we'll initialize the Intel Max 1550 GPU, which is referred to as an XPU. We'll use the `intel_extension_for_pytorch` library to seamlessly integrate XPU namespace with. 🤝\n",
    "\n",
    "##### 👀 GPU Memory Monitoring 👀\n",
    "\n",
    "To keep track of the Intel Max 1550 GPU (XPU) memory usage throughout this notebook, please refer to the cell below. It displays the current memory usage and updates every 5 seconds, providing you with real-time information about the GPU's memory consumption. 📊\n",
    "\n",
    "The memory monitoring cell displays the following information:\n",
    "\n",
    "- XPU Device Name: The name of the Intel Max 1550 GPU being used.\n",
    "- Reserved Memory: The amount of memory currently reserved by the GPU.\n",
    "- Allocated Memory: The amount of memory currently allocated by the GPU.\n",
    "- Max Reserved Memory: The maximum amount of memory that has been reserved by the GPU.\n",
    "- Max Allocated Memory: The maximum amount of memory that has been allocated by the GPU.\n",
    "\n",
    "Keep an eye on this cell to monitor the GPU memory usage as you progress through the notebook. If you need to check the current memory usage at any point, simply scroll down to the memory monitoring cell for a quick reference. 👇"
   ]
  },
  {
   "cell_type": "code",
   "execution_count": 3,
   "id": "9",
   "metadata": {},
   "outputs": [
    {
     "name": "stderr",
     "output_type": "stream",
     "text": [
      "[W224 02:42:04.524997573 OperatorEntry.cpp:155] Warning: Warning only once for all operators,  other operators may also be overridden.\n",
      "  Overriding a previously registered kernel for the same operator and the same dispatch key\n",
      "  operator: aten::_cummax_helper(Tensor self, Tensor(a!) values, Tensor(b!) indices, int dim) -> ()\n",
      "    registered at /workspace/repositories/IPEX/pytorch/build/aten/src/ATen/RegisterSchema.cpp:6\n",
      "  dispatch key: XPU\n",
      "  previous kernel: registered at /workspace/repositories/IPEX/pytorch/build/aten/src/ATen/RegisterCPU.cpp:30476\n",
      "       new kernel: registered at /workspace/repositories/IPEX/ipex/build/Release/csrc/gpu/csrc/aten/generated/ATen/RegisterXPU.cpp:2971 (function operator())\n"
     ]
    },
    {
     "name": "stdout",
     "output_type": "stream",
     "text": [
      "[2025-02-24 02:42:06,131] [INFO] [real_accelerator.py:219:get_accelerator] Setting ds_accelerator to xpu (auto detect)\n"
     ]
    },
    {
     "name": "stderr",
     "output_type": "stream",
     "text": [
      "ERROR: ld.so: object '/lib/libtcmalloc.so' from LD_PRELOAD cannot be preloaded (cannot open shared object file): ignored.\n",
      "ERROR: ld.so: object '/lib/libtcmalloc.so' from LD_PRELOAD cannot be preloaded (cannot open shared object file): ignored.\n",
      "ERROR: ld.so: object '/lib/libtcmalloc.so' from LD_PRELOAD cannot be preloaded (cannot open shared object file): ignored.\n",
      "ERROR: ld.so: object '/lib/libtcmalloc.so' from LD_PRELOAD cannot be preloaded (cannot open shared object file): ignored.\n",
      "ERROR: ld.so: object '/lib/libtcmalloc.so' from LD_PRELOAD cannot be preloaded (cannot open shared object file): ignored.\n",
      "ERROR: ld.so: object '/lib/libtcmalloc.so' from LD_PRELOAD cannot be preloaded (cannot open shared object file): ignored.\n",
      "/usr/bin/ld: cannot find -laio: No such file or directory\n",
      "collect2: error: ld returned 1 exit status\n"
     ]
    },
    {
     "data": {
      "text/html": [
       "<p>XPU (Intel(R) Data Center GPU Max 1100) :: Memory: Reserved=2.238 GB, Allocated=1.953 GB, Max Reserved=2.238 GB, Max Allocated=2.238 GB</p>"
      ],
      "text/plain": [
       "<IPython.core.display.HTML object>"
      ]
     },
     "metadata": {},
     "output_type": "display_data"
    }
   ],
   "source": [
    "import asyncio\n",
    "import threading\n",
    "import torch\n",
    "from IPython.display import display, HTML\n",
    "\n",
    "import torch\n",
    "import intel_extension_for_pytorch as ipex\n",
    "\n",
    "if torch.xpu.is_available():\n",
    "    torch.xpu.empty_cache()\n",
    "    \n",
    "    def get_memory_usage():\n",
    "        memory_reserved = round(torch.xpu.memory_reserved() / 1024**3, 3)\n",
    "        memory_allocated = round(torch.xpu.memory_allocated() / 1024**3, 3)\n",
    "        max_memory_reserved = round(torch.xpu.max_memory_reserved() / 1024**3, 3)\n",
    "        max_memory_allocated = round(torch.xpu.max_memory_allocated() / 1024**3, 3)\n",
    "        return memory_reserved, memory_allocated, max_memory_reserved, max_memory_allocated\n",
    "   \n",
    "    def print_memory_usage():\n",
    "        device_name = torch.xpu.get_device_name()\n",
    "        print(f\"XPU Name: {device_name}\")\n",
    "        memory_reserved, memory_allocated, max_memory_reserved, max_memory_allocated = get_memory_usage()\n",
    "        memory_usage_text = f\"XPU Memory: Reserved={memory_reserved} GB, Allocated={memory_allocated} GB, Max Reserved={max_memory_reserved} GB, Max Allocated={max_memory_allocated} GB\"\n",
    "        print(f\"\\r{memory_usage_text}\", end=\"\", flush=True)\n",
    "    \n",
    "    async def display_memory_usage(output):\n",
    "        device_name = torch.xpu.get_device_name()\n",
    "        output.update(HTML(f\"<p>XPU Name: {device_name}</p>\"))\n",
    "        while True:\n",
    "            memory_reserved, memory_allocated, max_memory_reserved, max_memory_allocated = get_memory_usage()\n",
    "            memory_usage_text = f\"XPU ({device_name}) :: Memory: Reserved={memory_reserved} GB, Allocated={memory_allocated} GB, Max Reserved={max_memory_reserved} GB, Max Allocated={max_memory_allocated} GB\"\n",
    "            output.update(HTML(f\"<p>{memory_usage_text}</p>\"))\n",
    "            await asyncio.sleep(5)\n",
    "    \n",
    "    def start_memory_monitor(output):\n",
    "        loop = asyncio.new_event_loop()\n",
    "        asyncio.set_event_loop(loop)\n",
    "        loop.create_task(display_memory_usage(output))\n",
    "        thread = threading.Thread(target=loop.run_forever)\n",
    "        thread.start()    \n",
    "    output = display(display_id=True)\n",
    "    start_memory_monitor(output)\n",
    "else:\n",
    "    print(\"XPU device not available.\")"
   ]
  },
  {
   "cell_type": "markdown",
   "id": "10",
   "metadata": {},
   "source": [
    "___\n",
    "#### Step 3: Configuring the LoRA Settings 🎛️\n",
    "\n",
    "To finetune our Gemma model efficiently, we'll use the LoRA (Low-Rank Adaptation) technique. \n",
    "\n",
    "LoRA allows us to adapt the model to our specific task by training only a small set of additional parameters. This greatly reduces the training time and memory requirements! ⏰\n",
    "\n",
    "We'll define the LoRA configuration, specifying the rank (`r`) and the target modules we want to adapt. 🎯"
   ]
  },
  {
   "cell_type": "code",
   "execution_count": 4,
   "id": "11",
   "metadata": {},
   "outputs": [
    {
     "name": "stdout",
     "output_type": "stream",
     "text": [
      "/home/uc221cfdf48c39da853b0e8362a90c40/.local/lib/python3.11/site-packages/bitsandbytes/libbitsandbytes_cpu.so: undefined symbol: cadam32bit_grad_fp32\n"
     ]
    }
   ],
   "source": [
    "from peft import LoraConfig\n",
    "\n",
    "lora_config = LoraConfig(\n",
    "    r=32,\n",
    "    lora_alpha=16,\n",
    "    lora_dropout=0.1,\n",
    "    bias=\"none\",\n",
    "    # could use q, v and 0 projections as well and comment out the rest\n",
    "    target_modules=[\"q_proj\", \"o_proj\", \n",
    "                    \"v_proj\", \"k_proj\", \n",
    "                    \"gate_proj\", \"up_proj\",\n",
    "                    \"down_proj\"],\n",
    "    task_type=\"CAUSAL_LM\")"
   ]
  },
  {
   "cell_type": "markdown",
   "id": "12",
   "metadata": {},
   "source": [
    "___\n",
    "#### Step 4: Loading the Gemma Model 🤖\n",
    "\n",
    "Now, let's load the Gemma model using the Hugging Face `AutoModelForCausalLM` class. We'll also load the corresponding tokenizer to preprocess our input data. The model will be moved to the XPU for efficient training. 💪"
   ]
  },
  {
   "cell_type": "markdown",
   "id": "13",
   "metadata": {},
   "source": [
    "> Note: Before running this notebook, please ensure you have read and agreed to the [Gemma Terms of Use](https://ai.google.dev/gemma/terms). You'll need to visit the Gemma model card on the Hugging Face Hub, accept the usage terms, and generate an access token with write permissions. This token will be required to load the model and push your finetuned version back to the Hub.\n",
    "\n",
    "To create an access token:\n",
    "1. Go to your Hugging Face account settings.\n",
    "2. Click on \"Access Tokens\" in the left sidebar.\n",
    "3. Click on the \"New token\" button.\n",
    "4. Give your token a name, select the desired permissions (make sure to include write access), and click \"Generate\".\n",
    "5. Copy the generated token and keep it secure. You'll use this token to authenticate when loading the model.\n",
    "\n",
    "Make sure to follow these steps to comply with the terms of use and ensure a smooth finetuning experience. If you have any questions or concerns, please refer to the official Gemma documentation or reach out to the Hugging Face community for assistance."
   ]
  },
  {
   "cell_type": "code",
   "execution_count": 5,
   "id": "14",
   "metadata": {},
   "outputs": [
    {
     "data": {
      "application/vnd.jupyter.widget-view+json": {
       "model_id": "8642273ccbee4361ba6fbe52fd0f98de",
       "version_major": 2,
       "version_minor": 0
      },
      "text/plain": [
       "VBox(children=(HTML(value='<center> <img\\nsrc=https://huggingface.co/front/assets/huggingface_logo-noborder.sv…"
      ]
     },
     "metadata": {},
     "output_type": "display_data"
    }
   ],
   "source": [
    "from huggingface_hub import notebook_login\n",
    "\n",
    "notebook_login()"
   ]
  },
  {
   "cell_type": "markdown",
   "id": "15",
   "metadata": {},
   "source": [
    "Now that you have logged in , let's load the model using transformers library:"
   ]
  },
  {
   "cell_type": "code",
   "execution_count": null,
   "id": "16",
   "metadata": {},
   "outputs": [
    {
     "data": {
      "application/vnd.jupyter.widget-view+json": {
       "model_id": "322feb6e36c542f0afbf36c662f26368",
       "version_major": 2,
       "version_minor": 0
      },
      "text/plain": [
       "Loading checkpoint shards:   0%|          | 0/2 [00:00<?, ?it/s]"
      ]
     },
     "metadata": {},
     "output_type": "display_data"
    }
   ],
   "source": [
    "from transformers import AutoTokenizer, AutoModelForCausalLM\n",
    "\n",
    "USE_CPU = False\n",
    "device = \"xpu:0\" if torch.xpu.is_available() else \"cpu\"\n",
    "if USE_CPU:\n",
    "    device = \"cpu\"\n",
    "print(f\"using device: {device}\")\n",
    "\n",
    "model_id = \"google/gemma-2b\"\n",
    "tokenizer = AutoTokenizer.from_pretrained(model_id)\n",
    "tokenizer.pad_token = tokenizer.eos_token\n",
    "# Set padding side to the right to ensure proper attention masking during fine-tuning\n",
    "tokenizer.padding_side = \"right\"\n",
    "model = AutoModelForCausalLM.from_pretrained(model_id).to(device)\n",
    "# Disable caching mechanism to reduce memory usage during fine-tuning\n",
    "model.config.use_cache = False\n",
    "# Configure the model's pre-training tensor parallelism degree to match the fine-tuning setup\n",
    "model.config.pretraining_tp = 1 "
   ]
  },
  {
   "cell_type": "markdown",
   "id": "17",
   "metadata": {},
   "source": [
    "___\n",
    "#### Step 5: Testing the Model 🧪\n",
    "\n",
    "Before we start finetuning, let's test the Gemma model on a sample input to see how it performs out-of-the-box. We'll generate some responses bsaed on a few questions in the `test_inputs` list below. 🌿"
   ]
  },
  {
   "cell_type": "code",
   "execution_count": null,
   "id": "18",
   "metadata": {},
   "outputs": [],
   "source": [
    "def generate_response(model, prompt):\n",
    "    input_ids = tokenizer(prompt, return_tensors=\"pt\").input_ids.to(device)    \n",
    "    outputs = model.generate(input_ids, max_new_tokens=100,\n",
    "                             eos_token_id=tokenizer.eos_token_id)    \n",
    "    return tokenizer.decode(outputs[0], skip_special_tokens=True)\n",
    "\n",
    "def test_model(model, test_inputs):\n",
    "    \"\"\"quickly test the model using queries.\"\"\"\n",
    "    for input_text in test_inputs:\n",
    "        print(\"__\"*25)\n",
    "        generated_response = generate_response(model, input_text)\n",
    "        print(f\"{input_text}\")\n",
    "        print(f\"Generated Answer: {generated_response}\\n\")\n",
    "        print(\"__\"*25)\n",
    "\n",
    "test_inputs = [\n",
    "    \"What are the main differences between a vegetarian and a vegan diet?\",\n",
    "    \"What are some effective strategies for managing stress and anxiety?\",\n",
    "    \"Can you explain the concept of blockchain technology in simple terms?\",\n",
    "    \"What are the key factors that influence the price of crude oil in global markets?\",\n",
    "    \"When did Virgin Australia start operating?\"\n",
    "]\n",
    "\n",
    "print(\"Testing the model before fine-tuning:\")\n",
    "test_model(model, test_inputs)"
   ]
  },
  {
   "cell_type": "markdown",
   "id": "19",
   "metadata": {},
   "source": [
    "___\n",
    "#### Step 6: Preparing the Dataset 📊\n",
    "\n",
    "For finetuning our model, we'll be using a subset of the \"databricks/databricks-dolly-15k\" dataset. This dataset contains a diverse range of question-answer pairs spanning multiple categories. By focusing specifically on the question-answer pairs, we aim to adapt our model to provide accurate and relevant responses to various inquiries. 🙋‍♀️🙋‍♂️\n",
    "\n",
    "We'll extract the question-answer categories from the dataset using the code provided in the cell below. By filtering the dataset based on the \"Question answering\" category, we ensure that our model is finetuned on relevant question-answer pairs. This targeted approach allows us to leverage real-world data to enhance our model's ability to provide accurate and informative responses. 💡\n",
    "\n",
    "We'll then split the extracted question-answer data into training and validation sets using the train_test_split function from the sklearn.model_selection module. This will help us assess the model's performance during the finetuning process. 📊"
   ]
  },
  {
   "cell_type": "code",
   "execution_count": null,
   "id": "20",
   "metadata": {},
   "outputs": [],
   "source": [
    "from datasets import load_dataset\n",
    "\n",
    "dataset_name = \"databricks/databricks-dolly-15k\"\n",
    "dataset = load_dataset(dataset_name, split=\"train\")\n",
    "\n",
    "print(f\"Instruction is: {dataset[0]['instruction']}\")\n",
    "print(f\"Response is: {dataset[0]['response']}\")\n",
    "\n",
    "# Filter only question Answers\n",
    "categories_to_keep = [\"close_qa\", \"open_qa\", \"general_qa\"]\n",
    "filtered_dataset = dataset.filter(lambda example: example['category'] in categories_to_keep)\n",
    "\n",
    "print(f\"Number of examples in the filtered dataset: {len(filtered_dataset)}\")\n",
    "print(f\"Categories in the filtered dataset: {filtered_dataset['category'][:10]}\")\n",
    "\n",
    "# Remove unwanted fields from the filtered dataset\n",
    "dataset = filtered_dataset.remove_columns([\"context\", \"category\"])\n",
    "print(f\"Number of examples in the dataset: {len(dataset)}\")\n",
    "print(f\"Fields in the dataset: {list(dataset.features.keys())}\")"
   ]
  },
  {
   "cell_type": "code",
   "execution_count": null,
   "id": "21",
   "metadata": {},
   "outputs": [],
   "source": [
    "def format_prompts(batch):\n",
    "    formatted_prompts = []\n",
    "    for instruction, response in zip(batch[\"instruction\"], batch[\"response\"]):\n",
    "        prompt = f\"Instruction:\\n{instruction}\\n\\nResponse:\\n{response}\"\n",
    "        formatted_prompts.append(prompt)\n",
    "    return {\"text\": formatted_prompts}\n",
    "\n",
    "dataset = dataset.map(format_prompts, batched=True)\n",
    "split_dataset = dataset.train_test_split(test_size=0.2, seed=99)\n",
    "train_dataset = split_dataset[\"train\"]\n",
    "validation_dataset = split_dataset[\"test\"]"
   ]
  },
  {
   "cell_type": "markdown",
   "id": "22",
   "metadata": {},
   "source": [
    "___\n",
    "#### Step 7: Finetuning the Model 🏋️‍♂️\n",
    "\n",
    "It's time to finetune our Gemma model! We'll use the SFTTrainer class from the trl library, which is designed for supervised fine-tuning of language models. We'll specify the training arguments, such as batch size, learning rate, and evaluation strategy. 📈\n",
    "\n",
    "Supervised fine-tuning (SFT) is a powerful technique for adapting pre-trained language models to specific tasks. By providing the model with question-answer pairs from the Databricks Dolly 15k dataset, we can guide it to generate more accurate and relevant responses. SFT allows the model to learn the patterns and relationships specific to the diverse range of topics covered in the dataset. 🎓\n",
    "\n",
    "By focusing on the \"Question answering\" category, we can leverage the rich information available in the Dolly dataset to enhance our model's ability to provide informative and contextually appropriate responses. The model will learn to understand the nuances and intricacies of various question types and generate answers that are coherent and relevant. 💡\n",
    "\n",
    "We'll also enable experiment tracking with Weights & Biases (wandb) to monitor our training progress and visualize the results. This will give us valuable insights into how the model is improving over time and help us make informed decisions during the fine-tuning process. 📊"
   ]
  },
  {
   "cell_type": "code",
   "execution_count": null,
   "id": "23",
   "metadata": {},
   "outputs": [],
   "source": [
    "import transformers\n",
    "import wandb\n",
    "\n",
    "from trl import SFTTrainer\n",
    "\n",
    "os.environ[\"WANDB_PROJECT\"] = \"gemma_dolly-qa\"  \n",
    "os.environ[\"WANDB_LOG_MODEL\"] = \"checkpoint\"\n",
    "os.environ[\"IPEX_TILE_AS_DEVICE\"] = \"1\"\n",
    "\n",
    "finetuned_model_id = \"unrahul/gemma-2b-dolly-qa\"\n",
    "PUSH_TO_HUB = True\n",
    "USE_WANDB = True\n",
    "\n",
    "# Calculate max_steps based on the subset size\n",
    "num_train_samples = len(train_dataset)\n",
    "batch_size = 2\n",
    "gradient_accumulation_steps = 8\n",
    "steps_per_epoch = num_train_samples // (batch_size * gradient_accumulation_steps)\n",
    "num_epochs = 5\n",
    "max_steps = steps_per_epoch * num_epochs\n",
    "print(f\"Finetuning for max number of steps: {max_steps}\")\n",
    "\n",
    "def print_training_summary(results):\n",
    "    print(f\"Time: {results.metrics['train_runtime']: .2f}\")\n",
    "    print(f\"Samples/second: {results.metrics['train_samples_per_second']: .2f}\")\n",
    "    get_memory_usage()\n",
    "\n",
    "training_args = transformers.TrainingArguments(\n",
    "        per_device_train_batch_size=batch_size,\n",
    "        gradient_accumulation_steps=gradient_accumulation_steps,\n",
    "        warmup_ratio=0.05,\n",
    "        max_steps=max_steps,\n",
    "        learning_rate=1e-5,\n",
    "        evaluation_strategy=\"steps\",\n",
    "        save_steps=500,\n",
    "        bf16=True,\n",
    "        logging_steps=100,\n",
    "        output_dir=finetuned_model_id,\n",
    "        hub_model_id=finetuned_model_id if PUSH_TO_HUB else None,\n",
    "        use_ipex=True,\n",
    "        report_to=\"wandb\" if USE_WANDB else None,\n",
    "        #push_to_hub=PUSH_TO_HUB,\n",
    "        max_grad_norm=0.6,\n",
    "        weight_decay=0.01,\n",
    "        group_by_length=True\n",
    ")\n",
    "\n",
    "trainer = SFTTrainer(\n",
    "    model=model,\n",
    "    train_dataset=train_dataset,\n",
    "    eval_dataset=validation_dataset,\n",
    "    tokenizer=tokenizer,\n",
    "    args=training_args,\n",
    "    peft_config=lora_config,\n",
    "    dataset_text_field=\"text\",\n",
    "    max_seq_length=512,\n",
    "    packing=True\n",
    ")\n",
    "\n",
    "if device != \"cpu\":\n",
    "    print_memory_usage()\n",
    "    torch.xpu.empty_cache()\n",
    "results = trainer.train()\n",
    "print_training_summary(results)\n",
    "wandb.finish()\n",
    "\n",
    "# save lora model\n",
    "tuned_lora_model = \"gemma-2b-dolly-qa-lora\"\n",
    "trainer.model.save_pretrained(tuned_lora_model)"
   ]
  },
  {
   "cell_type": "markdown",
   "id": "24",
   "metadata": {},
   "source": [
    "___\n",
    "#### Step 8: Savethe Finetuned Model 💾\n",
    "\n",
    "After finetuning, let's put our model to the test! But before we do that, we need to merge the LoRA weights with the base model. This step is crucial because the LoRA weights contain the learned adaptations from the finetuning process. By merging the LoRA weights, we effectively incorporate the knowledge gained during finetuning into the base model. 🧠💡\n",
    "\n",
    "To merge the LoRA weights, we'll use the `merge_and_unload()` function provided by the PEFT library. This function seamlessly combines the LoRA weights with the corresponding weights of the base model, creating a single unified model that includes the finetuned knowledge. 🎛️🔧\n",
    "\n",
    "Once the LoRA weights are merged, we'll save the finetuned model to preserve its state. This way, we can easily load and use the finetuned model for future tasks without having to repeat the finetuning process. ✨"
   ]
  },
  {
   "cell_type": "code",
   "execution_count": null,
   "id": "25",
   "metadata": {},
   "outputs": [],
   "source": [
    "from peft import PeftModel\n",
    "\n",
    "tuned_model = \"gemma-2b-dolly-qa\"\n",
    "\n",
    "base_model = AutoModelForCausalLM.from_pretrained(\n",
    "    model_id,\n",
    "    low_cpu_mem_usage=True,\n",
    "    return_dict=True,\n",
    "    torch_dtype=torch.bfloat16,\n",
    ")\n",
    "\n",
    "model = PeftModel.from_pretrained(base_model, tuned_lora_model)\n",
    "model = model.merge_and_unload()\n",
    "# save final tuned model\n",
    "model.save_pretrained(tuned_model)\n",
    "tokenizer = AutoTokenizer.from_pretrained(model_id)\n",
    "tokenizer.pad_token = tokenizer.eos_token\n",
    "tokenizer.padding_side = \"right\"\n",
    "#model2 = ipex.optimize_transformers(model)  # optimize the model using `ipex`"
   ]
  },
  {
   "cell_type": "markdown",
   "id": "26",
   "metadata": {},
   "source": [
    "___\n",
    "#### Step 8: Evaluating the Finetuned Model 🎉\n",
    "\n",
    "Now, let's generate a response to the same question we asked earlier using the finetuned model. We'll compare the output with the pre-finetuned model to see how much it has improved. Get ready to be amazed by the power of finetuning! 🤩💫\n",
    "\n",
    "By merging the LoRA weights and saving the finetuned model, we ensure that our model is ready to tackle real-world tasks with its newly acquired knowledge. So, let's put it to the test and see how it performs! 🚀🌟"
   ]
  },
  {
   "cell_type": "code",
   "execution_count": null,
   "id": "27",
   "metadata": {},
   "outputs": [],
   "source": [
    "test_inputs = [\n",
    "    \"What are the main differences between a vegetarian and a vegan diet?\",\n",
    "    \"What are some effective strategies for managing stress and anxiety?\",\n",
    "    \"Can you explain the concept of blockchain technology in simple terms?\",\n",
    "    \"What are the key factors that influence the price of crude oil in global markets?\",\n",
    "    \"When did Virgin Australia start operating?\"\n",
    "]\n",
    "device = \"xpu:0\"\n",
    "\n",
    "model = model.to(device)\n",
    "for text in test_inputs:\n",
    "    inputs = tokenizer(text, return_tensors=\"pt\").to(device)\n",
    "    outputs = model.generate(**inputs, max_new_tokens=200, \n",
    "                             do_sample=False, top_k=100,temperature=0.1, \n",
    "                             eos_token_id=tokenizer.eos_token_id)\n",
    "    print(tokenizer.decode(outputs[0], skip_special_tokens=True))"
   ]
  },
  {
   "cell_type": "markdown",
   "id": "28",
   "metadata": {},
   "source": [
    "___\n",
    "#### Fine-tuning Results and Observations\n",
    "\n",
    "After fine-tuning the Gemma model on a diverse question-answering dataset covering topics such as health, politics, technology, and economics, we observed significant improvements in the model's ability to provide accurate and relevant responses to a wide range of queries. The fine-tuned model demonstrated a better understanding of domain-specific terminology and concepts compared to the baseline model.\n",
    "\n",
    "The model's performance was evaluated on a held-out test set, and it achieved promising results in terms of accuracy and coherence. The fine-tuned model was able to generate more contextually appropriate and informative responses compared to the generic model.\n",
    "\n",
    "However, it's important to note that the model's performance may still be limited by the size and diversity of the fine-tuning dataset. Expanding the dataset with more varied questions and answers across different domains could further enhance the model's capabilities and generalization.\n",
    "\n",
    "Overall, the fine-tuned model shows promise in assisting users with their information needs across various topics, but it should be used as a complementary tool alongside other reliable sources of information."
   ]
  },
  {
   "cell_type": "markdown",
   "id": "29",
   "metadata": {},
   "source": [
    "___\n",
    "#### Step 9: Pushing the Model to Hugging Face 🚀\n",
    "\n",
    "Sharing your fine-tuned model with the community is a great way to contribute and showcase your work. Hugging Face provides a platform called the Model Hub, where you can easily push your model and make it accessible to others.\n",
    "\n",
    "To push your model to the Hugging Face Model Hub, you'll need to create a repository on the platform and configure your authentication token. Once set up, you can use the push_to_hub() method provided by the transformers library to upload your model.\n",
    "\n",
    "Pushing your model to the Hugging Face Model Hub allows other researchers and developers to discover, use, and build upon your work. It fosters collaboration and accelerates progress in the field of natural language processing.\n",
    "\n",
    "Remember to provide clear documentation and instructions on how to use your model effectively. Include details about the fine-tuning dataset, any specific preprocessing steps, and example usage to make it easier for others to leverage your model in their own projects.\n",
    "\n",
    "By sharing your fine-tuned model on the Hugging Face Model Hub, you contribute to the open-source community and enable others to benefit from your work, while also gaining visibility and potential collaborations for your own research and development efforts."
   ]
  },
  {
   "cell_type": "code",
   "execution_count": null,
   "id": "30",
   "metadata": {},
   "outputs": [],
   "source": [
    "trainer.push_to_hub()"
   ]
  },
  {
   "cell_type": "markdown",
   "id": "31",
   "metadata": {},
   "source": [
    "### Happy finetuning! 😄✨\n",
    "\n",
    "Congratulations on making it this far! You now have all the tools and knowledge to finetune the powerful Gemma model on your own datasets. Feel free to experiment, customize, and adapt this notebook to your specific use case. Try out different datasets, tweak the hyperparameters, and see how the model's performance improves.\n",
    "\n",
    "We encourage you to share your finetuned models and experiences with the community. Consider open-sourcing your work on platforms like GitHub or Hugging Face, and write blog posts detailing your journey. Your insights and achievements can inspire and help others in their own finetuning adventures.\n",
    "\n",
    "If you encounter any issues or have suggestions for improvement, please don't hesitate to reach out and provide feedback. We value your input and are committed to making this notebook and the finetuning process as smooth and enjoyable as possible.\n",
    "\n",
    "So go ahead, unleash your creativity, and embark on an exciting finetuning journey with the Gemma model and Intel's powerful Max Series GPUs and (Xeon Scalable CPUs too)! The possibilities are endless, and we can't wait to see what you'll create. Happy finetuning! 🚀✨\n",
    "\n",
    "To dive even deeper into the exciting world of generative AI on Intel GPUs, be sure to check out our genAI repository on GitHub. There you'll find additional notebooks covering topics like:\n",
    "\n",
    "- Text-to-Image with Stable Diffusion\n",
    "- Image-to-Image with Stable Diffusion\n",
    "- Simple LLM Inference: Playing with Language Models\n",
    "- And more!\n",
    "\n",
    "Feel free to explore, run, and modify these notebooks to further expand your understanding and spark new ideas. If you have any questions, encounter issues, or have suggestions for improvement, please don't hesitate to open an issue on the GitHub repository. We greatly value your feedback and contributions to make this resource even better.\n",
    "\n",
    "Happy finetuning and happy exploring! May your generative AI journey be filled with wonders and breakthroughs. 🌟✨\n",
    "\n",
    "Let me know if you would like me to modify or expand on anything else in the notebook. I'm here to help make it the best it can be!"
   ]
  },
  {
   "cell_type": "markdown",
   "id": "32",
   "metadata": {},
   "source": [
    "___\n",
    "#### References and Resources 📚\n",
    "\n",
    "- Google's Gemma Model: [Model Card](https://huggingface.co/google/gemma-2b)\n",
    "- Intel Max Series GPUs: [Product Page](https://www.intel.com/content/www/us/en/products/details/discrete-gpus/data-center-gpu/max-series.html)\n",
    "- Intel Extension for PyTorch: [Github link](https://github.com/intel/intel-extension-for-pytorch)\n",
    "- Hugging Face Transformers: [Documentation](https://huggingface.co/docs/transformers/index)\n",
    "- LoRA: [Paper](https://arxiv.org/abs/2106.09685)\n",
    "- Weights & Biases: [Website](https://wandb.ai/)\n",
    "- dolly dataset: [dataset](databricks/databricks-dolly-15k)\n",
    "\n",
    "___\n",
    "\n",
    "#### Disclaimer for Using Large Language Models\n",
    "\n",
    "Please be aware that while Large Language Models like Camel-5B and OpenLLaMA 3b v2 are powerful tools for text generation, they may sometimes produce results that are unexpected, biased, or inconsistent with the given prompt. It's advisable to carefully review the generated text and consider the context and application in which you are using these models.\n",
    "\n",
    "Usage of these models must also adhere to the licensing agreements and be in accordance with ethical guidelines and best practices for AI. If you have any concerns or encounter issues with the models, please refer to the respective model cards and documentation provided in the links above.\n",
    "\n",
    "To the extent that any public or non-Intel datasets or models are referenced by or accessed using these materials those datasets or models are provided by the third party indicated as the content source. Intel does not create the content and does not warrant its accuracy or quality. By accessing the public content, or using materials trained on or with such content, you agree to the terms associated with that content and that your use complies with the applicable license.\n",
    "\n",
    "Intel expressly disclaims the accuracy, adequacy, or completeness of any such public content, and is not liable for any errors, omissions, or defects in the content, or for any reliance on the content. Intel is not liable for any liability or damages relating to your use of public content.\n",
    "\n",
    "Intel’s provision of these resources does not expand or otherwise alter Intel’s applicable published warranties or warranty disclaimers for Intel products or solutions, and no additional obligations, indemnifications, or liabilities arise from Intel providing such resources. Intel reserves the right, without notice, to make corrections, enhancements, improvements, and other changes to its materials."
   ]
  },
  {
   "cell_type": "code",
   "execution_count": null,
   "id": "33",
   "metadata": {},
   "outputs": [],
   "source": []
  }
 ],
 "metadata": {
  "kernelspec": {
   "display_name": "PyTorch GPU",
   "language": "python",
   "name": "pytorch-gpu"
  },
  "language_info": {
   "codemirror_mode": {
    "name": "ipython",
    "version": 3
   },
   "file_extension": ".py",
   "mimetype": "text/x-python",
   "name": "python",
   "nbconvert_exporter": "python",
   "pygments_lexer": "ipython3",
   "version": "3.11.9"
  }
 },
 "nbformat": 4,
 "nbformat_minor": 5
}
