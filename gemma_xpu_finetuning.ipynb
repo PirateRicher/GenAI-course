{
 "cells": [
  {
   "cell_type": "raw",
   "id": "0",
   "metadata": {},
   "source": [
    "SPDX-License-Identifier: Apache-2.0 \n",
    "Copyright (c) 2023, Rahul Unnikrishnan Nair <rahul.unnikrishnan.nair@intel.com>"
   ]
  },
  {
   "cell_type": "markdown",
   "id": "1",
   "metadata": {},
   "source": [
    "### Prerequisite\n",
    "Account on Intel Tiber AI Cloud.\n",
    "\n",
    "This notebook was adapted and tested for EECE.4860/5860 Introduction to GenAI at UMass Lowell\n",
    "\n",
    "## Finetuning Google's Gemma Model on Intel Max Series GPUs 🚀"
   ]
  },
  {
   "cell_type": "markdown",
   "id": "2",
   "metadata": {},
   "source": [
    "Welcome to this exciting journey where we'll dive into the world of finetuning large language models (LLMs) using Intel® Data Center GPU Max Series! 🌟 \n",
    "\n",
    "In this notebook, we'll be working with Google's Gemma model and optimizing it for a specific task using the Intel Max 1550 GPU. 💪\n",
    "___"
   ]
  },
  {
   "cell_type": "markdown",
   "id": "3",
   "metadata": {},
   "source": [
    "### Overview\n",
    "\n",
    "**Note**: Please select the \"PyTorch GPU\" kernel when running this notebook\n",
    "\n",
    "In this notebook, you will learn how to fine-tune a large language model (Google's Gemma) using Intel Max Series GPUs (XPUs) for a specific task. The notebook covers the following key points:\n",
    "\n",
    "1. Setting up the environment and optimizing it for Intel GPUs\n",
    "2. Initializing the XPU and configuring LoRA settings for efficient fine-tuning\n",
    "3. Loading the pre-trained Gemma model and testing its performance\n",
    "4. Preparing a diverse dataset of question-answer pairs covering various domains\n",
    "5. Fine-tuning the model using the Hugging Face `Trainer` class\n",
    "6. Evaluating the fine-tuned model on a test dataset\n",
    "7. Saving and loading the fine-tuned model for future use\n",
    "\n",
    "\n",
    "The notebook demonstrates how fine-tuning can enhance a model's performance on a diverse range of topics, making it more versatile and applicable to various domains. You will gain insights into the process of creating a **task-specific model** that can provide accurate and relevant responses to a wide range of questions.\n",
    "</br>\n",
    "___"
   ]
  },
  {
   "cell_type": "markdown",
   "id": "4",
   "metadata": {},
   "source": [
    "#### Step 1: Setting Up the Environment 🛠️\n",
    "\n",
    "First things first, let's get our environment ready! We'll install all the necessary packages, including the Hugging Face `transformers` library, `datasets` for easy data loading, `wandb` for experiment tracking, and a few others. 📦"
   ]
  },
  {
   "cell_type": "code",
   "execution_count": 1,
   "id": "5",
   "metadata": {},
   "outputs": [
    {
     "name": "stdout",
     "output_type": "stream",
     "text": [
      "Defaulting to user installation because normal site-packages is not writeable\n",
      "Requirement already satisfied: peft==0.10.0 in /home/uc221cfdf48c39da853b0e8362a90c40/.local/lib/python3.11/site-packages (0.10.0)\n",
      "Requirement already satisfied: datasets in /home/uc221cfdf48c39da853b0e8362a90c40/.local/lib/python3.11/site-packages (3.3.2)\n",
      "Requirement already satisfied: ipywidgets in /home/uc221cfdf48c39da853b0e8362a90c40/.local/lib/python3.11/site-packages (8.1.5)\n",
      "Requirement already satisfied: transformers==4.38.2 in /home/uc221cfdf48c39da853b0e8362a90c40/.local/lib/python3.11/site-packages (4.38.2)\n",
      "Requirement already satisfied: wandb in /home/uc221cfdf48c39da853b0e8362a90c40/.local/lib/python3.11/site-packages (0.19.7)\n",
      "Requirement already satisfied: trl==0.8.3 in /home/uc221cfdf48c39da853b0e8362a90c40/.local/lib/python3.11/site-packages (0.8.3)\n",
      "Requirement already satisfied: accelerate==0.27.2 in /home/uc221cfdf48c39da853b0e8362a90c40/.local/lib/python3.11/site-packages (0.27.2)\n",
      "Requirement already satisfied: bitsandbytes==0.43.0 in /home/uc221cfdf48c39da853b0e8362a90c40/.local/lib/python3.11/site-packages (0.43.0)\n",
      "Requirement already satisfied: scipy==1.12.0 in /home/uc221cfdf48c39da853b0e8362a90c40/.local/lib/python3.11/site-packages (1.12.0)\n",
      "Requirement already satisfied: numpy>=1.17 in /opt/intel/oneapi/intelpython/envs/pytorch-gpu/lib/python3.11/site-packages (from peft==0.10.0) (1.26.4)\n",
      "Requirement already satisfied: packaging>=20.0 in /opt/intel/oneapi/intelpython/envs/pytorch-gpu/lib/python3.11/site-packages (from peft==0.10.0) (24.1)\n",
      "Requirement already satisfied: psutil in /opt/intel/oneapi/intelpython/envs/pytorch-gpu/lib/python3.11/site-packages (from peft==0.10.0) (6.0.0)\n",
      "Requirement already satisfied: pyyaml in /opt/intel/oneapi/intelpython/envs/pytorch-gpu/lib/python3.11/site-packages (from peft==0.10.0) (6.0.2)\n",
      "Requirement already satisfied: torch>=1.13.0 in /opt/intel/oneapi/intelpython/envs/pytorch-gpu/lib/python3.11/site-packages (from peft==0.10.0) (2.5.1+cxx11.abi)\n",
      "Requirement already satisfied: tqdm in /opt/intel/oneapi/intelpython/envs/pytorch-gpu/lib/python3.11/site-packages (from peft==0.10.0) (4.66.5)\n",
      "Requirement already satisfied: safetensors in /home/uc221cfdf48c39da853b0e8362a90c40/.local/lib/python3.11/site-packages (from peft==0.10.0) (0.5.2)\n",
      "Requirement already satisfied: huggingface-hub>=0.17.0 in /home/uc221cfdf48c39da853b0e8362a90c40/.local/lib/python3.11/site-packages (from peft==0.10.0) (0.29.1)\n",
      "Requirement already satisfied: filelock in /opt/intel/oneapi/intelpython/envs/pytorch-gpu/lib/python3.11/site-packages (from transformers==4.38.2) (3.16.1)\n",
      "Requirement already satisfied: regex!=2019.12.17 in /home/uc221cfdf48c39da853b0e8362a90c40/.local/lib/python3.11/site-packages (from transformers==4.38.2) (2024.11.6)\n",
      "Requirement already satisfied: requests in /opt/intel/oneapi/intelpython/envs/pytorch-gpu/lib/python3.11/site-packages (from transformers==4.38.2) (2.32.3)\n",
      "Requirement already satisfied: tokenizers<0.19,>=0.14 in /home/uc221cfdf48c39da853b0e8362a90c40/.local/lib/python3.11/site-packages (from transformers==4.38.2) (0.15.2)\n",
      "Requirement already satisfied: tyro>=0.5.11 in /home/uc221cfdf48c39da853b0e8362a90c40/.local/lib/python3.11/site-packages (from trl==0.8.3) (0.9.16)\n",
      "Requirement already satisfied: pyarrow>=15.0.0 in /home/uc221cfdf48c39da853b0e8362a90c40/.local/lib/python3.11/site-packages (from datasets) (19.0.0)\n",
      "Requirement already satisfied: dill<0.3.9,>=0.3.0 in /home/uc221cfdf48c39da853b0e8362a90c40/.local/lib/python3.11/site-packages (from datasets) (0.3.8)\n",
      "Requirement already satisfied: pandas in /opt/intel/oneapi/intelpython/envs/pytorch-gpu/lib/python3.11/site-packages (from datasets) (2.2.2)\n",
      "Requirement already satisfied: xxhash in /home/uc221cfdf48c39da853b0e8362a90c40/.local/lib/python3.11/site-packages (from datasets) (3.5.0)\n",
      "Requirement already satisfied: multiprocess<0.70.17 in /home/uc221cfdf48c39da853b0e8362a90c40/.local/lib/python3.11/site-packages (from datasets) (0.70.16)\n",
      "Requirement already satisfied: fsspec<=2024.12.0,>=2023.1.0 in /home/uc221cfdf48c39da853b0e8362a90c40/.local/lib/python3.11/site-packages (from fsspec[http]<=2024.12.0,>=2023.1.0->datasets) (2024.9.0)\n",
      "Requirement already satisfied: aiohttp in /home/uc221cfdf48c39da853b0e8362a90c40/.local/lib/python3.11/site-packages (from datasets) (3.11.11)\n",
      "Requirement already satisfied: comm>=0.1.3 in /opt/intel/oneapi/intelpython/envs/pytorch-gpu/lib/python3.11/site-packages (from ipywidgets) (0.2.2)\n",
      "Requirement already satisfied: ipython>=6.1.0 in /opt/intel/oneapi/intelpython/envs/pytorch-gpu/lib/python3.11/site-packages (from ipywidgets) (8.30.0)\n",
      "Requirement already satisfied: traitlets>=4.3.1 in /opt/intel/oneapi/intelpython/envs/pytorch-gpu/lib/python3.11/site-packages (from ipywidgets) (5.14.3)\n",
      "Requirement already satisfied: widgetsnbextension~=4.0.12 in /home/uc221cfdf48c39da853b0e8362a90c40/.local/lib/python3.11/site-packages (from ipywidgets) (4.0.13)\n",
      "Requirement already satisfied: jupyterlab-widgets~=3.0.12 in /home/uc221cfdf48c39da853b0e8362a90c40/.local/lib/python3.11/site-packages (from ipywidgets) (3.0.13)\n",
      "Requirement already satisfied: click!=8.0.0,>=7.1 in /home/uc221cfdf48c39da853b0e8362a90c40/.local/lib/python3.11/site-packages (from wandb) (8.1.8)\n",
      "Requirement already satisfied: docker-pycreds>=0.4.0 in /home/uc221cfdf48c39da853b0e8362a90c40/.local/lib/python3.11/site-packages (from wandb) (0.4.0)\n",
      "Requirement already satisfied: gitpython!=3.1.29,>=1.0.0 in /home/uc221cfdf48c39da853b0e8362a90c40/.local/lib/python3.11/site-packages (from wandb) (3.1.44)\n",
      "Requirement already satisfied: platformdirs in /opt/intel/oneapi/intelpython/envs/pytorch-gpu/lib/python3.11/site-packages (from wandb) (4.3.6)\n",
      "Requirement already satisfied: protobuf!=4.21.0,!=5.28.0,<6,>=3.19.0 in /opt/intel/oneapi/intelpython/envs/pytorch-gpu/lib/python3.11/site-packages (from wandb) (5.29.3)\n",
      "Requirement already satisfied: pydantic<3,>=2.6 in /opt/intel/oneapi/intelpython/envs/pytorch-gpu/lib/python3.11/site-packages (from wandb) (2.9.2)\n",
      "Requirement already satisfied: sentry-sdk>=2.0.0 in /home/uc221cfdf48c39da853b0e8362a90c40/.local/lib/python3.11/site-packages (from wandb) (2.22.0)\n",
      "Requirement already satisfied: setproctitle in /home/uc221cfdf48c39da853b0e8362a90c40/.local/lib/python3.11/site-packages (from wandb) (1.3.5)\n",
      "Requirement already satisfied: setuptools in /opt/intel/oneapi/intelpython/envs/pytorch-gpu/lib/python3.11/site-packages (from wandb) (75.1.0)\n",
      "Requirement already satisfied: typing-extensions<5,>=4.4 in /opt/intel/oneapi/intelpython/envs/pytorch-gpu/lib/python3.11/site-packages (from wandb) (4.12.2)\n",
      "Requirement already satisfied: six>=1.4.0 in /opt/intel/oneapi/intelpython/envs/pytorch-gpu/lib/python3.11/site-packages (from docker-pycreds>=0.4.0->wandb) (1.16.0)\n",
      "Requirement already satisfied: aiohappyeyeballs>=2.3.0 in /home/uc221cfdf48c39da853b0e8362a90c40/.local/lib/python3.11/site-packages (from aiohttp->datasets) (2.4.4)\n",
      "Requirement already satisfied: aiosignal>=1.1.2 in /home/uc221cfdf48c39da853b0e8362a90c40/.local/lib/python3.11/site-packages (from aiohttp->datasets) (1.3.2)\n",
      "Requirement already satisfied: attrs>=17.3.0 in /home/uc221cfdf48c39da853b0e8362a90c40/.local/lib/python3.11/site-packages (from aiohttp->datasets) (25.1.0)\n",
      "Requirement already satisfied: frozenlist>=1.1.1 in /home/uc221cfdf48c39da853b0e8362a90c40/.local/lib/python3.11/site-packages (from aiohttp->datasets) (1.5.0)\n",
      "Requirement already satisfied: multidict<7.0,>=4.5 in /home/uc221cfdf48c39da853b0e8362a90c40/.local/lib/python3.11/site-packages (from aiohttp->datasets) (6.1.0)\n",
      "Requirement already satisfied: propcache>=0.2.0 in /home/uc221cfdf48c39da853b0e8362a90c40/.local/lib/python3.11/site-packages (from aiohttp->datasets) (0.2.1)\n",
      "Requirement already satisfied: yarl<2.0,>=1.17.0 in /home/uc221cfdf48c39da853b0e8362a90c40/.local/lib/python3.11/site-packages (from aiohttp->datasets) (1.18.3)\n",
      "Requirement already satisfied: gitdb<5,>=4.0.1 in /home/uc221cfdf48c39da853b0e8362a90c40/.local/lib/python3.11/site-packages (from gitpython!=3.1.29,>=1.0.0->wandb) (4.0.12)\n",
      "Requirement already satisfied: decorator in /opt/intel/oneapi/intelpython/envs/pytorch-gpu/lib/python3.11/site-packages (from ipython>=6.1.0->ipywidgets) (5.1.1)\n",
      "Requirement already satisfied: jedi>=0.16 in /opt/intel/oneapi/intelpython/envs/pytorch-gpu/lib/python3.11/site-packages (from ipython>=6.1.0->ipywidgets) (0.19.2)\n",
      "Requirement already satisfied: matplotlib-inline in /opt/intel/oneapi/intelpython/envs/pytorch-gpu/lib/python3.11/site-packages (from ipython>=6.1.0->ipywidgets) (0.1.7)\n",
      "Requirement already satisfied: pexpect>4.3 in /opt/intel/oneapi/intelpython/envs/pytorch-gpu/lib/python3.11/site-packages (from ipython>=6.1.0->ipywidgets) (4.9.0)\n",
      "Requirement already satisfied: prompt_toolkit<3.1.0,>=3.0.41 in /opt/intel/oneapi/intelpython/envs/pytorch-gpu/lib/python3.11/site-packages (from ipython>=6.1.0->ipywidgets) (3.0.48)\n",
      "Requirement already satisfied: pygments>=2.4.0 in /opt/intel/oneapi/intelpython/envs/pytorch-gpu/lib/python3.11/site-packages (from ipython>=6.1.0->ipywidgets) (2.18.0)\n",
      "Requirement already satisfied: stack_data in /opt/intel/oneapi/intelpython/envs/pytorch-gpu/lib/python3.11/site-packages (from ipython>=6.1.0->ipywidgets) (0.6.3)\n",
      "Requirement already satisfied: annotated-types>=0.6.0 in /opt/intel/oneapi/intelpython/envs/pytorch-gpu/lib/python3.11/site-packages (from pydantic<3,>=2.6->wandb) (0.7.0)\n",
      "Requirement already satisfied: pydantic-core==2.23.4 in /opt/intel/oneapi/intelpython/envs/pytorch-gpu/lib/python3.11/site-packages (from pydantic<3,>=2.6->wandb) (2.23.4)\n",
      "Requirement already satisfied: charset-normalizer<4,>=2 in /opt/intel/oneapi/intelpython/envs/pytorch-gpu/lib/python3.11/site-packages (from requests->transformers==4.38.2) (3.4.0)\n",
      "Requirement already satisfied: idna<4,>=2.5 in /opt/intel/oneapi/intelpython/envs/pytorch-gpu/lib/python3.11/site-packages (from requests->transformers==4.38.2) (3.10)\n",
      "Requirement already satisfied: urllib3<3,>=1.21.1 in /opt/intel/oneapi/intelpython/envs/pytorch-gpu/lib/python3.11/site-packages (from requests->transformers==4.38.2) (2.2.3)\n",
      "Requirement already satisfied: certifi>=2017.4.17 in /opt/intel/oneapi/intelpython/envs/pytorch-gpu/lib/python3.11/site-packages (from requests->transformers==4.38.2) (2024.8.30)\n",
      "Requirement already satisfied: networkx in /opt/intel/oneapi/intelpython/envs/pytorch-gpu/lib/python3.11/site-packages (from torch>=1.13.0->peft==0.10.0) (3.4.2)\n",
      "Requirement already satisfied: jinja2 in /opt/intel/oneapi/intelpython/envs/pytorch-gpu/lib/python3.11/site-packages (from torch>=1.13.0->peft==0.10.0) (3.1.4)\n",
      "Requirement already satisfied: sympy==1.13.1 in /opt/intel/oneapi/intelpython/envs/pytorch-gpu/lib/python3.11/site-packages (from torch>=1.13.0->peft==0.10.0) (1.13.1)\n",
      "Requirement already satisfied: mpmath<1.4,>=1.1.0 in /opt/intel/oneapi/intelpython/envs/pytorch-gpu/lib/python3.11/site-packages (from sympy==1.13.1->torch>=1.13.0->peft==0.10.0) (1.3.0)\n",
      "Requirement already satisfied: docstring-parser>=0.15 in /home/uc221cfdf48c39da853b0e8362a90c40/.local/lib/python3.11/site-packages (from tyro>=0.5.11->trl==0.8.3) (0.16)\n",
      "Requirement already satisfied: rich>=11.1.0 in /home/uc221cfdf48c39da853b0e8362a90c40/.local/lib/python3.11/site-packages (from tyro>=0.5.11->trl==0.8.3) (13.9.4)\n",
      "Requirement already satisfied: shtab>=1.5.6 in /home/uc221cfdf48c39da853b0e8362a90c40/.local/lib/python3.11/site-packages (from tyro>=0.5.11->trl==0.8.3) (1.7.1)\n",
      "Requirement already satisfied: typeguard>=4.0.0 in /home/uc221cfdf48c39da853b0e8362a90c40/.local/lib/python3.11/site-packages (from tyro>=0.5.11->trl==0.8.3) (4.4.2)\n",
      "Requirement already satisfied: python-dateutil>=2.8.2 in /opt/intel/oneapi/intelpython/envs/pytorch-gpu/lib/python3.11/site-packages (from pandas->datasets) (2.9.0)\n",
      "Requirement already satisfied: pytz>=2020.1 in /opt/intel/oneapi/intelpython/envs/pytorch-gpu/lib/python3.11/site-packages (from pandas->datasets) (2024.2)\n",
      "Requirement already satisfied: tzdata>=2022.7 in /opt/intel/oneapi/intelpython/envs/pytorch-gpu/lib/python3.11/site-packages (from pandas->datasets) (2024.2)\n",
      "Requirement already satisfied: smmap<6,>=3.0.1 in /home/uc221cfdf48c39da853b0e8362a90c40/.local/lib/python3.11/site-packages (from gitdb<5,>=4.0.1->gitpython!=3.1.29,>=1.0.0->wandb) (5.0.2)\n",
      "Requirement already satisfied: parso<0.9.0,>=0.8.4 in /opt/intel/oneapi/intelpython/envs/pytorch-gpu/lib/python3.11/site-packages (from jedi>=0.16->ipython>=6.1.0->ipywidgets) (0.8.4)\n",
      "Requirement already satisfied: ptyprocess>=0.5 in /opt/intel/oneapi/intelpython/envs/pytorch-gpu/lib/python3.11/site-packages (from pexpect>4.3->ipython>=6.1.0->ipywidgets) (0.7.0)\n",
      "Requirement already satisfied: wcwidth in /opt/intel/oneapi/intelpython/envs/pytorch-gpu/lib/python3.11/site-packages (from prompt_toolkit<3.1.0,>=3.0.41->ipython>=6.1.0->ipywidgets) (0.2.13)\n",
      "Requirement already satisfied: markdown-it-py>=2.2.0 in /home/uc221cfdf48c39da853b0e8362a90c40/.local/lib/python3.11/site-packages (from rich>=11.1.0->tyro>=0.5.11->trl==0.8.3) (3.0.0)\n",
      "Requirement already satisfied: MarkupSafe>=2.0 in /opt/intel/oneapi/intelpython/envs/pytorch-gpu/lib/python3.11/site-packages (from jinja2->torch>=1.13.0->peft==0.10.0) (3.0.2)\n",
      "Requirement already satisfied: executing>=1.2.0 in /opt/intel/oneapi/intelpython/envs/pytorch-gpu/lib/python3.11/site-packages (from stack_data->ipython>=6.1.0->ipywidgets) (2.1.0)\n",
      "Requirement already satisfied: asttokens>=2.1.0 in /opt/intel/oneapi/intelpython/envs/pytorch-gpu/lib/python3.11/site-packages (from stack_data->ipython>=6.1.0->ipywidgets) (3.0.0)\n",
      "Requirement already satisfied: pure_eval in /opt/intel/oneapi/intelpython/envs/pytorch-gpu/lib/python3.11/site-packages (from stack_data->ipython>=6.1.0->ipywidgets) (0.2.3)\n",
      "Requirement already satisfied: mdurl~=0.1 in /home/uc221cfdf48c39da853b0e8362a90c40/.local/lib/python3.11/site-packages (from markdown-it-py>=2.2.0->rich>=11.1.0->tyro>=0.5.11->trl==0.8.3) (0.1.2)\n"
     ]
    }
   ],
   "source": [
    "import sys\n",
    "import site\n",
    "import os\n",
    "\n",
    "# Install the required packages\n",
    "!{sys.executable} -m pip install peft==0.10.0 datasets ipywidgets transformers==4.38.2 wandb trl==0.8.3 accelerate==0.27.2 bitsandbytes==0.43.0 scipy==1.12.0\n",
    "\n",
    "\n",
    "# Get the site-packages directory\n",
    "site_packages_dir = site.getsitepackages()[0]\n",
    "\n",
    "# add the site pkg directory where these pkgs are insalled to the top of sys.path\n",
    "if not os.access(site_packages_dir, os.W_OK):\n",
    "    user_site_packages_dir = site.getusersitepackages()\n",
    "    if user_site_packages_dir in sys.path:\n",
    "        sys.path.remove(user_site_packages_dir)\n",
    "    sys.path.insert(0, user_site_packages_dir)\n",
    "else:\n",
    "    if site_packages_dir in sys.path:\n",
    "        sys.path.remove(site_packages_dir)\n",
    "    sys.path.insert(0, site_packages_dir)"
   ]
  },
  {
   "cell_type": "markdown",
   "id": "6",
   "metadata": {},
   "source": [
    "We'll now make sure to optimize our environment for the Intel GPU by setting the appropriate environment variables and configuring the number of cores and threads. This will ensure we get the best performance out of our hardware! ⚡"
   ]
  },
  {
   "cell_type": "code",
   "execution_count": 2,
   "id": "7",
   "metadata": {},
   "outputs": [
    {
     "name": "stdout",
     "output_type": "stream",
     "text": [
      "Number of physical cores: 96\n",
      "Number of cores per socket: 48\n",
      "OpenMP environment variables:\n",
      "  - OMP_NUM_THREADS: 96\n",
      "  - OMP_PROC_BIND: close\n",
      "  - OMP_PLACES: cores\n"
     ]
    }
   ],
   "source": [
    "import warnings\n",
    "warnings.filterwarnings(\"ignore\")\n",
    "\n",
    "import os\n",
    "import psutil\n",
    "\n",
    "num_physical_cores = psutil.cpu_count(logical=False)\n",
    "num_cores_per_socket = num_physical_cores // 2\n",
    "\n",
    "os.environ[\"TOKENIZERS_PARALLELISM\"] = \"0\"\n",
    "#HF_TOKEN = os.environ[\"HF_TOKEN\"]\n",
    "\n",
    "# Set the LD_PRELOAD environment variable\n",
    "ld_preload = os.environ.get(\"LD_PRELOAD\", \"\")\n",
    "conda_prefix = os.environ.get(\"CONDA_PREFIX\", \"\")\n",
    "# Improve memory allocation performance, if tcmalloc is not available, please comment this line out\n",
    "os.environ[\"LD_PRELOAD\"] = f\"{ld_preload}:{conda_prefix}/lib/libtcmalloc.so\"\n",
    "# Reduce the overhead of submitting commands to the GPU\n",
    "os.environ[\"SYCL_PI_LEVEL_ZERO_USE_IMMEDIATE_COMMANDLISTS\"] = \"1\"\n",
    "# reducing memory accesses by fusing SDP ops\n",
    "os.environ[\"ENABLE_SDP_FUSION\"] = \"1\"\n",
    "# set openMP threads to number of physical cores\n",
    "os.environ[\"OMP_NUM_THREADS\"] = str(num_physical_cores)\n",
    "# Set the thread affinity policy\n",
    "os.environ[\"OMP_PROC_BIND\"] = \"close\"\n",
    "# Set the places for thread pinning\n",
    "os.environ[\"OMP_PLACES\"] = \"cores\"\n",
    "\n",
    "print(f\"Number of physical cores: {num_physical_cores}\")\n",
    "print(f\"Number of cores per socket: {num_cores_per_socket}\")\n",
    "print(f\"OpenMP environment variables:\")\n",
    "print(f\"  - OMP_NUM_THREADS: {os.environ['OMP_NUM_THREADS']}\")\n",
    "print(f\"  - OMP_PROC_BIND: {os.environ['OMP_PROC_BIND']}\")\n",
    "print(f\"  - OMP_PLACES: {os.environ['OMP_PLACES']}\")"
   ]
  },
  {
   "cell_type": "markdown",
   "id": "8",
   "metadata": {},
   "source": [
    "___\n",
    "#### Step 2: Initializing the XPU and monitoring GPU memory in realtime 🎮\n",
    "\n",
    "Next, we'll initialize the Intel Max 1550 GPU, which is referred to as an XPU. We'll use the `intel_extension_for_pytorch` library to seamlessly integrate XPU namespace with. 🤝\n",
    "\n",
    "##### 👀 GPU Memory Monitoring 👀\n",
    "\n",
    "To keep track of the Intel Max 1550 GPU (XPU) memory usage throughout this notebook, please refer to the cell below. It displays the current memory usage and updates every 5 seconds, providing you with real-time information about the GPU's memory consumption. 📊\n",
    "\n",
    "The memory monitoring cell displays the following information:\n",
    "\n",
    "- XPU Device Name: The name of the Intel Max 1550 GPU being used.\n",
    "- Reserved Memory: The amount of memory currently reserved by the GPU.\n",
    "- Allocated Memory: The amount of memory currently allocated by the GPU.\n",
    "- Max Reserved Memory: The maximum amount of memory that has been reserved by the GPU.\n",
    "- Max Allocated Memory: The maximum amount of memory that has been allocated by the GPU.\n",
    "\n",
    "Keep an eye on this cell to monitor the GPU memory usage as you progress through the notebook. If you need to check the current memory usage at any point, simply scroll down to the memory monitoring cell for a quick reference. 👇"
   ]
  },
  {
   "cell_type": "code",
   "execution_count": 3,
   "id": "9",
   "metadata": {},
   "outputs": [
    {
     "name": "stderr",
     "output_type": "stream",
     "text": [
      "[W224 14:53:14.223834060 OperatorEntry.cpp:155] Warning: Warning only once for all operators,  other operators may also be overridden.\n",
      "  Overriding a previously registered kernel for the same operator and the same dispatch key\n",
      "  operator: aten::_cummax_helper(Tensor self, Tensor(a!) values, Tensor(b!) indices, int dim) -> ()\n",
      "    registered at /workspace/repositories/IPEX/pytorch/build/aten/src/ATen/RegisterSchema.cpp:6\n",
      "  dispatch key: XPU\n",
      "  previous kernel: registered at /workspace/repositories/IPEX/pytorch/build/aten/src/ATen/RegisterCPU.cpp:30476\n",
      "       new kernel: registered at /workspace/repositories/IPEX/ipex/build/Release/csrc/gpu/csrc/aten/generated/ATen/RegisterXPU.cpp:2971 (function operator())\n"
     ]
    },
    {
     "name": "stdout",
     "output_type": "stream",
     "text": [
      "[2025-02-24 14:53:16,156] [INFO] [real_accelerator.py:219:get_accelerator] Setting ds_accelerator to xpu (auto detect)\n"
     ]
    },
    {
     "name": "stderr",
     "output_type": "stream",
     "text": [
      "ERROR: ld.so: object '/lib/libtcmalloc.so' from LD_PRELOAD cannot be preloaded (cannot open shared object file): ignored.\n",
      "ERROR: ld.so: object '/lib/libtcmalloc.so' from LD_PRELOAD cannot be preloaded (cannot open shared object file): ignored.\n",
      "ERROR: ld.so: object '/lib/libtcmalloc.so' from LD_PRELOAD cannot be preloaded (cannot open shared object file): ignored.\n",
      "ERROR: ld.so: object '/lib/libtcmalloc.so' from LD_PRELOAD cannot be preloaded (cannot open shared object file): ignored.\n",
      "ERROR: ld.so: object '/lib/libtcmalloc.so' from LD_PRELOAD cannot be preloaded (cannot open shared object file): ignored.\n",
      "ERROR: ld.so: object '/lib/libtcmalloc.so' from LD_PRELOAD cannot be preloaded (cannot open shared object file): ignored.\n",
      "/usr/bin/ld: cannot find -laio: No such file or directory\n",
      "collect2: error: ld returned 1 exit status\n"
     ]
    },
    {
     "data": {
      "text/html": [
       "<p>XPU (Intel(R) Data Center GPU Max 1100) :: Memory: Reserved=19.707 GB, Allocated=19.309 GB, Max Reserved=37.477 GB, Max Allocated=26.313 GB</p>"
      ],
      "text/plain": [
       "<IPython.core.display.HTML object>"
      ]
     },
     "metadata": {},
     "output_type": "display_data"
    }
   ],
   "source": [
    "import asyncio\n",
    "import threading\n",
    "import torch\n",
    "from IPython.display import display, HTML\n",
    "\n",
    "import torch\n",
    "import intel_extension_for_pytorch as ipex\n",
    "\n",
    "if torch.xpu.is_available():\n",
    "    torch.xpu.empty_cache()\n",
    "    \n",
    "    def get_memory_usage():\n",
    "        memory_reserved = round(torch.xpu.memory_reserved() / 1024**3, 3)\n",
    "        memory_allocated = round(torch.xpu.memory_allocated() / 1024**3, 3)\n",
    "        max_memory_reserved = round(torch.xpu.max_memory_reserved() / 1024**3, 3)\n",
    "        max_memory_allocated = round(torch.xpu.max_memory_allocated() / 1024**3, 3)\n",
    "        return memory_reserved, memory_allocated, max_memory_reserved, max_memory_allocated\n",
    "   \n",
    "    def print_memory_usage():\n",
    "        device_name = torch.xpu.get_device_name()\n",
    "        print(f\"XPU Name: {device_name}\")\n",
    "        memory_reserved, memory_allocated, max_memory_reserved, max_memory_allocated = get_memory_usage()\n",
    "        memory_usage_text = f\"XPU Memory: Reserved={memory_reserved} GB, Allocated={memory_allocated} GB, Max Reserved={max_memory_reserved} GB, Max Allocated={max_memory_allocated} GB\"\n",
    "        print(f\"\\r{memory_usage_text}\", end=\"\", flush=True)\n",
    "    \n",
    "    async def display_memory_usage(output):\n",
    "        device_name = torch.xpu.get_device_name()\n",
    "        output.update(HTML(f\"<p>XPU Name: {device_name}</p>\"))\n",
    "        while True:\n",
    "            memory_reserved, memory_allocated, max_memory_reserved, max_memory_allocated = get_memory_usage()\n",
    "            memory_usage_text = f\"XPU ({device_name}) :: Memory: Reserved={memory_reserved} GB, Allocated={memory_allocated} GB, Max Reserved={max_memory_reserved} GB, Max Allocated={max_memory_allocated} GB\"\n",
    "            output.update(HTML(f\"<p>{memory_usage_text}</p>\"))\n",
    "            await asyncio.sleep(5)\n",
    "    \n",
    "    def start_memory_monitor(output):\n",
    "        loop = asyncio.new_event_loop()\n",
    "        asyncio.set_event_loop(loop)\n",
    "        loop.create_task(display_memory_usage(output))\n",
    "        thread = threading.Thread(target=loop.run_forever)\n",
    "        thread.start()    \n",
    "    output = display(display_id=True)\n",
    "    start_memory_monitor(output)\n",
    "else:\n",
    "    print(\"XPU device not available.\")"
   ]
  },
  {
   "cell_type": "markdown",
   "id": "10",
   "metadata": {},
   "source": [
    "___\n",
    "#### Step 3: Configuring the LoRA Settings 🎛️\n",
    "\n",
    "To finetune our Gemma model efficiently, we'll use the LoRA (Low-Rank Adaptation) technique. \n",
    "\n",
    "LoRA allows us to adapt the model to our specific task by training only a small set of additional parameters. This greatly reduces the training time and memory requirements! ⏰\n",
    "\n",
    "We'll define the LoRA configuration, specifying the rank (`r`) and the target modules we want to adapt. 🎯"
   ]
  },
  {
   "cell_type": "code",
   "execution_count": 4,
   "id": "11",
   "metadata": {},
   "outputs": [
    {
     "name": "stdout",
     "output_type": "stream",
     "text": [
      "/home/uc221cfdf48c39da853b0e8362a90c40/.local/lib/python3.11/site-packages/bitsandbytes/libbitsandbytes_cpu.so: undefined symbol: cadam32bit_grad_fp32\n"
     ]
    }
   ],
   "source": [
    "from peft import LoraConfig\n",
    "\n",
    "lora_config = LoraConfig(\n",
    "    r=32,\n",
    "    lora_alpha=16,\n",
    "    lora_dropout=0.1,\n",
    "    bias=\"none\",\n",
    "    # could use q, v and 0 projections as well and comment out the rest\n",
    "    target_modules=[\"q_proj\", \"o_proj\", \n",
    "                    \"v_proj\", \"k_proj\", \n",
    "                    \"gate_proj\", \"up_proj\",\n",
    "                    \"down_proj\"],\n",
    "    task_type=\"CAUSAL_LM\")"
   ]
  },
  {
   "cell_type": "markdown",
   "id": "12",
   "metadata": {},
   "source": [
    "___\n",
    "#### Step 4: Loading the Gemma Model 🤖\n",
    "\n",
    "Now, let's load the Gemma model using the Hugging Face `AutoModelForCausalLM` class. We'll also load the corresponding tokenizer to preprocess our input data. The model will be moved to the XPU for efficient training. 💪"
   ]
  },
  {
   "cell_type": "markdown",
   "id": "13",
   "metadata": {},
   "source": [
    "> Note: Before running this notebook, please ensure you have read and agreed to the [Gemma Terms of Use](https://ai.google.dev/gemma/terms). You'll need to visit the Gemma model card on the Hugging Face Hub, accept the usage terms, and generate an access token with write permissions. This token will be required to load the model and push your finetuned version back to the Hub.\n",
    "\n",
    "To create an access token:\n",
    "1. Go to your Hugging Face account settings.\n",
    "2. Click on \"Access Tokens\" in the left sidebar.\n",
    "3. Click on the \"New token\" button.\n",
    "4. Give your token a name, select the desired permissions (make sure to include write access), and click \"Generate\".\n",
    "5. Copy the generated token and keep it secure. You'll use this token to authenticate when loading the model.\n",
    "\n",
    "Make sure to follow these steps to comply with the terms of use and ensure a smooth finetuning experience. If you have any questions or concerns, please refer to the official Gemma documentation or reach out to the Hugging Face community for assistance."
   ]
  },
  {
   "cell_type": "code",
   "execution_count": 5,
   "id": "14",
   "metadata": {},
   "outputs": [
    {
     "data": {
      "application/vnd.jupyter.widget-view+json": {
       "model_id": "ab075ca551f24c87b2aae7a74c974c9c",
       "version_major": 2,
       "version_minor": 0
      },
      "text/plain": [
       "VBox(children=(HTML(value='<center> <img\\nsrc=https://huggingface.co/front/assets/huggingface_logo-noborder.sv…"
      ]
     },
     "metadata": {},
     "output_type": "display_data"
    }
   ],
   "source": [
    "from huggingface_hub import notebook_login\n",
    "\n",
    "notebook_login()"
   ]
  },
  {
   "cell_type": "markdown",
   "id": "15",
   "metadata": {},
   "source": [
    "Now that you have logged in , let's load the model using transformers library:"
   ]
  },
  {
   "cell_type": "code",
   "execution_count": 6,
   "id": "16",
   "metadata": {},
   "outputs": [
    {
     "name": "stdout",
     "output_type": "stream",
     "text": [
      "using device: xpu:0\n"
     ]
    },
    {
     "data": {
      "application/vnd.jupyter.widget-view+json": {
       "model_id": "fb401c1f81c64fadbc940560bb2d4d4f",
       "version_major": 2,
       "version_minor": 0
      },
      "text/plain": [
       "Loading checkpoint shards:   0%|          | 0/2 [00:00<?, ?it/s]"
      ]
     },
     "metadata": {},
     "output_type": "display_data"
    }
   ],
   "source": [
    "from transformers import AutoTokenizer, AutoModelForCausalLM\n",
    "\n",
    "USE_CPU = False\n",
    "device = \"xpu:0\" if torch.xpu.is_available() else \"cpu\"\n",
    "if USE_CPU:\n",
    "    device = \"cpu\"\n",
    "print(f\"using device: {device}\")\n",
    "\n",
    "model_id = \"google/gemma-2b\"\n",
    "tokenizer = AutoTokenizer.from_pretrained(model_id)\n",
    "tokenizer.pad_token = tokenizer.eos_token\n",
    "# Set padding side to the right to ensure proper attention masking during fine-tuning\n",
    "tokenizer.padding_side = \"right\"\n",
    "model = AutoModelForCausalLM.from_pretrained(model_id).to(device)\n",
    "# Disable caching mechanism to reduce memory usage during fine-tuning\n",
    "model.config.use_cache = False\n",
    "# Configure the model's pre-training tensor parallelism degree to match the fine-tuning setup\n",
    "model.config.pretraining_tp = 1 "
   ]
  },
  {
   "cell_type": "markdown",
   "id": "17",
   "metadata": {},
   "source": [
    "___\n",
    "#### Step 5: Testing the Model 🧪\n",
    "\n",
    "Before we start finetuning, let's test the Gemma model on a sample input to see how it performs out-of-the-box. We'll generate some responses bsaed on a few questions in the `test_inputs` list below. 🌿"
   ]
  },
  {
   "cell_type": "code",
   "execution_count": 7,
   "id": "18",
   "metadata": {},
   "outputs": [
    {
     "name": "stdout",
     "output_type": "stream",
     "text": [
      "Testing the model before fine-tuning:\n",
      "__________________________________________________\n",
      "What are the main differences between a vegetarian and a vegan diet?\n",
      "Generated Answer: What are the main differences between a vegetarian and a vegan diet?\n",
      "\n",
      "A 100-W lightbulb is plugged into a standard $120-\\mathrm{V}$ (rms) outlet. Find $(a) I_{\\text {mas }}$ and $(b) I_{\\max }$ if a blank bulb is used. $(c)$ Show that $I_{\\mathrm{ad}}$ for a matched bulb is $120 \\mathrm{~A}$. (Some $100-\\mathrm{W}$ bulbs for the U.S. market are\n",
      "\n",
      "__________________________________________________\n",
      "__________________________________________________\n",
      "What are some effective strategies for managing stress and anxiety?\n",
      "Generated Answer: What are some effective strategies for managing stress and anxiety?\n",
      "\n",
      "The following information is available for the first month of operations of Icahn Inc., a manufacturer of art and craft items:\n",
      "\n",
      "$\\begin{array}{lr} \\text{Sales}&\\$4,500,000\\\\ \\text{Gross profit}& 810,000\\\\ \\text{Indirect labor}& 270,000\\\\ \\text{Indirect materials}& 117,000\\\\ \\text{Other factory\n",
      "\n",
      "__________________________________________________\n",
      "__________________________________________________\n",
      "Can you explain the concept of blockchain technology in simple terms?\n",
      "Generated Answer: Can you explain the concept of blockchain technology in simple terms?\n",
      "\n",
      "The following data were taken from the financial statements of Heston Enterprises Inc. for the current fiscal year. Assuming that long-term investments totaled $\\$ 2,100,000$ throughout the year and that total assets were $\\$ 4,000,000$ at the beginning of the year, determine the ratio of liabilities to stockholders' equity. Round to one decimal place.\n",
      "\n",
      "$\\begin{array}{lrrr} \\text{Property, plant, and\n",
      "\n",
      "__________________________________________________\n",
      "__________________________________________________\n",
      "What are the key factors that influence the price of crude oil in global markets?\n",
      "Generated Answer: What are the key factors that influence the price of crude oil in global markets?\n",
      "\n",
      "The following table shows the annual returns (in percent) for the Vanguard Energy Fund from 2005 through 2009.\n",
      "\n",
      "$\\begin{array}{|c|c|} \\hline \\text { Year } & \\text { Energy } \\\\ \\hline 2005 & 44.60 \\\\ \\hline 2006 & 19.68 \\\\ \\hline 2007 & 37.00 \\\\ \\\n",
      "\n",
      "__________________________________________________\n",
      "__________________________________________________\n",
      "When did Virgin Australia start operating?\n",
      "Generated Answer: When did Virgin Australia start operating?\n",
      "\n",
      "Virgin Australia started operating in 2000.\n",
      "\n",
      "What is Virgin Australia’s head office?\n",
      "\n",
      "Virgin Australia’s head office is located at 1001 Pacific Highway, Mascot, NSW 2020.\n",
      "\n",
      "What is Virgin Australia’s phone number?\n",
      "\n",
      "Virgin Australia’s phone number is 13 13 13.\n",
      "\n",
      "What is Virgin Australia’s email address?\n",
      "\n",
      "Virgin Australia’s email address is info@virginaust\n",
      "\n",
      "__________________________________________________\n"
     ]
    }
   ],
   "source": [
    "def generate_response(model, prompt):\n",
    "    input_ids = tokenizer(prompt, return_tensors=\"pt\").input_ids.to(device)    \n",
    "    outputs = model.generate(input_ids, max_new_tokens=100,\n",
    "                             eos_token_id=tokenizer.eos_token_id)    \n",
    "    return tokenizer.decode(outputs[0], skip_special_tokens=True)\n",
    "\n",
    "def test_model(model, test_inputs):\n",
    "    \"\"\"quickly test the model using queries.\"\"\"\n",
    "    for input_text in test_inputs:\n",
    "        print(\"__\"*25)\n",
    "        generated_response = generate_response(model, input_text)\n",
    "        print(f\"{input_text}\")\n",
    "        print(f\"Generated Answer: {generated_response}\\n\")\n",
    "        print(\"__\"*25)\n",
    "\n",
    "test_inputs = [\n",
    "    \"What are the main differences between a vegetarian and a vegan diet?\",\n",
    "    \"What are some effective strategies for managing stress and anxiety?\",\n",
    "    \"Can you explain the concept of blockchain technology in simple terms?\",\n",
    "    \"What are the key factors that influence the price of crude oil in global markets?\",\n",
    "    \"When did Virgin Australia start operating?\"\n",
    "]\n",
    "\n",
    "print(\"Testing the model before fine-tuning:\")\n",
    "test_model(model, test_inputs)"
   ]
  },
  {
   "cell_type": "markdown",
   "id": "19",
   "metadata": {},
   "source": [
    "___\n",
    "#### Step 6: Preparing the Dataset 📊\n",
    "\n",
    "For finetuning our model, we'll be using a subset of the \"databricks/databricks-dolly-15k\" dataset. This dataset contains a diverse range of question-answer pairs spanning multiple categories. By focusing specifically on the question-answer pairs, we aim to adapt our model to provide accurate and relevant responses to various inquiries. 🙋‍♀️🙋‍♂️\n",
    "\n",
    "We'll extract the question-answer categories from the dataset using the code provided in the cell below. By filtering the dataset based on the \"Question answering\" category, we ensure that our model is finetuned on relevant question-answer pairs. This targeted approach allows us to leverage real-world data to enhance our model's ability to provide accurate and informative responses. 💡\n",
    "\n",
    "We'll then split the extracted question-answer data into training and validation sets using the train_test_split function from the sklearn.model_selection module. This will help us assess the model's performance during the finetuning process. 📊"
   ]
  },
  {
   "cell_type": "code",
   "execution_count": 8,
   "id": "20",
   "metadata": {},
   "outputs": [
    {
     "name": "stderr",
     "output_type": "stream",
     "text": [
      "2025-02-24 14:53:47,545 - datasets - INFO - PyTorch version 2.5.1+cxx11.abi available.\n"
     ]
    },
    {
     "data": {
      "application/vnd.jupyter.widget-view+json": {
       "model_id": "64f349e49d71466ab1178275d21de9db",
       "version_major": 2,
       "version_minor": 0
      },
      "text/plain": [
       "README.md:   0%|          | 0.00/8.20k [00:00<?, ?B/s]"
      ]
     },
     "metadata": {},
     "output_type": "display_data"
    },
    {
     "data": {
      "application/vnd.jupyter.widget-view+json": {
       "model_id": "0e311193212742fea20a627b8b4d482b",
       "version_major": 2,
       "version_minor": 0
      },
      "text/plain": [
       "databricks-dolly-15k.jsonl:   0%|          | 0.00/13.1M [00:00<?, ?B/s]"
      ]
     },
     "metadata": {},
     "output_type": "display_data"
    },
    {
     "data": {
      "application/vnd.jupyter.widget-view+json": {
       "model_id": "5a206006a86044d3aef4ecba273e4cff",
       "version_major": 2,
       "version_minor": 0
      },
      "text/plain": [
       "Generating train split:   0%|          | 0/15011 [00:00<?, ? examples/s]"
      ]
     },
     "metadata": {},
     "output_type": "display_data"
    },
    {
     "name": "stdout",
     "output_type": "stream",
     "text": [
      "Instruction is: When did Virgin Australia start operating?\n",
      "Response is: Virgin Australia commenced services on 31 August 2000 as Virgin Blue, with two aircraft on a single route.\n"
     ]
    },
    {
     "data": {
      "application/vnd.jupyter.widget-view+json": {
       "model_id": "98b2e13bbe1a486c8ca84ba5fccc240a",
       "version_major": 2,
       "version_minor": 0
      },
      "text/plain": [
       "Filter:   0%|          | 0/15011 [00:00<?, ? examples/s]"
      ]
     },
     "metadata": {},
     "output_type": "display_data"
    },
    {
     "name": "stdout",
     "output_type": "stream",
     "text": [
      "Number of examples in the filtered dataset: 5933\n",
      "Categories in the filtered dataset: ['open_qa', 'open_qa', 'open_qa', 'open_qa', 'general_qa', 'open_qa', 'open_qa', 'open_qa', 'open_qa', 'open_qa']\n",
      "Number of examples in the dataset: 5933\n",
      "Fields in the dataset: ['instruction', 'response']\n"
     ]
    }
   ],
   "source": [
    "from datasets import load_dataset\n",
    "\n",
    "dataset_name = \"databricks/databricks-dolly-15k\"\n",
    "dataset = load_dataset(dataset_name, split=\"train\")\n",
    "\n",
    "print(f\"Instruction is: {dataset[0]['instruction']}\")\n",
    "print(f\"Response is: {dataset[0]['response']}\")\n",
    "\n",
    "# Filter only question Answers\n",
    "categories_to_keep = [\"close_qa\", \"open_qa\", \"general_qa\"]\n",
    "filtered_dataset = dataset.filter(lambda example: example['category'] in categories_to_keep)\n",
    "\n",
    "print(f\"Number of examples in the filtered dataset: {len(filtered_dataset)}\")\n",
    "print(f\"Categories in the filtered dataset: {filtered_dataset['category'][:10]}\")\n",
    "\n",
    "# Remove unwanted fields from the filtered dataset\n",
    "dataset = filtered_dataset.remove_columns([\"context\", \"category\"])\n",
    "print(f\"Number of examples in the dataset: {len(dataset)}\")\n",
    "print(f\"Fields in the dataset: {list(dataset.features.keys())}\")"
   ]
  },
  {
   "cell_type": "code",
   "execution_count": 9,
   "id": "21",
   "metadata": {},
   "outputs": [
    {
     "data": {
      "application/vnd.jupyter.widget-view+json": {
       "model_id": "4f2a120c8bc54513ba133fdf44cb008b",
       "version_major": 2,
       "version_minor": 0
      },
      "text/plain": [
       "Map:   0%|          | 0/5933 [00:00<?, ? examples/s]"
      ]
     },
     "metadata": {},
     "output_type": "display_data"
    }
   ],
   "source": [
    "def format_prompts(batch):\n",
    "    formatted_prompts = []\n",
    "    for instruction, response in zip(batch[\"instruction\"], batch[\"response\"]):\n",
    "        prompt = f\"Instruction:\\n{instruction}\\n\\nResponse:\\n{response}\"\n",
    "        formatted_prompts.append(prompt)\n",
    "    return {\"text\": formatted_prompts}\n",
    "\n",
    "dataset = dataset.map(format_prompts, batched=True)\n",
    "split_dataset = dataset.train_test_split(test_size=0.2, seed=99)\n",
    "train_dataset = split_dataset[\"train\"]\n",
    "validation_dataset = split_dataset[\"test\"]"
   ]
  },
  {
   "cell_type": "markdown",
   "id": "22",
   "metadata": {},
   "source": [
    "___\n",
    "#### Step 7: Finetuning the Model 🏋️‍♂️\n",
    "\n",
    "It's time to finetune our Gemma model! We'll use the SFTTrainer class from the trl library, which is designed for supervised fine-tuning of language models. We'll specify the training arguments, such as batch size, learning rate, and evaluation strategy. 📈\n",
    "\n",
    "Supervised fine-tuning (SFT) is a powerful technique for adapting pre-trained language models to specific tasks. By providing the model with question-answer pairs from the Databricks Dolly 15k dataset, we can guide it to generate more accurate and relevant responses. SFT allows the model to learn the patterns and relationships specific to the diverse range of topics covered in the dataset. 🎓\n",
    "\n",
    "By focusing on the \"Question answering\" category, we can leverage the rich information available in the Dolly dataset to enhance our model's ability to provide informative and contextually appropriate responses. The model will learn to understand the nuances and intricacies of various question types and generate answers that are coherent and relevant. 💡\n",
    "\n",
    "We'll also enable experiment tracking with Weights & Biases (wandb) to monitor our training progress and visualize the results. This will give us valuable insights into how the model is improving over time and help us make informed decisions during the fine-tuning process. 📊"
   ]
  },
  {
   "cell_type": "code",
   "execution_count": 10,
   "id": "23",
   "metadata": {},
   "outputs": [
    {
     "name": "stdout",
     "output_type": "stream",
     "text": [
      "Finetuning for max number of steps: 1480\n"
     ]
    },
    {
     "data": {
      "application/vnd.jupyter.widget-view+json": {
       "model_id": "3cced2ac047140ada8ae5e52b7b8be49",
       "version_major": 2,
       "version_minor": 0
      },
      "text/plain": [
       "Generating train split: 0 examples [00:00, ? examples/s]"
      ]
     },
     "metadata": {},
     "output_type": "display_data"
    },
    {
     "data": {
      "application/vnd.jupyter.widget-view+json": {
       "model_id": "376cfcbf4c494a7dbd0d2ab43375bfa8",
       "version_major": 2,
       "version_minor": 0
      },
      "text/plain": [
       "Generating train split: 0 examples [00:00, ? examples/s]"
      ]
     },
     "metadata": {},
     "output_type": "display_data"
    },
    {
     "name": "stdout",
     "output_type": "stream",
     "text": [
      "XPU Name: Intel(R) Data Center GPU Max 1100\n",
      "XPU Memory: Reserved=10.002 GB, Allocated=9.545 GB, Max Reserved=10.002 GB, Max Allocated=9.916 GB"
     ]
    },
    {
     "name": "stderr",
     "output_type": "stream",
     "text": [
      "2025-02-24 14:53:56,002 - _logger.py - IPEX - INFO - Currently split master weight for xpu only support sgd\n",
      "2025-02-24 14:53:56,027 - _logger.py - IPEX - INFO - Currently split master weight for xpu only support sgd\n",
      "2025-02-24 14:53:56,092 - wandb.jupyter - ERROR - Failed to detect the name of this notebook, you can set it manually with the WANDB_NOTEBOOK_NAME environment variable to enable code saving.\n",
      "\u001b[34m\u001b[1mwandb\u001b[0m: Using wandb-core as the SDK backend.  Please refer to https://wandb.me/wandb-core for more information.\n",
      "\u001b[34m\u001b[1mwandb\u001b[0m: Logging into wandb.ai. (Learn how to deploy a W&B server locally: https://wandb.me/wandb-server)\n",
      "\u001b[34m\u001b[1mwandb\u001b[0m: You can find your API key in your browser here: https://wandb.ai/authorize\n",
      "\u001b[34m\u001b[1mwandb\u001b[0m: Paste an API key from your profile and hit enter:"
     ]
    },
    {
     "name": "stdin",
     "output_type": "stream",
     "text": [
      "  ········\n"
     ]
    },
    {
     "name": "stderr",
     "output_type": "stream",
     "text": [
      "\u001b[34m\u001b[1mwandb\u001b[0m: \u001b[33mWARNING\u001b[0m If you're specifying your api key in code, ensure this code is not shared publicly.\n",
      "\u001b[34m\u001b[1mwandb\u001b[0m: \u001b[33mWARNING\u001b[0m Consider setting the WANDB_API_KEY environment variable, or running `wandb login` from the command line.\n",
      "\u001b[34m\u001b[1mwandb\u001b[0m: No netrc file found, creating one.\n",
      "\u001b[34m\u001b[1mwandb\u001b[0m: Appending key for api.wandb.ai to your netrc file: /home/uc221cfdf48c39da853b0e8362a90c40/.netrc\n",
      "\u001b[34m\u001b[1mwandb\u001b[0m: Currently logged in as: \u001b[33mchelsen\u001b[0m (\u001b[33mumass-lowell\u001b[0m) to \u001b[32mhttps://api.wandb.ai\u001b[0m. Use \u001b[1m`wandb login --relogin`\u001b[0m to force relogin\n",
      "ERROR: ld.so: object '/lib/libtcmalloc.so' from LD_PRELOAD cannot be preloaded (cannot open shared object file): ignored.\n"
     ]
    },
    {
     "data": {
      "text/html": [
       "Tracking run with wandb version 0.19.7"
      ],
      "text/plain": [
       "<IPython.core.display.HTML object>"
      ]
     },
     "metadata": {},
     "output_type": "display_data"
    },
    {
     "data": {
      "text/html": [
       "Run data is saved locally in <code>/home/uc221cfdf48c39da853b0e8362a90c40/genai-labs/wandb/run-20250224_145931-5d370of1</code>"
      ],
      "text/plain": [
       "<IPython.core.display.HTML object>"
      ]
     },
     "metadata": {},
     "output_type": "display_data"
    },
    {
     "data": {
      "text/html": [
       "Syncing run <strong><a href='https://wandb.ai/umass-lowell/gemma_dolly-qa/runs/5d370of1' target=\"_blank\">magic-terrain-1</a></strong> to <a href='https://wandb.ai/umass-lowell/gemma_dolly-qa' target=\"_blank\">Weights & Biases</a> (<a href='https://wandb.me/developer-guide' target=\"_blank\">docs</a>)<br>"
      ],
      "text/plain": [
       "<IPython.core.display.HTML object>"
      ]
     },
     "metadata": {},
     "output_type": "display_data"
    },
    {
     "data": {
      "text/html": [
       " View project at <a href='https://wandb.ai/umass-lowell/gemma_dolly-qa' target=\"_blank\">https://wandb.ai/umass-lowell/gemma_dolly-qa</a>"
      ],
      "text/plain": [
       "<IPython.core.display.HTML object>"
      ]
     },
     "metadata": {},
     "output_type": "display_data"
    },
    {
     "data": {
      "text/html": [
       " View run at <a href='https://wandb.ai/umass-lowell/gemma_dolly-qa/runs/5d370of1' target=\"_blank\">https://wandb.ai/umass-lowell/gemma_dolly-qa/runs/5d370of1</a>"
      ],
      "text/plain": [
       "<IPython.core.display.HTML object>"
      ]
     },
     "metadata": {},
     "output_type": "display_data"
    },
    {
     "data": {
      "text/html": [
       "\n",
       "    <div>\n",
       "      \n",
       "      <progress value='1480' max='1480' style='width:300px; height:20px; vertical-align: middle;'></progress>\n",
       "      [1480/1480 47:06, Epoch 24/25]\n",
       "    </div>\n",
       "    <table border=\"1\" class=\"dataframe\">\n",
       "  <thead>\n",
       " <tr style=\"text-align: left;\">\n",
       "      <th>Step</th>\n",
       "      <th>Training Loss</th>\n",
       "      <th>Validation Loss</th>\n",
       "    </tr>\n",
       "  </thead>\n",
       "  <tbody>\n",
       "    <tr>\n",
       "      <td>100</td>\n",
       "      <td>2.920700</td>\n",
       "      <td>2.566206</td>\n",
       "    </tr>\n",
       "    <tr>\n",
       "      <td>200</td>\n",
       "      <td>2.432600</td>\n",
       "      <td>2.285684</td>\n",
       "    </tr>\n",
       "    <tr>\n",
       "      <td>300</td>\n",
       "      <td>2.257400</td>\n",
       "      <td>2.171091</td>\n",
       "    </tr>\n",
       "    <tr>\n",
       "      <td>400</td>\n",
       "      <td>2.168700</td>\n",
       "      <td>2.107597</td>\n",
       "    </tr>\n",
       "    <tr>\n",
       "      <td>500</td>\n",
       "      <td>2.111100</td>\n",
       "      <td>2.077173</td>\n",
       "    </tr>\n",
       "    <tr>\n",
       "      <td>600</td>\n",
       "      <td>2.086700</td>\n",
       "      <td>2.060257</td>\n",
       "    </tr>\n",
       "    <tr>\n",
       "      <td>700</td>\n",
       "      <td>2.066400</td>\n",
       "      <td>2.049305</td>\n",
       "    </tr>\n",
       "    <tr>\n",
       "      <td>800</td>\n",
       "      <td>2.059000</td>\n",
       "      <td>2.041685</td>\n",
       "    </tr>\n",
       "    <tr>\n",
       "      <td>900</td>\n",
       "      <td>2.045000</td>\n",
       "      <td>2.035906</td>\n",
       "    </tr>\n",
       "    <tr>\n",
       "      <td>1000</td>\n",
       "      <td>2.037200</td>\n",
       "      <td>2.031753</td>\n",
       "    </tr>\n",
       "    <tr>\n",
       "      <td>1100</td>\n",
       "      <td>2.028200</td>\n",
       "      <td>2.029061</td>\n",
       "    </tr>\n",
       "    <tr>\n",
       "      <td>1200</td>\n",
       "      <td>2.023500</td>\n",
       "      <td>2.026914</td>\n",
       "    </tr>\n",
       "    <tr>\n",
       "      <td>1300</td>\n",
       "      <td>2.025400</td>\n",
       "      <td>2.025417</td>\n",
       "    </tr>\n",
       "    <tr>\n",
       "      <td>1400</td>\n",
       "      <td>2.016400</td>\n",
       "      <td>2.024566</td>\n",
       "    </tr>\n",
       "  </tbody>\n",
       "</table><p>"
      ],
      "text/plain": [
       "<IPython.core.display.HTML object>"
      ]
     },
     "metadata": {},
     "output_type": "display_data"
    },
    {
     "name": "stderr",
     "output_type": "stream",
     "text": [
      "2025-02-24 15:02:39,099 - _logger.py - IPEX - INFO - Currently split master weight for xpu only support sgd\n",
      "2025-02-24 15:02:39,119 - _logger.py - IPEX - INFO - Linear BatchNorm folding failed during the optimize process.\n",
      "2025-02-24 15:05:50,075 - _logger.py - IPEX - INFO - Currently split master weight for xpu only support sgd\n",
      "2025-02-24 15:05:50,095 - _logger.py - IPEX - INFO - Linear BatchNorm folding failed during the optimize process.\n",
      "2025-02-24 15:09:00,830 - _logger.py - IPEX - INFO - Currently split master weight for xpu only support sgd\n",
      "2025-02-24 15:09:00,850 - _logger.py - IPEX - INFO - Linear BatchNorm folding failed during the optimize process.\n",
      "2025-02-24 15:12:11,726 - _logger.py - IPEX - INFO - Currently split master weight for xpu only support sgd\n",
      "2025-02-24 15:12:11,751 - _logger.py - IPEX - INFO - Linear BatchNorm folding failed during the optimize process.\n",
      "2025-02-24 15:15:22,495 - _logger.py - IPEX - INFO - Currently split master weight for xpu only support sgd\n",
      "2025-02-24 15:15:22,515 - _logger.py - IPEX - INFO - Linear BatchNorm folding failed during the optimize process.\n",
      "ERROR: ld.so: object '/lib/libtcmalloc.so' from LD_PRELOAD cannot be preloaded (cannot open shared object file): ignored.\n",
      "\u001b[34m\u001b[1mwandb\u001b[0m: Adding directory to artifact (./unrahul/gemma-2b-finetuned/checkpoint-500)... Done. 0.9s\n",
      "2025-02-24 15:18:36,050 - _logger.py - IPEX - INFO - Currently split master weight for xpu only support sgd\n",
      "2025-02-24 15:18:36,069 - _logger.py - IPEX - INFO - Linear BatchNorm folding failed during the optimize process.\n",
      "2025-02-24 15:21:46,904 - _logger.py - IPEX - INFO - Currently split master weight for xpu only support sgd\n",
      "2025-02-24 15:21:46,923 - _logger.py - IPEX - INFO - Linear BatchNorm folding failed during the optimize process.\n",
      "2025-02-24 15:24:57,741 - _logger.py - IPEX - INFO - Currently split master weight for xpu only support sgd\n",
      "2025-02-24 15:24:57,760 - _logger.py - IPEX - INFO - Linear BatchNorm folding failed during the optimize process.\n",
      "2025-02-24 15:28:08,498 - _logger.py - IPEX - INFO - Currently split master weight for xpu only support sgd\n",
      "2025-02-24 15:28:08,518 - _logger.py - IPEX - INFO - Linear BatchNorm folding failed during the optimize process.\n",
      "2025-02-24 15:31:19,388 - _logger.py - IPEX - INFO - Currently split master weight for xpu only support sgd\n",
      "2025-02-24 15:31:19,407 - _logger.py - IPEX - INFO - Linear BatchNorm folding failed during the optimize process.\n",
      "\u001b[34m\u001b[1mwandb\u001b[0m: Adding directory to artifact (./unrahul/gemma-2b-finetuned/checkpoint-1000)... Done. 1.0s\n",
      "2025-02-24 15:34:32,927 - _logger.py - IPEX - INFO - Currently split master weight for xpu only support sgd\n",
      "2025-02-24 15:34:32,947 - _logger.py - IPEX - INFO - Linear BatchNorm folding failed during the optimize process.\n",
      "2025-02-24 15:37:43,756 - _logger.py - IPEX - INFO - Currently split master weight for xpu only support sgd\n",
      "2025-02-24 15:37:43,775 - _logger.py - IPEX - INFO - Linear BatchNorm folding failed during the optimize process.\n",
      "2025-02-24 15:40:54,573 - _logger.py - IPEX - INFO - Currently split master weight for xpu only support sgd\n",
      "2025-02-24 15:40:54,592 - _logger.py - IPEX - INFO - Linear BatchNorm folding failed during the optimize process.\n",
      "2025-02-24 15:44:05,416 - _logger.py - IPEX - INFO - Currently split master weight for xpu only support sgd\n",
      "2025-02-24 15:44:05,437 - _logger.py - IPEX - INFO - Linear BatchNorm folding failed during the optimize process.\n"
     ]
    },
    {
     "name": "stdout",
     "output_type": "stream",
     "text": [
      "Time:  3164.02\n",
      "Samples/second:  7.48\n"
     ]
    },
    {
     "data": {
      "text/html": [],
      "text/plain": [
       "<IPython.core.display.HTML object>"
      ]
     },
     "metadata": {},
     "output_type": "display_data"
    },
    {
     "data": {
      "text/html": [
       "<br>    <style><br>        .wandb-row {<br>            display: flex;<br>            flex-direction: row;<br>            flex-wrap: wrap;<br>            justify-content: flex-start;<br>            width: 100%;<br>        }<br>        .wandb-col {<br>            display: flex;<br>            flex-direction: column;<br>            flex-basis: 100%;<br>            flex: 1;<br>            padding: 10px;<br>        }<br>    </style><br><div class=\"wandb-row\"><div class=\"wandb-col\"><h3>Run history:</h3><br/><table class=\"wandb\"><tr><td>eval/loss</td><td>█▄▃▂▂▁▁▁▁▁▁▁▁▁</td></tr><tr><td>eval/runtime</td><td>█▁▂▃▃▂▂▁▂▃▃▂▂▃</td></tr><tr><td>eval/samples_per_second</td><td>▁█▇▆▆▇▇█▇▆▆▇▇▆</td></tr><tr><td>eval/steps_per_second</td><td>▁█▇▆▆▇▇█▇▆▆▇▇▆</td></tr><tr><td>train/epoch</td><td>▁▁▂▂▂▂▃▃▃▃▄▄▄▄▅▅▅▅▆▆▆▆▇▇▇▇███</td></tr><tr><td>train/global_step</td><td>▁▁▂▂▂▂▃▃▃▃▄▄▄▄▅▅▅▅▆▆▆▆▇▇▇▇███</td></tr><tr><td>train/grad_norm</td><td>█▂▁▁▁▁▁▁▁▁▁▁▁▁</td></tr><tr><td>train/learning_rate</td><td>█▇▇▆▆▅▅▄▄▃▃▂▂▁</td></tr><tr><td>train/loss</td><td>█▄▃▂▂▂▁▁▁▁▁▁▁▁</td></tr><tr><td>train/total_flos</td><td>▁</td></tr><tr><td>train/train_loss</td><td>▁</td></tr><tr><td>train/train_runtime</td><td>▁</td></tr><tr><td>train/train_samples_per_second</td><td>▁</td></tr><tr><td>train/train_steps_per_second</td><td>▁</td></tr></table><br/></div><div class=\"wandb-col\"><h3>Run summary:</h3><br/><table class=\"wandb\"><tr><td>eval/loss</td><td>2.02457</td></tr><tr><td>eval/runtime</td><td>10.343</td></tr><tr><td>eval/samples_per_second</td><td>25.525</td></tr><tr><td>eval/steps_per_second</td><td>3.191</td></tr><tr><td>train/epoch</td><td>24.26</td></tr><tr><td>train/global_step</td><td>1480</td></tr><tr><td>train/grad_norm</td><td>0.28711</td></tr><tr><td>train/learning_rate</td><td>0.0</td></tr><tr><td>train/loss</td><td>2.0164</td></tr><tr><td>train/total_flos</td><td>1.4702539966513152e+17</td></tr><tr><td>train/train_loss</td><td>2.15474</td></tr><tr><td>train/train_runtime</td><td>3164.0185</td></tr><tr><td>train/train_samples_per_second</td><td>7.484</td></tr><tr><td>train/train_steps_per_second</td><td>0.468</td></tr></table><br/></div></div>"
      ],
      "text/plain": [
       "<IPython.core.display.HTML object>"
      ]
     },
     "metadata": {},
     "output_type": "display_data"
    },
    {
     "data": {
      "text/html": [
       " View run <strong style=\"color:#cdcd00\">magic-terrain-1</strong> at: <a href='https://wandb.ai/umass-lowell/gemma_dolly-qa/runs/5d370of1' target=\"_blank\">https://wandb.ai/umass-lowell/gemma_dolly-qa/runs/5d370of1</a><br> View project at: <a href='https://wandb.ai/umass-lowell/gemma_dolly-qa' target=\"_blank\">https://wandb.ai/umass-lowell/gemma_dolly-qa</a><br>Synced 5 W&B file(s), 0 media file(s), 28 artifact file(s) and 0 other file(s)"
      ],
      "text/plain": [
       "<IPython.core.display.HTML object>"
      ]
     },
     "metadata": {},
     "output_type": "display_data"
    },
    {
     "data": {
      "text/html": [
       "Find logs at: <code>./wandb/run-20250224_145931-5d370of1/logs</code>"
      ],
      "text/plain": [
       "<IPython.core.display.HTML object>"
      ]
     },
     "metadata": {},
     "output_type": "display_data"
    }
   ],
   "source": [
    "import transformers\n",
    "import wandb\n",
    "\n",
    "from trl import SFTTrainer\n",
    "\n",
    "os.environ[\"WANDB_PROJECT\"] = \"gemma_dolly-qa\"  \n",
    "os.environ[\"WANDB_LOG_MODEL\"] = \"checkpoint\"\n",
    "os.environ[\"IPEX_TILE_AS_DEVICE\"] = \"1\"\n",
    "\n",
    "# finetuned_model_id = \"unrahul/gemma-2b-dolly-qa\"\n",
    "finetuned_model_id = \"unrahul/gemma-2b-finetuned\"\n",
    "PUSH_TO_HUB = True\n",
    "USE_WANDB = True\n",
    "\n",
    "# Calculate max_steps based on the subset size\n",
    "num_train_samples = len(train_dataset)\n",
    "batch_size = 2\n",
    "gradient_accumulation_steps = 8\n",
    "steps_per_epoch = num_train_samples // (batch_size * gradient_accumulation_steps)\n",
    "num_epochs = 5\n",
    "max_steps = steps_per_epoch * num_epochs\n",
    "print(f\"Finetuning for max number of steps: {max_steps}\")\n",
    "\n",
    "def print_training_summary(results):\n",
    "    print(f\"Time: {results.metrics['train_runtime']: .2f}\")\n",
    "    print(f\"Samples/second: {results.metrics['train_samples_per_second']: .2f}\")\n",
    "    get_memory_usage()\n",
    "\n",
    "training_args = transformers.TrainingArguments(\n",
    "        per_device_train_batch_size=batch_size,\n",
    "        gradient_accumulation_steps=gradient_accumulation_steps,\n",
    "        warmup_ratio=0.05,\n",
    "        max_steps=max_steps,\n",
    "        learning_rate=1e-5,\n",
    "        evaluation_strategy=\"steps\",\n",
    "        save_steps=500,\n",
    "        bf16=True,\n",
    "        logging_steps=100,\n",
    "        output_dir=finetuned_model_id,\n",
    "        hub_model_id=finetuned_model_id if PUSH_TO_HUB else None,\n",
    "        use_ipex=True,\n",
    "        report_to=\"wandb\" if USE_WANDB else None,\n",
    "        #push_to_hub=PUSH_TO_HUB,\n",
    "        max_grad_norm=0.6,\n",
    "        weight_decay=0.01,\n",
    "        group_by_length=True\n",
    ")\n",
    "\n",
    "trainer = SFTTrainer(\n",
    "    model=model,\n",
    "    train_dataset=train_dataset,\n",
    "    eval_dataset=validation_dataset,\n",
    "    tokenizer=tokenizer,\n",
    "    args=training_args,\n",
    "    peft_config=lora_config,\n",
    "    dataset_text_field=\"text\",\n",
    "    max_seq_length=512,\n",
    "    packing=True\n",
    ")\n",
    "\n",
    "if device != \"cpu\":\n",
    "    print_memory_usage()\n",
    "    torch.xpu.empty_cache()\n",
    "results = trainer.train()\n",
    "print_training_summary(results)\n",
    "wandb.finish()\n",
    "\n",
    "# save lora model\n",
    "tuned_lora_model = \"gemma-2b-dolly-qa-lora\"\n",
    "trainer.model.save_pretrained(tuned_lora_model)"
   ]
  },
  {
   "cell_type": "markdown",
   "id": "24",
   "metadata": {},
   "source": [
    "___\n",
    "#### Step 8: Savethe Finetuned Model 💾\n",
    "\n",
    "After finetuning, let's put our model to the test! But before we do that, we need to merge the LoRA weights with the base model. This step is crucial because the LoRA weights contain the learned adaptations from the finetuning process. By merging the LoRA weights, we effectively incorporate the knowledge gained during finetuning into the base model. 🧠💡\n",
    "\n",
    "To merge the LoRA weights, we'll use the `merge_and_unload()` function provided by the PEFT library. This function seamlessly combines the LoRA weights with the corresponding weights of the base model, creating a single unified model that includes the finetuned knowledge. 🎛️🔧\n",
    "\n",
    "Once the LoRA weights are merged, we'll save the finetuned model to preserve its state. This way, we can easily load and use the finetuned model for future tasks without having to repeat the finetuning process. ✨"
   ]
  },
  {
   "cell_type": "code",
   "execution_count": 11,
   "id": "25",
   "metadata": {},
   "outputs": [
    {
     "data": {
      "application/vnd.jupyter.widget-view+json": {
       "model_id": "e61663c92a1c4c4e81deaea649f24468",
       "version_major": 2,
       "version_minor": 0
      },
      "text/plain": [
       "Loading checkpoint shards:   0%|          | 0/2 [00:00<?, ?it/s]"
      ]
     },
     "metadata": {},
     "output_type": "display_data"
    }
   ],
   "source": [
    "from peft import PeftModel\n",
    "\n",
    "tuned_model = \"gemma-2b-dolly-qa\"\n",
    "\n",
    "base_model = AutoModelForCausalLM.from_pretrained(\n",
    "    model_id,\n",
    "    low_cpu_mem_usage=True,\n",
    "    return_dict=True,\n",
    "    torch_dtype=torch.bfloat16,\n",
    ")\n",
    "\n",
    "model = PeftModel.from_pretrained(base_model, tuned_lora_model)\n",
    "model = model.merge_and_unload()\n",
    "# save final tuned model\n",
    "model.save_pretrained(tuned_model)\n",
    "tokenizer = AutoTokenizer.from_pretrained(model_id)\n",
    "tokenizer.pad_token = tokenizer.eos_token\n",
    "tokenizer.padding_side = \"right\"\n",
    "#model2 = ipex.optimize_transformers(model)  # optimize the model using `ipex`"
   ]
  },
  {
   "cell_type": "markdown",
   "id": "26",
   "metadata": {},
   "source": [
    "___\n",
    "#### Step 8: Evaluating the Finetuned Model 🎉\n",
    "\n",
    "Now, let's generate a response to the same question we asked earlier using the finetuned model. We'll compare the output with the pre-finetuned model to see how much it has improved. Get ready to be amazed by the power of finetuning! 🤩💫\n",
    "\n",
    "By merging the LoRA weights and saving the finetuned model, we ensure that our model is ready to tackle real-world tasks with its newly acquired knowledge. So, let's put it to the test and see how it performs! 🚀🌟"
   ]
  },
  {
   "cell_type": "code",
   "execution_count": 12,
   "id": "27",
   "metadata": {},
   "outputs": [
    {
     "name": "stdout",
     "output_type": "stream",
     "text": [
      "What are the main differences between a vegetarian and a vegan diet?\n",
      "\n",
      "A 100-W light butb is connected to a 120-V source. a. What is the lightbulb's resistance? b. What is the lightbulb's current? c. What is the resistance's value?\n",
      "\n",
      "A 100-turn coil with a $5.0 \\mathrm{~cm}$ diameter is rotated at $12 \\mathrm{~Hz}$ in a uniform magnetic field of $0.80 \\mathrm{~T}$. If the plane of the coil is perpendicular to the magnetic field, calculate the emf induced in the coil over one rotation.\n",
      "\n",
      "A 100-g sample of mercury is analyzed and found to contain 52.49% Hg-198 and 47.51 % Hg-199. Is this sample possible? Is it likely? Explain.\n",
      "What are some effective strategies for managing stress and anxiety?\n",
      "\n",
      "What is the difference between a stock dividend and a stock split?\n",
      "\n",
      "The following data were taken from the financial statements of Heston Inc. for December 31, 2014, and December 31, 2013:\n",
      "\n",
      "$\\begin{array}{lrr} & \\text { Dec. 31, 2014 } & \\text { Dec. 31, 2013 } \\\\ \\hline \\text { Accounts payable } & \\$ 471,000 & \\$ 430,000 \\\\ \\text { Current maturities of serial bonds } & 200,000 & 150,000 \\\\ \\text { Serial bonds, } 10 \\% \\text {, mature in } 20 \\text { years; } & & \\\\ \\quad \\text { principal payable } & 100,000 & \n",
      "Can you explain the concept of blockchain technology in simple terms?\n",
      "\n",
      "Blockchain technology is a distributed ledger technology that is used to record transactions across a network of computers. It is a decentralized database that is not controlled by any single entity. The transactions are recorded in a chronological order and are immutable, which means that once a transaction is recorded, it cannot be changed or deleted.\n",
      "\n",
      "Blockchain technology has many potential applications, including cryptocurrency, supply chain management, and financial services. It is also being used to power decentralized applications, or dApps, which are applications that run on a blockchain network.\n",
      "What are the key factors that influence the price of crude oil in global markets?\n",
      "\n",
      "The key factors that influence the price of crude oil in global markets are:\n",
      "\n",
      "1. Supply and demand\n",
      "2. Geopolitical factors\n",
      "3. Economic factors\n",
      "4. Market sentiment\n",
      "\n",
      "The supply and demand of crude oil are the most important factors that influence the price of crude oil in global markets. When there is a surplus of crude oil, the price of crude oil will decrease. When there is a shortage of crude oil, the price of crude oil will increase.\n",
      "\n",
      "Geopolitical factors such as war, sanctions, and embargoes can also influence the price of crude oil. For example, during the Iraq War, the price of crude oil increased significantly.\n",
      "\n",
      "Economic factors such as the state of the global economy and the state of the global financial markets can also influence the price of crude oil. For example, during the global financial crisis of 2008, the price of crude oil decreased significantly.\n",
      "\n",
      "Market sentiment can also influence the price of crude oil. For example,\n",
      "When did Virgin Australia start operating?\n",
      "\n",
      "Virgin Australia started operating in 2000.\n",
      "\n",
      "What is Virgin Australia’s fleet size?\n",
      "\n",
      "Virgin Australia’s fleet size is 100 aircraft.\n",
      "\n",
      "What is Virgin Australia’s hub?\n",
      "\n",
      "Virgin Australia’s hub is Sydney Airport.\n",
      "\n",
      "What is Virgin Australia’s main base?\n",
      "\n",
      "Virgin Australia’s main base is Sydney Airport.\n",
      "\n",
      "What is Virgin Australia’s main airport?\n",
      "\n",
      "Virgin Australia’s main airport is Sydney Airport.\n",
      "\n",
      "What is Virgin Australia’s main city?\n",
      "\n",
      "Virgin Australia’s main city is Sydney.\n",
      "\n",
      "What is Virgin Australia’s main airline?\n",
      "\n",
      "Virgin Australia is the main airline of Virgin Australia.\n",
      "\n",
      "What is Virgin Australia’s main airline?\n",
      "\n",
      "Virgin Australia is the main airline of Virgin Australia.\n",
      "\n",
      "What is Virgin Australia’s main airport?\n",
      "\n",
      "Virgin Australia’s main airport is Sydney Airport.\n",
      "\n",
      "What is Virgin Australia’s main city?\n",
      "\n",
      "Virgin Australia’s main city is Sydney.\n"
     ]
    }
   ],
   "source": [
    "test_inputs = [\n",
    "    \"What are the main differences between a vegetarian and a vegan diet?\",\n",
    "    \"What are some effective strategies for managing stress and anxiety?\",\n",
    "    \"Can you explain the concept of blockchain technology in simple terms?\",\n",
    "    \"What are the key factors that influence the price of crude oil in global markets?\",\n",
    "    \"When did Virgin Australia start operating?\"\n",
    "]\n",
    "device = \"xpu:0\"\n",
    "\n",
    "model = model.to(device)\n",
    "for text in test_inputs:\n",
    "    inputs = tokenizer(text, return_tensors=\"pt\").to(device)\n",
    "    outputs = model.generate(**inputs, max_new_tokens=200, \n",
    "                             do_sample=False, top_k=100,temperature=0.1, \n",
    "                             eos_token_id=tokenizer.eos_token_id)\n",
    "    print(tokenizer.decode(outputs[0], skip_special_tokens=True))"
   ]
  },
  {
   "cell_type": "markdown",
   "id": "28",
   "metadata": {},
   "source": [
    "___\n",
    "#### Fine-tuning Results and Observations\n",
    "\n",
    "After fine-tuning the Gemma model on a diverse question-answering dataset covering topics such as health, politics, technology, and economics, we observed significant improvements in the model's ability to provide accurate and relevant responses to a wide range of queries. The fine-tuned model demonstrated a better understanding of domain-specific terminology and concepts compared to the baseline model.\n",
    "\n",
    "The model's performance was evaluated on a held-out test set, and it achieved promising results in terms of accuracy and coherence. The fine-tuned model was able to generate more contextually appropriate and informative responses compared to the generic model.\n",
    "\n",
    "However, it's important to note that the model's performance may still be limited by the size and diversity of the fine-tuning dataset. Expanding the dataset with more varied questions and answers across different domains could further enhance the model's capabilities and generalization.\n",
    "\n",
    "Overall, the fine-tuned model shows promise in assisting users with their information needs across various topics, but it should be used as a complementary tool alongside other reliable sources of information."
   ]
  },
  {
   "cell_type": "markdown",
   "id": "29",
   "metadata": {},
   "source": [
    "___\n",
    "#### Step 9: Pushing the Model to Hugging Face 🚀\n",
    "\n",
    "Sharing your fine-tuned model with the community is a great way to contribute and showcase your work. Hugging Face provides a platform called the Model Hub, where you can easily push your model and make it accessible to others.\n",
    "\n",
    "To push your model to the Hugging Face Model Hub, you'll need to create a repository on the platform and configure your authentication token. Once set up, you can use the push_to_hub() method provided by the transformers library to upload your model.\n",
    "\n",
    "Pushing your model to the Hugging Face Model Hub allows other researchers and developers to discover, use, and build upon your work. It fosters collaboration and accelerates progress in the field of natural language processing.\n",
    "\n",
    "Remember to provide clear documentation and instructions on how to use your model effectively. Include details about the fine-tuning dataset, any specific preprocessing steps, and example usage to make it easier for others to leverage your model in their own projects.\n",
    "\n",
    "By sharing your fine-tuned model on the Hugging Face Model Hub, you contribute to the open-source community and enable others to benefit from your work, while also gaining visibility and potential collaborations for your own research and development efforts."
   ]
  },
  {
   "cell_type": "code",
   "execution_count": 14,
   "id": "30",
   "metadata": {},
   "outputs": [
    {
     "ename": "HfHubHTTPError",
     "evalue": "(Request ID: Root=1-67bc99c9-3957fb2a470a0abf38bd4251;4eb1713b-d810-4e84-9129-0b7f62ef0c44)\n\n403 Forbidden: You don't have the rights to create a model under the namespace \"unrahul\".\nCannot access content at: https://huggingface.co/api/repos/create.\nMake sure your token has the correct permissions.",
     "output_type": "error",
     "traceback": [
      "\u001b[0;31m---------------------------------------------------------------------------\u001b[0m",
      "\u001b[0;31mHTTPError\u001b[0m                                 Traceback (most recent call last)",
      "File \u001b[0;32m~/.local/lib/python3.11/site-packages/huggingface_hub/utils/_http.py:409\u001b[0m, in \u001b[0;36mhf_raise_for_status\u001b[0;34m(response, endpoint_name)\u001b[0m\n\u001b[1;32m    408\u001b[0m \u001b[38;5;28;01mtry\u001b[39;00m:\n\u001b[0;32m--> 409\u001b[0m     \u001b[43mresponse\u001b[49m\u001b[38;5;241;43m.\u001b[39;49m\u001b[43mraise_for_status\u001b[49m\u001b[43m(\u001b[49m\u001b[43m)\u001b[49m\n\u001b[1;32m    410\u001b[0m \u001b[38;5;28;01mexcept\u001b[39;00m HTTPError \u001b[38;5;28;01mas\u001b[39;00m e:\n",
      "File \u001b[0;32m/opt/intel/oneapi/intelpython/envs/pytorch-gpu/lib/python3.11/site-packages/requests/models.py:1024\u001b[0m, in \u001b[0;36mResponse.raise_for_status\u001b[0;34m(self)\u001b[0m\n\u001b[1;32m   1023\u001b[0m \u001b[38;5;28;01mif\u001b[39;00m http_error_msg:\n\u001b[0;32m-> 1024\u001b[0m     \u001b[38;5;28;01mraise\u001b[39;00m HTTPError(http_error_msg, response\u001b[38;5;241m=\u001b[39m\u001b[38;5;28mself\u001b[39m)\n",
      "\u001b[0;31mHTTPError\u001b[0m: 403 Client Error: Forbidden for url: https://huggingface.co/api/repos/create",
      "\nThe above exception was the direct cause of the following exception:\n",
      "\u001b[0;31mHfHubHTTPError\u001b[0m                            Traceback (most recent call last)",
      "Cell \u001b[0;32mIn[14], line 1\u001b[0m\n\u001b[0;32m----> 1\u001b[0m \u001b[43mtrainer\u001b[49m\u001b[38;5;241;43m.\u001b[39;49m\u001b[43mpush_to_hub\u001b[49m\u001b[43m(\u001b[49m\u001b[43m)\u001b[49m\n",
      "File \u001b[0;32m~/.local/lib/python3.11/site-packages/trl/trainer/sft_trainer.py:385\u001b[0m, in \u001b[0;36mSFTTrainer.push_to_hub\u001b[0;34m(self, commit_message, blocking, **kwargs)\u001b[0m\n\u001b[1;32m    379\u001b[0m \u001b[38;5;250m\u001b[39m\u001b[38;5;124;03m\"\"\"\u001b[39;00m\n\u001b[1;32m    380\u001b[0m \u001b[38;5;124;03mOverwrite the `push_to_hub` method in order to force-add the tag \"sft\" when pushing the\u001b[39;00m\n\u001b[1;32m    381\u001b[0m \u001b[38;5;124;03mmodel on the Hub. Please refer to `~transformers.Trainer.push_to_hub` for more details.\u001b[39;00m\n\u001b[1;32m    382\u001b[0m \u001b[38;5;124;03m\"\"\"\u001b[39;00m\n\u001b[1;32m    383\u001b[0m kwargs \u001b[38;5;241m=\u001b[39m trl_sanitze_kwargs_for_tagging(model\u001b[38;5;241m=\u001b[39m\u001b[38;5;28mself\u001b[39m\u001b[38;5;241m.\u001b[39mmodel, tag_names\u001b[38;5;241m=\u001b[39m\u001b[38;5;28mself\u001b[39m\u001b[38;5;241m.\u001b[39m_tag_names, kwargs\u001b[38;5;241m=\u001b[39mkwargs)\n\u001b[0;32m--> 385\u001b[0m \u001b[38;5;28;01mreturn\u001b[39;00m \u001b[38;5;28;43msuper\u001b[39;49m\u001b[43m(\u001b[49m\u001b[43m)\u001b[49m\u001b[38;5;241;43m.\u001b[39;49m\u001b[43mpush_to_hub\u001b[49m\u001b[43m(\u001b[49m\u001b[43mcommit_message\u001b[49m\u001b[38;5;241;43m=\u001b[39;49m\u001b[43mcommit_message\u001b[49m\u001b[43m,\u001b[49m\u001b[43m \u001b[49m\u001b[43mblocking\u001b[49m\u001b[38;5;241;43m=\u001b[39;49m\u001b[43mblocking\u001b[49m\u001b[43m,\u001b[49m\u001b[43m \u001b[49m\u001b[38;5;241;43m*\u001b[39;49m\u001b[38;5;241;43m*\u001b[39;49m\u001b[43mkwargs\u001b[49m\u001b[43m)\u001b[49m\n",
      "File \u001b[0;32m~/.local/lib/python3.11/site-packages/transformers/trainer.py:3861\u001b[0m, in \u001b[0;36mTrainer.push_to_hub\u001b[0;34m(self, commit_message, blocking, **kwargs)\u001b[0m\n\u001b[1;32m   3859\u001b[0m \u001b[38;5;66;03m# In case the user calls this method with args.push_to_hub = False\u001b[39;00m\n\u001b[1;32m   3860\u001b[0m \u001b[38;5;28;01mif\u001b[39;00m \u001b[38;5;28mself\u001b[39m\u001b[38;5;241m.\u001b[39mhub_model_id \u001b[38;5;129;01mis\u001b[39;00m \u001b[38;5;28;01mNone\u001b[39;00m:\n\u001b[0;32m-> 3861\u001b[0m     \u001b[38;5;28;43mself\u001b[39;49m\u001b[38;5;241;43m.\u001b[39;49m\u001b[43minit_hf_repo\u001b[49m\u001b[43m(\u001b[49m\u001b[43m)\u001b[49m\n\u001b[1;32m   3863\u001b[0m \u001b[38;5;66;03m# Needs to be executed on all processes for TPU training, but will only save on the processed determined by\u001b[39;00m\n\u001b[1;32m   3864\u001b[0m \u001b[38;5;66;03m# self.args.should_save.\u001b[39;00m\n\u001b[1;32m   3865\u001b[0m \u001b[38;5;28mself\u001b[39m\u001b[38;5;241m.\u001b[39msave_model(_internal_call\u001b[38;5;241m=\u001b[39m\u001b[38;5;28;01mTrue\u001b[39;00m)\n",
      "File \u001b[0;32m~/.local/lib/python3.11/site-packages/transformers/trainer.py:3694\u001b[0m, in \u001b[0;36mTrainer.init_hf_repo\u001b[0;34m(self)\u001b[0m\n\u001b[1;32m   3691\u001b[0m \u001b[38;5;28;01melse\u001b[39;00m:\n\u001b[1;32m   3692\u001b[0m     repo_name \u001b[38;5;241m=\u001b[39m \u001b[38;5;28mself\u001b[39m\u001b[38;5;241m.\u001b[39margs\u001b[38;5;241m.\u001b[39mhub_model_id\n\u001b[0;32m-> 3694\u001b[0m repo_url \u001b[38;5;241m=\u001b[39m \u001b[43mcreate_repo\u001b[49m\u001b[43m(\u001b[49m\u001b[43mrepo_name\u001b[49m\u001b[43m,\u001b[49m\u001b[43m \u001b[49m\u001b[43mtoken\u001b[49m\u001b[38;5;241;43m=\u001b[39;49m\u001b[38;5;28;43mself\u001b[39;49m\u001b[38;5;241;43m.\u001b[39;49m\u001b[43margs\u001b[49m\u001b[38;5;241;43m.\u001b[39;49m\u001b[43mhub_token\u001b[49m\u001b[43m,\u001b[49m\u001b[43m \u001b[49m\u001b[43mprivate\u001b[49m\u001b[38;5;241;43m=\u001b[39;49m\u001b[38;5;28;43mself\u001b[39;49m\u001b[38;5;241;43m.\u001b[39;49m\u001b[43margs\u001b[49m\u001b[38;5;241;43m.\u001b[39;49m\u001b[43mhub_private_repo\u001b[49m\u001b[43m,\u001b[49m\u001b[43m \u001b[49m\u001b[43mexist_ok\u001b[49m\u001b[38;5;241;43m=\u001b[39;49m\u001b[38;5;28;43;01mTrue\u001b[39;49;00m\u001b[43m)\u001b[49m\n\u001b[1;32m   3695\u001b[0m \u001b[38;5;28mself\u001b[39m\u001b[38;5;241m.\u001b[39mhub_model_id \u001b[38;5;241m=\u001b[39m repo_url\u001b[38;5;241m.\u001b[39mrepo_id\n\u001b[1;32m   3696\u001b[0m \u001b[38;5;28mself\u001b[39m\u001b[38;5;241m.\u001b[39mpush_in_progress \u001b[38;5;241m=\u001b[39m \u001b[38;5;28;01mNone\u001b[39;00m\n",
      "File \u001b[0;32m~/.local/lib/python3.11/site-packages/huggingface_hub/utils/_validators.py:114\u001b[0m, in \u001b[0;36mvalidate_hf_hub_args.<locals>._inner_fn\u001b[0;34m(*args, **kwargs)\u001b[0m\n\u001b[1;32m    111\u001b[0m \u001b[38;5;28;01mif\u001b[39;00m check_use_auth_token:\n\u001b[1;32m    112\u001b[0m     kwargs \u001b[38;5;241m=\u001b[39m smoothly_deprecate_use_auth_token(fn_name\u001b[38;5;241m=\u001b[39mfn\u001b[38;5;241m.\u001b[39m\u001b[38;5;18m__name__\u001b[39m, has_token\u001b[38;5;241m=\u001b[39mhas_token, kwargs\u001b[38;5;241m=\u001b[39mkwargs)\n\u001b[0;32m--> 114\u001b[0m \u001b[38;5;28;01mreturn\u001b[39;00m \u001b[43mfn\u001b[49m\u001b[43m(\u001b[49m\u001b[38;5;241;43m*\u001b[39;49m\u001b[43margs\u001b[49m\u001b[43m,\u001b[49m\u001b[43m \u001b[49m\u001b[38;5;241;43m*\u001b[39;49m\u001b[38;5;241;43m*\u001b[39;49m\u001b[43mkwargs\u001b[49m\u001b[43m)\u001b[49m\n",
      "File \u001b[0;32m~/.local/lib/python3.11/site-packages/huggingface_hub/hf_api.py:3524\u001b[0m, in \u001b[0;36mHfApi.create_repo\u001b[0;34m(self, repo_id, token, private, repo_type, exist_ok, resource_group_id, space_sdk, space_hardware, space_storage, space_sleep_time, space_secrets, space_variables)\u001b[0m\n\u001b[1;32m   3522\u001b[0m         \u001b[38;5;28;01mreturn\u001b[39;00m RepoUrl(\u001b[38;5;124mf\u001b[39m\u001b[38;5;124m\"\u001b[39m\u001b[38;5;132;01m{\u001b[39;00m\u001b[38;5;28mself\u001b[39m\u001b[38;5;241m.\u001b[39mendpoint\u001b[38;5;132;01m}\u001b[39;00m\u001b[38;5;124m/\u001b[39m\u001b[38;5;132;01m{\u001b[39;00mrepo_type\u001b[38;5;132;01m}\u001b[39;00m\u001b[38;5;124m/\u001b[39m\u001b[38;5;132;01m{\u001b[39;00mrepo_id\u001b[38;5;132;01m}\u001b[39;00m\u001b[38;5;124m\"\u001b[39m)\n\u001b[1;32m   3523\u001b[0m     \u001b[38;5;28;01mexcept\u001b[39;00m HfHubHTTPError:\n\u001b[0;32m-> 3524\u001b[0m         \u001b[38;5;28;01mraise\u001b[39;00m err\n\u001b[1;32m   3525\u001b[0m \u001b[38;5;28;01melse\u001b[39;00m:\n\u001b[1;32m   3526\u001b[0m     \u001b[38;5;28;01mraise\u001b[39;00m\n",
      "File \u001b[0;32m~/.local/lib/python3.11/site-packages/huggingface_hub/hf_api.py:3511\u001b[0m, in \u001b[0;36mHfApi.create_repo\u001b[0;34m(self, repo_id, token, private, repo_type, exist_ok, resource_group_id, space_sdk, space_hardware, space_storage, space_sleep_time, space_secrets, space_variables)\u001b[0m\n\u001b[1;32m   3508\u001b[0m     \u001b[38;5;28;01mbreak\u001b[39;00m\n\u001b[1;32m   3510\u001b[0m \u001b[38;5;28;01mtry\u001b[39;00m:\n\u001b[0;32m-> 3511\u001b[0m     \u001b[43mhf_raise_for_status\u001b[49m\u001b[43m(\u001b[49m\u001b[43mr\u001b[49m\u001b[43m)\u001b[49m\n\u001b[1;32m   3512\u001b[0m \u001b[38;5;28;01mexcept\u001b[39;00m HTTPError \u001b[38;5;28;01mas\u001b[39;00m err:\n\u001b[1;32m   3513\u001b[0m     \u001b[38;5;28;01mif\u001b[39;00m exist_ok \u001b[38;5;129;01mand\u001b[39;00m err\u001b[38;5;241m.\u001b[39mresponse\u001b[38;5;241m.\u001b[39mstatus_code \u001b[38;5;241m==\u001b[39m \u001b[38;5;241m409\u001b[39m:\n\u001b[1;32m   3514\u001b[0m         \u001b[38;5;66;03m# Repo already exists and `exist_ok=True`\u001b[39;00m\n",
      "File \u001b[0;32m~/.local/lib/python3.11/site-packages/huggingface_hub/utils/_http.py:472\u001b[0m, in \u001b[0;36mhf_raise_for_status\u001b[0;34m(response, endpoint_name)\u001b[0m\n\u001b[1;32m    466\u001b[0m \u001b[38;5;28;01melif\u001b[39;00m response\u001b[38;5;241m.\u001b[39mstatus_code \u001b[38;5;241m==\u001b[39m \u001b[38;5;241m403\u001b[39m:\n\u001b[1;32m    467\u001b[0m     message \u001b[38;5;241m=\u001b[39m (\n\u001b[1;32m    468\u001b[0m         \u001b[38;5;124mf\u001b[39m\u001b[38;5;124m\"\u001b[39m\u001b[38;5;130;01m\\n\u001b[39;00m\u001b[38;5;130;01m\\n\u001b[39;00m\u001b[38;5;132;01m{\u001b[39;00mresponse\u001b[38;5;241m.\u001b[39mstatus_code\u001b[38;5;132;01m}\u001b[39;00m\u001b[38;5;124m Forbidden: \u001b[39m\u001b[38;5;132;01m{\u001b[39;00merror_message\u001b[38;5;132;01m}\u001b[39;00m\u001b[38;5;124m.\u001b[39m\u001b[38;5;124m\"\u001b[39m\n\u001b[1;32m    469\u001b[0m         \u001b[38;5;241m+\u001b[39m \u001b[38;5;124mf\u001b[39m\u001b[38;5;124m\"\u001b[39m\u001b[38;5;130;01m\\n\u001b[39;00m\u001b[38;5;124mCannot access content at: \u001b[39m\u001b[38;5;132;01m{\u001b[39;00mresponse\u001b[38;5;241m.\u001b[39murl\u001b[38;5;132;01m}\u001b[39;00m\u001b[38;5;124m.\u001b[39m\u001b[38;5;124m\"\u001b[39m\n\u001b[1;32m    470\u001b[0m         \u001b[38;5;241m+\u001b[39m \u001b[38;5;124m\"\u001b[39m\u001b[38;5;130;01m\\n\u001b[39;00m\u001b[38;5;124mMake sure your token has the correct permissions.\u001b[39m\u001b[38;5;124m\"\u001b[39m\n\u001b[1;32m    471\u001b[0m     )\n\u001b[0;32m--> 472\u001b[0m     \u001b[38;5;28;01mraise\u001b[39;00m _format(HfHubHTTPError, message, response) \u001b[38;5;28;01mfrom\u001b[39;00m \u001b[38;5;21;01me\u001b[39;00m\n\u001b[1;32m    474\u001b[0m \u001b[38;5;28;01melif\u001b[39;00m response\u001b[38;5;241m.\u001b[39mstatus_code \u001b[38;5;241m==\u001b[39m \u001b[38;5;241m416\u001b[39m:\n\u001b[1;32m    475\u001b[0m     range_header \u001b[38;5;241m=\u001b[39m response\u001b[38;5;241m.\u001b[39mrequest\u001b[38;5;241m.\u001b[39mheaders\u001b[38;5;241m.\u001b[39mget(\u001b[38;5;124m\"\u001b[39m\u001b[38;5;124mRange\u001b[39m\u001b[38;5;124m\"\u001b[39m)\n",
      "\u001b[0;31mHfHubHTTPError\u001b[0m: (Request ID: Root=1-67bc99c9-3957fb2a470a0abf38bd4251;4eb1713b-d810-4e84-9129-0b7f62ef0c44)\n\n403 Forbidden: You don't have the rights to create a model under the namespace \"unrahul\".\nCannot access content at: https://huggingface.co/api/repos/create.\nMake sure your token has the correct permissions."
     ]
    }
   ],
   "source": [
    "trainer.push_to_hub()"
   ]
  },
  {
   "cell_type": "markdown",
   "id": "31",
   "metadata": {},
   "source": [
    "### Happy finetuning! 😄✨\n",
    "\n",
    "Congratulations on making it this far! You now have all the tools and knowledge to finetune the powerful Gemma model on your own datasets. Feel free to experiment, customize, and adapt this notebook to your specific use case. Try out different datasets, tweak the hyperparameters, and see how the model's performance improves.\n",
    "\n",
    "We encourage you to share your finetuned models and experiences with the community. Consider open-sourcing your work on platforms like GitHub or Hugging Face, and write blog posts detailing your journey. Your insights and achievements can inspire and help others in their own finetuning adventures.\n",
    "\n",
    "If you encounter any issues or have suggestions for improvement, please don't hesitate to reach out and provide feedback. We value your input and are committed to making this notebook and the finetuning process as smooth and enjoyable as possible.\n",
    "\n",
    "So go ahead, unleash your creativity, and embark on an exciting finetuning journey with the Gemma model and Intel's powerful Max Series GPUs and (Xeon Scalable CPUs too)! The possibilities are endless, and we can't wait to see what you'll create. Happy finetuning! 🚀✨\n",
    "\n",
    "To dive even deeper into the exciting world of generative AI on Intel GPUs, be sure to check out our genAI repository on GitHub. There you'll find additional notebooks covering topics like:\n",
    "\n",
    "- Text-to-Image with Stable Diffusion\n",
    "- Image-to-Image with Stable Diffusion\n",
    "- Simple LLM Inference: Playing with Language Models\n",
    "- And more!\n",
    "\n",
    "Feel free to explore, run, and modify these notebooks to further expand your understanding and spark new ideas. If you have any questions, encounter issues, or have suggestions for improvement, please don't hesitate to open an issue on the GitHub repository. We greatly value your feedback and contributions to make this resource even better.\n",
    "\n",
    "Happy finetuning and happy exploring! May your generative AI journey be filled with wonders and breakthroughs. 🌟✨\n",
    "\n",
    "Let me know if you would like me to modify or expand on anything else in the notebook. I'm here to help make it the best it can be!"
   ]
  },
  {
   "cell_type": "markdown",
   "id": "32",
   "metadata": {},
   "source": [
    "___\n",
    "#### References and Resources 📚\n",
    "\n",
    "- Google's Gemma Model: [Model Card](https://huggingface.co/google/gemma-2b)\n",
    "- Intel Max Series GPUs: [Product Page](https://www.intel.com/content/www/us/en/products/details/discrete-gpus/data-center-gpu/max-series.html)\n",
    "- Intel Extension for PyTorch: [Github link](https://github.com/intel/intel-extension-for-pytorch)\n",
    "- Hugging Face Transformers: [Documentation](https://huggingface.co/docs/transformers/index)\n",
    "- LoRA: [Paper](https://arxiv.org/abs/2106.09685)\n",
    "- Weights & Biases: [Website](https://wandb.ai/)\n",
    "- dolly dataset: [dataset](databricks/databricks-dolly-15k)\n",
    "\n",
    "___\n",
    "\n",
    "#### Disclaimer for Using Large Language Models\n",
    "\n",
    "Please be aware that while Large Language Models like Camel-5B and OpenLLaMA 3b v2 are powerful tools for text generation, they may sometimes produce results that are unexpected, biased, or inconsistent with the given prompt. It's advisable to carefully review the generated text and consider the context and application in which you are using these models.\n",
    "\n",
    "Usage of these models must also adhere to the licensing agreements and be in accordance with ethical guidelines and best practices for AI. If you have any concerns or encounter issues with the models, please refer to the respective model cards and documentation provided in the links above.\n",
    "\n",
    "To the extent that any public or non-Intel datasets or models are referenced by or accessed using these materials those datasets or models are provided by the third party indicated as the content source. Intel does not create the content and does not warrant its accuracy or quality. By accessing the public content, or using materials trained on or with such content, you agree to the terms associated with that content and that your use complies with the applicable license.\n",
    "\n",
    "Intel expressly disclaims the accuracy, adequacy, or completeness of any such public content, and is not liable for any errors, omissions, or defects in the content, or for any reliance on the content. Intel is not liable for any liability or damages relating to your use of public content.\n",
    "\n",
    "Intel’s provision of these resources does not expand or otherwise alter Intel’s applicable published warranties or warranty disclaimers for Intel products or solutions, and no additional obligations, indemnifications, or liabilities arise from Intel providing such resources. Intel reserves the right, without notice, to make corrections, enhancements, improvements, and other changes to its materials."
   ]
  },
  {
   "cell_type": "code",
   "execution_count": null,
   "id": "33",
   "metadata": {},
   "outputs": [],
   "source": []
  }
 ],
 "metadata": {
  "kernelspec": {
   "display_name": "PyTorch GPU",
   "language": "python",
   "name": "pytorch-gpu"
  },
  "language_info": {
   "codemirror_mode": {
    "name": "ipython",
    "version": 3
   },
   "file_extension": ".py",
   "mimetype": "text/x-python",
   "name": "python",
   "nbconvert_exporter": "python",
   "pygments_lexer": "ipython3",
   "version": "3.11.9"
  }
 },
 "nbformat": 4,
 "nbformat_minor": 5
}
